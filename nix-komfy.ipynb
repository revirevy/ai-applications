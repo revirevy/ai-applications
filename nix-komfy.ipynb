{
 "cells": [
  {
   "cell_type": "raw",
   "id": "32bf2d42",
   "metadata": {
    "execution": {
     "iopub.execute_input": "2024-10-10T09:46:56.41375Z",
     "iopub.status.busy": "2024-10-10T09:46:56.413341Z",
     "iopub.status.idle": "2024-10-10T09:47:01.269726Z",
     "shell.execute_reply": "2024-10-10T09:47:01.268541Z",
     "shell.execute_reply.started": "2024-10-10T09:46:56.413709Z"
    },
    "papermill": {
     "duration": 0.015312,
     "end_time": "2024-10-20T16:44:55.497998",
     "exception": false,
     "start_time": "2024-10-20T16:44:55.482686",
     "status": "completed"
    },
    "tags": []
   },
   "source": [
    "!apt install ncdu\n",
    "!ncdu /"
   ]
  },
  {
   "cell_type": "raw",
   "id": "94c950c0",
   "metadata": {
    "execution": {
     "iopub.execute_input": "2024-10-20T16:41:08.182325Z",
     "iopub.status.busy": "2024-10-20T16:41:08.181910Z",
     "iopub.status.idle": "2024-10-20T16:41:09.244307Z",
     "shell.execute_reply": "2024-10-20T16:41:09.243172Z",
     "shell.execute_reply.started": "2024-10-20T16:41:08.182281Z"
    },
    "papermill": {
     "duration": 0.012927,
     "end_time": "2024-10-20T16:44:55.524551",
     "exception": false,
     "start_time": "2024-10-20T16:44:55.511624",
     "status": "completed"
    },
    "tags": []
   },
   "source": [
    "!sudo rm /kaggle/working/ComfyUI -r"
   ]
  },
  {
   "cell_type": "code",
   "execution_count": 1,
   "id": "ad324d67",
   "metadata": {
    "execution": {
     "iopub.execute_input": "2024-10-20T16:44:55.552894Z",
     "iopub.status.busy": "2024-10-20T16:44:55.552155Z",
     "iopub.status.idle": "2024-10-20T16:45:43.962003Z",
     "shell.execute_reply": "2024-10-20T16:45:43.960885Z"
    },
    "papermill": {
     "duration": 48.439079,
     "end_time": "2024-10-20T16:45:43.976740",
     "exception": false,
     "start_time": "2024-10-20T16:44:55.537661",
     "status": "completed"
    },
    "tags": []
   },
   "outputs": [
    {
     "name": "stdout",
     "output_type": "stream",
     "text": [
      "\u001b[0m\u001b[01;34mFlorence2_model_2\u001b[0m/  \u001b[01;34mFlorence2_procersor_2\u001b[0m/\r\n",
      "\u001b[01;34mFlorence2_model_3\u001b[0m/  \u001b[01;34mFlorence2_procersor_3\u001b[0m/\r\n",
      "\u001b[31mERROR: Could not open requirements file: [Errno 2] No such file or directory: '/kaggle/working/ComfyUI/requirements.txt'\u001b[0m\u001b[31m\r\n",
      "\u001b[0mNote: you may need to restart the kernel to use updated packages.\n",
      "Note: you may need to restart the kernel to use updated packages.\n"
     ]
    }
   ],
   "source": [
    "%ls /kaggle/input/florence2/transformers/default/1\n",
    "\n",
    "import os\n",
    "import zipfile\n",
    "from datetime import datetime\n",
    "\n",
    "def zip_folder(folder_path, zip_path):\n",
    "    with zipfile.ZipFile(zip_path, 'w', zipfile.ZIP_DEFLATED) as zipf:\n",
    "        for root, _, files in os.walk(folder_path):\n",
    "            for file in files:\n",
    "                file_path = os.path.join(root, file)\n",
    "                arcname = os.path.relpath(file_path, folder_path)\n",
    "                zipf.write(file_path, arcname)\n",
    "\n",
    "# Example usage\n",
    "folder_to_zip = '/kaggle/working/ComfyUI/output'\n",
    "output_zip = f'/kaggle/working/output_{datetime.now():%d%m%Y_%H%M}.zip'\n",
    "# zip_folder(folder_to_zip, output_zip)\n",
    "\n",
    "import shutil\n",
    "shutil.make_archive(output_zip, 'zip', folder_to_zip)\n",
    "\n",
    "\n",
    "# Example usage\n",
    "folder_to_zip = '/kaggle/working/ComfyUI/output'\n",
    "output_zip = f'/kaggle/working/output_{datetime.now():%d%m%Y_%H%M}.zip'\n",
    "# zip_folder(folder_to_zip, output_zip)\n",
    "\n",
    "import shutil\n",
    "x_old = '/kaggle/working/old_output'\n",
    "os.makedirs(x_old,exist_ok=True)\n",
    "if os.path.exists(folder_to_zip):\n",
    "    for x in os.listdir(folder_to_zip):\n",
    "        try:\n",
    "            shutil.move(folder_to_zip +'/' + x, x_old)\n",
    "        except:\n",
    "            print(\"Fichier deja existant??\")\n",
    "\n",
    "get_ipython().system(\"rm /kaggle/working/old_output -R\")\n",
    "\n",
    "def install_this(xthe_url):\n",
    "    import os\n",
    "    print(\"install \",xthe_url)\n",
    "    if not os.path.exists(\"/kaggle/working/ComfyUI/custom_nodes/\"):\n",
    "        os.makedirs(\"/kaggle/working/ComfyUI/custom_nodes/\")\n",
    "    %cd /kaggle/working/ComfyUI/custom_nodes\n",
    "    xfolder =  xthe_url.split('/')[-1].replace('.git','')\n",
    "    if not os.path.exists(\"/kaggle/working/ComfyUI/custom_nodes/\" + xfolder):\n",
    "        get_ipython().system(f'git clone {xthe_url}')\n",
    "    \n",
    "    print(f\"{xfolder=}\")\n",
    "    %cd /kaggle/working/ComfyUI/custom_nodes/$xfolder\n",
    "    get_ipython().system('git pull --all')\n",
    "    if os.path.exists(\"requirements.txt\"):\n",
    "        %pip install -r requirements.txt --quiet  #-U --upgrade-strategy only-if-needed\n",
    "#     else :\n",
    "#         %pip install --quiet\n",
    "    print(\"DONE install \",xthe_url)\n",
    "\n",
    "# %pip install -U packaging shapely einops piexif ultralytics -q opencv-python-headless --upgrade-strategy only-if-needed\n",
    "%pip install -r /kaggle/working/ComfyUI/requirements.txt -q  #--upgrade-strategy only-if-needed\n",
    "%pip install  gguf onnxruntime albumentations surrealist bitsandbytes piexif packaging shapely ultralytics insightface opencv-python-headless -q  #--upgrade-strategy only-if-needed"
   ]
  },
  {
   "cell_type": "code",
   "execution_count": 2,
   "id": "959666e9",
   "metadata": {
    "execution": {
     "iopub.execute_input": "2024-10-20T16:45:44.006445Z",
     "iopub.status.busy": "2024-10-20T16:45:44.006083Z",
     "iopub.status.idle": "2024-10-20T16:46:01.532430Z",
     "shell.execute_reply": "2024-10-20T16:46:01.531346Z"
    },
    "papermill": {
     "duration": 17.544531,
     "end_time": "2024-10-20T16:46:01.534933",
     "exception": false,
     "start_time": "2024-10-20T16:45:43.990402",
     "status": "completed"
    },
    "tags": []
   },
   "outputs": [
    {
     "name": "stdout",
     "output_type": "stream",
     "text": [
      "/kaggle/working\n",
      "Cloning into 'ComfyUI'...\r\n",
      "remote: Enumerating objects: 14533, done.\u001b[K\r\n",
      "remote: Counting objects: 100% (69/69), done.\u001b[K\r\n",
      "remote: Compressing objects: 100% (47/47), done.\u001b[K\r\n",
      "remote: Total 14533 (delta 29), reused 42 (delta 22), pack-reused 14464 (from 1)\u001b[K\r\n",
      "Receiving objects: 100% (14533/14533), 26.62 MiB | 25.29 MiB/s, done.\r\n",
      "Resolving deltas: 100% (9674/9674), done.\r\n",
      "/kaggle/working/ComfyUI\n",
      "Fetching origin\r\n",
      "Already up to date.\r\n"
     ]
    }
   ],
   "source": [
    "update = True\n",
    "\n",
    "from os import path\n",
    "import os\n",
    "# if not path.exists(\"/kaggle/working/ComfyUI/\"):\n",
    "%cd /kaggle/working\n",
    "if not path.exists(\"/kaggle/working/ComfyUI/\"):\n",
    "    get_ipython().system(f'git clone https://github.com/comfyanonymous/ComfyUI.git')\n",
    "%cd ComfyUI\n",
    "if update:\n",
    "    get_ipython().system('git pull --all')\n",
    "!pip install -r requirements.txt --quiet"
   ]
  },
  {
   "cell_type": "code",
   "execution_count": 3,
   "id": "6d19119e",
   "metadata": {
    "execution": {
     "iopub.execute_input": "2024-10-20T16:46:01.568439Z",
     "iopub.status.busy": "2024-10-20T16:46:01.568095Z",
     "iopub.status.idle": "2024-10-20T16:52:05.110057Z",
     "shell.execute_reply": "2024-10-20T16:52:05.108977Z"
    },
    "papermill": {
     "duration": 363.561197,
     "end_time": "2024-10-20T16:52:05.112433",
     "exception": false,
     "start_time": "2024-10-20T16:46:01.551236",
     "status": "completed"
    },
    "tags": []
   },
   "outputs": [
    {
     "name": "stdout",
     "output_type": "stream",
     "text": [
      "install  https://github.com/yolain/ComfyUI-Easy-Use\n",
      "/kaggle/working/ComfyUI/custom_nodes\n",
      "Cloning into 'ComfyUI-Easy-Use'...\r\n",
      "remote: Enumerating objects: 3424, done.\u001b[K\r\n",
      "remote: Counting objects: 100% (1265/1265), done.\u001b[K\r\n",
      "remote: Compressing objects: 100% (435/435), done.\u001b[K\r\n",
      "remote: Total 3424 (delta 887), reused 1132 (delta 819), pack-reused 2159 (from 1)\u001b[K\r\n",
      "Receiving objects: 100% (3424/3424), 12.76 MiB | 31.03 MiB/s, done.\r\n",
      "Resolving deltas: 100% (2379/2379), done.\r\n",
      "xfolder='ComfyUI-Easy-Use'\n",
      "/kaggle/working/ComfyUI/custom_nodes/ComfyUI-Easy-Use\n",
      "Fetching origin\r\n",
      "Already up to date.\r\n",
      "Note: you may need to restart the kernel to use updated packages.\n",
      "DONE install  https://github.com/yolain/ComfyUI-Easy-Use\n",
      "install  https://github.com/cubiq/ComfyUI_InstantID\n",
      "/kaggle/working/ComfyUI/custom_nodes\n",
      "Cloning into 'ComfyUI_InstantID'...\r\n",
      "remote: Enumerating objects: 189, done.\u001b[K\r\n",
      "remote: Counting objects: 100% (46/46), done.\u001b[K\r\n",
      "remote: Compressing objects: 100% (24/24), done.\u001b[K\r\n",
      "remote: Total 189 (delta 31), reused 26 (delta 22), pack-reused 143 (from 1)\u001b[K\r\n",
      "Receiving objects: 100% (189/189), 1.62 MiB | 10.09 MiB/s, done.\r\n",
      "Resolving deltas: 100% (107/107), done.\r\n",
      "xfolder='ComfyUI_InstantID'\n",
      "/kaggle/working/ComfyUI/custom_nodes/ComfyUI_InstantID\n",
      "Fetching origin\r\n",
      "Already up to date.\r\n",
      "Note: you may need to restart the kernel to use updated packages.\n",
      "DONE install  https://github.com/cubiq/ComfyUI_InstantID\n",
      "install  https://github.com/LykosAI/ComfyUI-Inference-Core-Nodes\n",
      "/kaggle/working/ComfyUI/custom_nodes\n",
      "Cloning into 'ComfyUI-Inference-Core-Nodes'...\r\n",
      "remote: Enumerating objects: 1683, done.\u001b[K\r\n",
      "remote: Counting objects: 100% (1683/1683), done.\u001b[K\r\n",
      "remote: Compressing objects: 100% (1415/1415), done.\u001b[K\r\n",
      "remote: Total 1683 (delta 245), reused 1642 (delta 210), pack-reused 0 (from 0)\u001b[K\r\n",
      "Receiving objects: 100% (1683/1683), 26.62 MiB | 29.47 MiB/s, done.\r\n",
      "Resolving deltas: 100% (245/245), done.\r\n",
      "xfolder='ComfyUI-Inference-Core-Nodes'\n",
      "/kaggle/working/ComfyUI/custom_nodes/ComfyUI-Inference-Core-Nodes\n",
      "Fetching origin\r\n",
      "Already up to date.\r\n",
      "DONE install  https://github.com/LykosAI/ComfyUI-Inference-Core-Nodes\n",
      "install  https://github.com/Suzie1/ComfyUI_Comfyroll_CustomNodes\n",
      "/kaggle/working/ComfyUI/custom_nodes\n",
      "Cloning into 'ComfyUI_Comfyroll_CustomNodes'...\r\n",
      "remote: Enumerating objects: 2600, done.\u001b[K\r\n",
      "remote: Counting objects: 100% (505/505), done.\u001b[K\r\n",
      "remote: Compressing objects: 100% (160/160), done.\u001b[K\r\n",
      "remote: Total 2600 (delta 402), reused 408 (delta 345), pack-reused 2095 (from 1)\u001b[K\r\n",
      "Receiving objects: 100% (2600/2600), 3.43 MiB | 17.20 MiB/s, done.\r\n",
      "Resolving deltas: 100% (1735/1735), done.\r\n",
      "xfolder='ComfyUI_Comfyroll_CustomNodes'\n",
      "/kaggle/working/ComfyUI/custom_nodes/ComfyUI_Comfyroll_CustomNodes\n",
      "Fetching origin\r\n",
      "Already up to date.\r\n",
      "DONE install  https://github.com/Suzie1/ComfyUI_Comfyroll_CustomNodes\n",
      "install  https://github.com/comfyanonymous/ComfyUI_experiments\n",
      "/kaggle/working/ComfyUI/custom_nodes\n",
      "Cloning into 'ComfyUI_experiments'...\r\n",
      "remote: Enumerating objects: 72, done.\u001b[K\r\n",
      "remote: Counting objects: 100% (72/72), done.\u001b[K\r\n",
      "remote: Compressing objects: 100% (68/68), done.\u001b[K\r\n",
      "remote: Total 72 (delta 35), reused 5 (delta 2), pack-reused 0 (from 0)\u001b[K\r\n",
      "Receiving objects: 100% (72/72), 32.19 KiB | 1.61 MiB/s, done.\r\n",
      "Resolving deltas: 100% (35/35), done.\r\n",
      "xfolder='ComfyUI_experiments'\n",
      "/kaggle/working/ComfyUI/custom_nodes/ComfyUI_experiments\n",
      "Fetching origin\r\n",
      "Already up to date.\r\n",
      "DONE install  https://github.com/comfyanonymous/ComfyUI_experiments\n",
      "install  https://github.com/jamesWalker55/comfyui-various\n",
      "/kaggle/working/ComfyUI/custom_nodes\n",
      "Cloning into 'comfyui-various'...\r\n",
      "remote: Enumerating objects: 425, done.\u001b[K\r\n",
      "remote: Counting objects: 100% (108/108), done.\u001b[K\r\n",
      "remote: Compressing objects: 100% (68/68), done.\u001b[K\r\n",
      "remote: Total 425 (delta 60), reused 77 (delta 39), pack-reused 317 (from 1)\u001b[K\r\n",
      "Receiving objects: 100% (425/425), 102.74 KiB | 2.01 MiB/s, done.\r\n",
      "Resolving deltas: 100% (261/261), done.\r\n",
      "xfolder='comfyui-various'\n",
      "/kaggle/working/ComfyUI/custom_nodes/comfyui-various\n",
      "Fetching origin\r\n",
      "Already up to date.\r\n",
      "DONE install  https://github.com/jamesWalker55/comfyui-various\n",
      "install  https://github.com/klinter007/klinter_nodes\n",
      "/kaggle/working/ComfyUI/custom_nodes\n",
      "Cloning into 'klinter_nodes'...\r\n",
      "remote: Enumerating objects: 103, done.\u001b[K\r\n",
      "remote: Counting objects: 100% (103/103), done.\u001b[K\r\n",
      "remote: Compressing objects: 100% (96/96), done.\u001b[K\r\n",
      "remote: Total 103 (delta 51), reused 15 (delta 3), pack-reused 0 (from 0)\u001b[K\r\n",
      "Receiving objects: 100% (103/103), 40.43 KiB | 1.55 MiB/s, done.\r\n",
      "Resolving deltas: 100% (51/51), done.\r\n",
      "xfolder='klinter_nodes'\n",
      "/kaggle/working/ComfyUI/custom_nodes/klinter_nodes\n",
      "Fetching origin\r\n",
      "Already up to date.\r\n",
      "DONE install  https://github.com/klinter007/klinter_nodes\n",
      "\u001b[33m\u001b[1mwarning  libmamba\u001b[m Cache file \"/opt/conda/pkgs/cache/c6f2354e.json\" was modified by another program\r\n",
      "\u001b[33m\u001b[1mwarning  libmamba\u001b[m Cache file \"/opt/conda/pkgs/cache/86b0f08d.json\" was modified by another program\r\n",
      "\u001b[33m\u001b[1mwarning  libmamba\u001b[m Cache file \"/opt/conda/pkgs/cache/c9ddbd6b.json\" was modified by another program\r\n",
      "\u001b[33m\u001b[1mwarning  libmamba\u001b[m Cache file \"/opt/conda/pkgs/cache/b121c3e7.json\" was modified by another program\r\n",
      "\u001b[33m\u001b[1mwarning  libmamba\u001b[m Cache file \"/opt/conda/pkgs/cache/d4808d92.json\" was modified by another program\r\n",
      "\u001b[33m\u001b[1mwarning  libmamba\u001b[m Cache file \"/opt/conda/pkgs/cache/223a346e.json\" was modified by another program\r\n",
      "\u001b[33m\u001b[1mwarning  libmamba\u001b[m Cache file \"/opt/conda/pkgs/cache/497deca9.json\" was modified by another program\r\n",
      "\u001b[33m\u001b[1mwarning  libmamba\u001b[m Cache file \"/opt/conda/pkgs/cache/09cdf8bf.json\" was modified by another program\r\n",
      "Preparing transaction: ...working... done\r\n",
      "Verifying transaction: ...working... done\r\n",
      "Executing transaction: ...working... done\r\n",
      "install  https://github.com/comfyanonymous/ComfyUI_bitsandbytes_NF4\n",
      "/kaggle/working/ComfyUI/custom_nodes\n",
      "Cloning into 'ComfyUI_bitsandbytes_NF4'...\r\n",
      "remote: Enumerating objects: 33, done.\u001b[K\r\n",
      "remote: Counting objects: 100% (33/33), done.\u001b[K\r\n",
      "remote: Compressing objects: 100% (28/28), done.\u001b[K\r\n",
      "remote: Total 33 (delta 17), reused 13 (delta 3), pack-reused 0 (from 0)\u001b[K\r\n",
      "Receiving objects: 100% (33/33), 20.25 KiB | 20.25 MiB/s, done.\r\n",
      "Resolving deltas: 100% (17/17), done.\r\n",
      "xfolder='ComfyUI_bitsandbytes_NF4'\n",
      "/kaggle/working/ComfyUI/custom_nodes/ComfyUI_bitsandbytes_NF4\n",
      "Fetching origin\r\n",
      "Already up to date.\r\n",
      "Note: you may need to restart the kernel to use updated packages.\n",
      "DONE install  https://github.com/comfyanonymous/ComfyUI_bitsandbytes_NF4\n",
      "install  https://github.com/WASasquatch/was-node-suite-comfyui\n",
      "/kaggle/working/ComfyUI/custom_nodes\n",
      "Cloning into 'was-node-suite-comfyui'...\r\n",
      "remote: Enumerating objects: 2289, done.\u001b[K\r\n",
      "remote: Counting objects: 100% (865/865), done.\u001b[K\r\n",
      "remote: Compressing objects: 100% (338/338), done.\u001b[K\r\n",
      "remote: Total 2289 (delta 619), reused 710 (delta 519), pack-reused 1424 (from 1)\u001b[K\r\n",
      "Receiving objects: 100% (2289/2289), 39.58 MiB | 36.22 MiB/s, done.\r\n",
      "Resolving deltas: 100% (1394/1394), done.\r\n",
      "xfolder='was-node-suite-comfyui'\n",
      "/kaggle/working/ComfyUI/custom_nodes/was-node-suite-comfyui\n",
      "Fetching origin\r\n",
      "Already up to date.\r\n",
      "\u001b[33mWARNING: opencv-python-headless 4.7.0.72 does not provide the extra 'ffmpeg'\u001b[0m\u001b[33m\r\n",
      "\u001b[0m\u001b[31mERROR: pip's dependency resolver does not currently take into account all the packages that are installed. This behaviour is the source of the following dependency conflicts.\r\n",
      "albucore 0.0.17 requires opencv-python-headless>=4.9.0.80, but you have opencv-python-headless 4.7.0.72 which is incompatible.\r\n",
      "albumentations 1.4.17 requires opencv-python-headless>=4.9.0.80, but you have opencv-python-headless 4.7.0.72 which is incompatible.\u001b[0m\u001b[31m\r\n",
      "\u001b[0mNote: you may need to restart the kernel to use updated packages.\n",
      "DONE install  https://github.com/WASasquatch/was-node-suite-comfyui\n",
      "install  https://github.com/rgthree/rgthree-comfy\n",
      "/kaggle/working/ComfyUI/custom_nodes\n",
      "Cloning into 'rgthree-comfy'...\r\n",
      "remote: Enumerating objects: 3384, done.\u001b[K\r\n",
      "remote: Counting objects: 100% (684/684), done.\u001b[K\r\n",
      "remote: Compressing objects: 100% (199/199), done.\u001b[K\r\n",
      "remote: Total 3384 (delta 538), reused 528 (delta 485), pack-reused 2700 (from 1)\u001b[K\r\n",
      "Receiving objects: 100% (3384/3384), 4.23 MiB | 20.51 MiB/s, done.\r\n",
      "Resolving deltas: 100% (2472/2472), done.\r\n",
      "xfolder='rgthree-comfy'\n",
      "/kaggle/working/ComfyUI/custom_nodes/rgthree-comfy\n",
      "Fetching origin\r\n",
      "Already up to date.\r\n",
      "Note: you may need to restart the kernel to use updated packages.\n",
      "DONE install  https://github.com/rgthree/rgthree-comfy\n",
      "install  https://github.com/Gourieff/comfyui-reactor-node\n",
      "/kaggle/working/ComfyUI/custom_nodes\n",
      "Cloning into 'comfyui-reactor-node'...\r\n",
      "remote: Enumerating objects: 1217, done.\u001b[K\r\n",
      "remote: Counting objects: 100% (361/361), done.\u001b[K\r\n",
      "remote: Compressing objects: 100% (78/78), done.\u001b[K\r\n",
      "remote: Total 1217 (delta 332), reused 283 (delta 283), pack-reused 856 (from 1)\u001b[K\r\n",
      "Receiving objects: 100% (1217/1217), 22.73 MiB | 41.41 MiB/s, done.\r\n",
      "Resolving deltas: 100% (765/765), done.\r\n",
      "xfolder='comfyui-reactor-node'\n",
      "/kaggle/working/ComfyUI/custom_nodes/comfyui-reactor-node\n",
      "Fetching origin\r\n",
      "Already up to date.\r\n",
      "Note: you may need to restart the kernel to use updated packages.\n",
      "DONE install  https://github.com/Gourieff/comfyui-reactor-node\n",
      "install  https://github.com/BlenderNeko/ComfyUI_Noise\n",
      "/kaggle/working/ComfyUI/custom_nodes\n",
      "Cloning into 'ComfyUI_Noise'...\r\n",
      "remote: Enumerating objects: 95, done.\u001b[K\r\n",
      "remote: Counting objects: 100% (30/30), done.\u001b[K\r\n",
      "remote: Compressing objects: 100% (5/5), done.\u001b[K\r\n",
      "remote: Total 95 (delta 25), reused 25 (delta 25), pack-reused 65 (from 1)\u001b[K\r\n",
      "Receiving objects: 100% (95/95), 1.15 MiB | 7.58 MiB/s, done.\r\n",
      "Resolving deltas: 100% (54/54), done.\r\n",
      "xfolder='ComfyUI_Noise'\n",
      "/kaggle/working/ComfyUI/custom_nodes/ComfyUI_Noise\n",
      "Fetching origin\r\n",
      "Already up to date.\r\n",
      "DONE install  https://github.com/BlenderNeko/ComfyUI_Noise\n",
      "install  https://github.com/ltdrdata/ComfyUI-Impact-Pack\n",
      "/kaggle/working/ComfyUI/custom_nodes\n",
      "Cloning into 'ComfyUI-Impact-Pack'...\r\n",
      "remote: Enumerating objects: 4943, done.\u001b[K\r\n",
      "remote: Counting objects: 100% (86/86), done.\u001b[K\r\n",
      "remote: Compressing objects: 100% (45/45), done.\u001b[K\r\n",
      "remote: Total 4943 (delta 41), reused 82 (delta 41), pack-reused 4857 (from 1)\u001b[K\r\n",
      "Receiving objects: 100% (4943/4943), 31.90 MiB | 40.58 MiB/s, done.\r\n",
      "Resolving deltas: 100% (3302/3302), done.\r\n",
      "xfolder='ComfyUI-Impact-Pack'\n",
      "/kaggle/working/ComfyUI/custom_nodes/ComfyUI-Impact-Pack\n",
      "Fetching origin\r\n",
      "Already up to date.\r\n",
      "Note: you may need to restart the kernel to use updated packages.\n",
      "DONE install  https://github.com/ltdrdata/ComfyUI-Impact-Pack\n",
      "install  https://github.com/pythongosssss/ComfyUI-Custom-Scripts\n",
      "/kaggle/working/ComfyUI/custom_nodes\n",
      "Cloning into 'ComfyUI-Custom-Scripts'...\r\n",
      "remote: Enumerating objects: 2023, done.\u001b[K\r\n",
      "remote: Counting objects: 100% (718/718), done.\u001b[K\r\n",
      "remote: Compressing objects: 100% (181/181), done.\u001b[K\r\n",
      "remote: Total 2023 (delta 532), reused 627 (delta 492), pack-reused 1305 (from 1)\u001b[K\r\n",
      "Receiving objects: 100% (2023/2023), 509.25 KiB | 4.76 MiB/s, done.\r\n",
      "Resolving deltas: 100% (1185/1185), done.\r\n",
      "xfolder='ComfyUI-Custom-Scripts'\n",
      "/kaggle/working/ComfyUI/custom_nodes/ComfyUI-Custom-Scripts\n",
      "Fetching origin\r\n",
      "Already up to date.\r\n",
      "DONE install  https://github.com/pythongosssss/ComfyUI-Custom-Scripts\n",
      "install  https://github.com/yolain/ComfyUI-Easy-Use\n",
      "/kaggle/working/ComfyUI/custom_nodes\n",
      "xfolder='ComfyUI-Easy-Use'\n",
      "/kaggle/working/ComfyUI/custom_nodes/ComfyUI-Easy-Use\n",
      "Fetching origin\r\n",
      "Already up to date.\r\n",
      "Note: you may need to restart the kernel to use updated packages.\n",
      "DONE install  https://github.com/yolain/ComfyUI-Easy-Use\n",
      "install  https://github.com/kijai/ComfyUI-KJNodes\n",
      "/kaggle/working/ComfyUI/custom_nodes\n",
      "Cloning into 'ComfyUI-KJNodes'...\r\n",
      "remote: Enumerating objects: 2175, done.\u001b[K\r\n",
      "remote: Counting objects: 100% (698/698), done.\u001b[K\r\n",
      "remote: Compressing objects: 100% (188/188), done.\u001b[K\r\n",
      "remote: Total 2175 (delta 581), reused 598 (delta 510), pack-reused 1477 (from 1)\u001b[K\r\n",
      "Receiving objects: 100% (2175/2175), 24.65 MiB | 38.01 MiB/s, done.\r\n",
      "Resolving deltas: 100% (1433/1433), done.\r\n",
      "xfolder='ComfyUI-KJNodes'\n",
      "/kaggle/working/ComfyUI/custom_nodes/ComfyUI-KJNodes\n",
      "Fetching origin\r\n",
      "Already up to date.\r\n",
      "Note: you may need to restart the kernel to use updated packages.\n",
      "DONE install  https://github.com/kijai/ComfyUI-KJNodes\n",
      "install  https://github.com/kijai/ComfyUI-Florence2\n",
      "/kaggle/working/ComfyUI/custom_nodes\n",
      "Cloning into 'ComfyUI-Florence2'...\r\n",
      "remote: Enumerating objects: 201, done.\u001b[K\r\n",
      "remote: Counting objects: 100% (111/111), done.\u001b[K\r\n",
      "remote: Compressing objects: 100% (10/10), done.\u001b[K\r\n",
      "remote: Total 201 (delta 101), reused 101 (delta 101), pack-reused 90 (from 1)\u001b[K\r\n",
      "Receiving objects: 100% (201/201), 47.03 KiB | 1003.00 KiB/s, done.\r\n",
      "Resolving deltas: 100% (114/114), done.\r\n",
      "xfolder='ComfyUI-Florence2'\n",
      "/kaggle/working/ComfyUI/custom_nodes/ComfyUI-Florence2\n",
      "Fetching origin\r\n",
      "Already up to date.\r\n",
      "Note: you may need to restart the kernel to use updated packages.\n",
      "DONE install  https://github.com/kijai/ComfyUI-Florence2\n",
      "install  https://github.com/XLabs-AI/x-flux-comfyui\n",
      "/kaggle/working/ComfyUI/custom_nodes\n",
      "Cloning into 'x-flux-comfyui'...\r\n",
      "remote: Enumerating objects: 629, done.\u001b[K\r\n",
      "remote: Counting objects: 100% (236/236), done.\u001b[K\r\n",
      "remote: Compressing objects: 100% (89/89), done.\u001b[K\r\n",
      "remote: Total 629 (delta 194), reused 170 (delta 147), pack-reused 393 (from 1)\u001b[K\r\n",
      "Receiving objects: 100% (629/629), 1.75 MiB | 11.06 MiB/s, done.\r\n",
      "Resolving deltas: 100% (378/378), done.\r\n",
      "xfolder='x-flux-comfyui'\n",
      "/kaggle/working/ComfyUI/custom_nodes/x-flux-comfyui\n",
      "Fetching origin\r\n",
      "Already up to date.\r\n",
      "Note: you may need to restart the kernel to use updated packages.\n",
      "DONE install  https://github.com/XLabs-AI/x-flux-comfyui\n",
      "install  https://github.com/crystian/ComfyUI-Crystools\n",
      "/kaggle/working/ComfyUI/custom_nodes\n",
      "Cloning into 'ComfyUI-Crystools'...\r\n",
      "remote: Enumerating objects: 1669, done.\u001b[K\r\n",
      "remote: Counting objects: 100% (571/571), done.\u001b[K\r\n",
      "remote: Compressing objects: 100% (298/298), done.\u001b[K\r\n",
      "remote: Total 1669 (delta 382), reused 361 (delta 251), pack-reused 1098 (from 1)\u001b[K\r\n",
      "Receiving objects: 100% (1669/1669), 15.46 MiB | 31.41 MiB/s, done.\r\n",
      "Resolving deltas: 100% (1056/1056), done.\r\n",
      "xfolder='ComfyUI-Crystools'\n",
      "/kaggle/working/ComfyUI/custom_nodes/ComfyUI-Crystools\n",
      "Fetching origin\r\n",
      "Already up to date.\r\n",
      "Note: you may need to restart the kernel to use updated packages.\n",
      "DONE install  https://github.com/crystian/ComfyUI-Crystools\n",
      "install  https://github.com/city96/ComfyUI-GGUF\n",
      "/kaggle/working/ComfyUI/custom_nodes\n",
      "Cloning into 'ComfyUI-GGUF'...\r\n",
      "remote: Enumerating objects: 327, done.\u001b[K\r\n",
      "remote: Counting objects: 100% (172/172), done.\u001b[K\r\n",
      "remote: Compressing objects: 100% (90/90), done.\u001b[K\r\n",
      "remote: Total 327 (delta 129), reused 115 (delta 82), pack-reused 155 (from 1)\u001b[K\r\n",
      "Receiving objects: 100% (327/327), 99.79 KiB | 1.96 MiB/s, done.\r\n",
      "Resolving deltas: 100% (202/202), done.\r\n",
      "xfolder='ComfyUI-GGUF'\n",
      "/kaggle/working/ComfyUI/custom_nodes/ComfyUI-GGUF\n",
      "Fetching origin\r\n",
      "Already up to date.\r\n",
      "Note: you may need to restart the kernel to use updated packages.\n",
      "DONE install  https://github.com/city96/ComfyUI-GGUF\n",
      "install  https://github.com/revirevy/Comfyui_saveimage_imgbb\n",
      "/kaggle/working/ComfyUI/custom_nodes\n",
      "Cloning into 'Comfyui_saveimage_imgbb'...\r\n",
      "remote: Enumerating objects: 314, done.\u001b[K\r\n",
      "remote: Counting objects: 100% (159/159), done.\u001b[K\r\n",
      "remote: Compressing objects: 100% (62/62), done.\u001b[K\r\n",
      "remote: Total 314 (delta 92), reused 153 (delta 89), pack-reused 155 (from 1)\u001b[K\r\n",
      "Receiving objects: 100% (314/314), 110.31 KiB | 2.12 MiB/s, done.\r\n",
      "Resolving deltas: 100% (180/180), done.\r\n",
      "xfolder='Comfyui_saveimage_imgbb'\n",
      "/kaggle/working/ComfyUI/custom_nodes/Comfyui_saveimage_imgbb\n",
      "Fetching origin\r\n",
      "Already up to date.\r\n",
      "\u001b[31mERROR: pip's dependency resolver does not currently take into account all the packages that are installed. This behaviour is the source of the following dependency conflicts.\r\n",
      "apache-beam 2.46.0 requires cloudpickle~=2.2.1, but you have cloudpickle 3.0.0 which is incompatible.\r\n",
      "apache-beam 2.46.0 requires dill<0.3.2,>=0.3.1.1, but you have dill 0.3.8 which is incompatible.\r\n",
      "apache-beam 2.46.0 requires numpy<1.25.0,>=1.14.3, but you have numpy 1.26.4 which is incompatible.\r\n",
      "apache-beam 2.46.0 requires pyarrow<10.0.0,>=3.0.0, but you have pyarrow 16.1.0 which is incompatible.\r\n",
      "ibis-framework 7.1.0 requires pyarrow<15,>=2, but you have pyarrow 16.1.0 which is incompatible.\r\n",
      "jupyterlab 4.2.5 requires jupyter-lsp>=2.0.0, but you have jupyter-lsp 1.5.1 which is incompatible.\r\n",
      "jupyterlab-lsp 5.1.0 requires jupyter-lsp>=2.0.0, but you have jupyter-lsp 1.5.1 which is incompatible.\r\n",
      "xarray 2024.9.0 requires packaging>=23.1, but you have packaging 21.3 which is incompatible.\r\n",
      "ydata-profiling 4.10.0 requires scipy<1.14,>=1.4.1, but you have scipy 1.14.1 which is incompatible.\u001b[0m\u001b[31m\r\n",
      "\u001b[0mNote: you may need to restart the kernel to use updated packages.\n",
      "DONE install  https://github.com/revirevy/Comfyui_saveimage_imgbb\n",
      "install  https://github.com/ltdrdata/ComfyUI-Manager\n",
      "/kaggle/working/ComfyUI/custom_nodes\n",
      "Cloning into 'ComfyUI-Manager'...\r\n",
      "remote: Enumerating objects: 14282, done.\u001b[K\r\n",
      "remote: Counting objects: 100% (317/317), done.\u001b[K\r\n",
      "remote: Compressing objects: 100% (143/143), done.\u001b[K\r\n",
      "remote: Total 14282 (delta 212), reused 246 (delta 173), pack-reused 13965 (from 1)\u001b[K\r\n",
      "Receiving objects: 100% (14282/14282), 14.56 MiB | 28.24 MiB/s, done.\r\n",
      "Resolving deltas: 100% (10496/10496), done.\r\n",
      "xfolder='ComfyUI-Manager'\n",
      "/kaggle/working/ComfyUI/custom_nodes/ComfyUI-Manager\n",
      "Fetching origin\r\n",
      "Already up to date.\r\n",
      "Note: you may need to restart the kernel to use updated packages.\n",
      "DONE install  https://github.com/ltdrdata/ComfyUI-Manager\n",
      "The following additional packages will be installed:\r\n",
      "  libaria2-0 libc-ares2 libssh2-1\r\n",
      "The following NEW packages will be installed:\r\n",
      "  aria2 libaria2-0 libc-ares2 libssh2-1\r\n",
      "0 upgraded, 4 newly installed, 0 to remove and 68 not upgraded.\r\n",
      "Need to get 1622 kB of archives.\r\n",
      "After this operation, 5817 kB of additional disk space will be used.\r\n",
      "\n",
      "\u001b7\u001b[0;23r\u001b8\u001b[1ASelecting previously unselected package libc-ares2:amd64.\r\n",
      "(Reading database ... 122996 files and directories currently installed.)\r\n",
      "Preparing to unpack .../libc-ares2_1.18.1-1ubuntu0.22.04.3_amd64.deb ...\r\n",
      "\u001b7\u001b[24;0f\u001b[42m\u001b[30mProgress: [  0%]\u001b[49m\u001b[39m [..........................................................] \u001b8\u001b7\u001b[24;0f\u001b[42m\u001b[30mProgress: [  6%]\u001b[49m\u001b[39m [###.......................................................] \u001b8Unpacking libc-ares2:amd64 (1.18.1-1ubuntu0.22.04.3) ...\r\n",
      "\u001b7\u001b[24;0f\u001b[42m\u001b[30mProgress: [ 12%]\u001b[49m\u001b[39m [######....................................................] \u001b8Selecting previously unselected package libssh2-1:amd64.\r\n",
      "Preparing to unpack .../libssh2-1_1.10.0-3_amd64.deb ...\r\n",
      "\u001b7\u001b[24;0f\u001b[42m\u001b[30mProgress: [ 18%]\u001b[49m\u001b[39m [##########................................................] \u001b8Unpacking libssh2-1:amd64 (1.10.0-3) ...\r\n",
      "\u001b7\u001b[24;0f\u001b[42m\u001b[30mProgress: [ 24%]\u001b[49m\u001b[39m [#############.............................................] \u001b8Selecting previously unselected package libaria2-0:amd64.\r\n",
      "Preparing to unpack .../libaria2-0_1.36.0-1_amd64.deb ...\r\n",
      "\u001b7\u001b[24;0f\u001b[42m\u001b[30mProgress: [ 29%]\u001b[49m\u001b[39m [#################.........................................] \u001b8Unpacking libaria2-0:amd64 (1.36.0-1) ...\r\n",
      "\u001b7\u001b[24;0f\u001b[42m\u001b[30mProgress: [ 35%]\u001b[49m\u001b[39m [####################......................................] \u001b8Selecting previously unselected package aria2.\r\n",
      "Preparing to unpack .../aria2_1.36.0-1_amd64.deb ...\r\n",
      "\u001b7\u001b[24;0f\u001b[42m\u001b[30mProgress: [ 41%]\u001b[49m\u001b[39m [#######################...................................] \u001b8Unpacking aria2 (1.36.0-1) ...\r\n",
      "\u001b7\u001b[24;0f\u001b[42m\u001b[30mProgress: [ 47%]\u001b[49m\u001b[39m [###########################...............................] \u001b8Setting up libc-ares2:amd64 (1.18.1-1ubuntu0.22.04.3) ...\r\n",
      "\u001b7\u001b[24;0f\u001b[42m\u001b[30mProgress: [ 53%]\u001b[49m\u001b[39m [##############################............................] \u001b8\u001b7\u001b[24;0f\u001b[42m\u001b[30mProgress: [ 59%]\u001b[49m\u001b[39m [##################################........................] \u001b8Setting up libssh2-1:amd64 (1.10.0-3) ...\r\n",
      "\u001b7\u001b[24;0f\u001b[42m\u001b[30mProgress: [ 65%]\u001b[49m\u001b[39m [#####################################.....................] \u001b8\u001b7\u001b[24;0f\u001b[42m\u001b[30mProgress: [ 71%]\u001b[49m\u001b[39m [########################################..................] \u001b8Setting up libaria2-0:amd64 (1.36.0-1) ...\r\n",
      "\u001b7\u001b[24;0f\u001b[42m\u001b[30mProgress: [ 76%]\u001b[49m\u001b[39m [############################################..............] \u001b8\u001b7\u001b[24;0f\u001b[42m\u001b[30mProgress: [ 82%]\u001b[49m\u001b[39m [###############################################...........] \u001b8Setting up aria2 (1.36.0-1) ...\r\n",
      "\u001b7\u001b[24;0f\u001b[42m\u001b[30mProgress: [ 88%]\u001b[49m\u001b[39m [###################################################.......] \u001b8\u001b7\u001b[24;0f\u001b[42m\u001b[30mProgress: [ 94%]\u001b[49m\u001b[39m [######################################################....] \u001b8Processing triggers for man-db (2.10.2-1) ...\r\n",
      "Processing triggers for libc-bin (2.35-0ubuntu3.8) ...\r\n",
      "\r\n",
      "\u001b7\u001b[0;24r\u001b8\u001b[1A\u001b[J"
     ]
    }
   ],
   "source": [
    "# !rm /kaggle/working/ComfyUI/custom_nodes/ComfyUI-Inference-Core-Nodes -r\n",
    "\n",
    "install_this(\"https://github.com/yolain/ComfyUI-Easy-Use\")\n",
    "install_this(\"https://github.com/cubiq/ComfyUI_InstantID\")\n",
    "install_this(\"https://github.com/LykosAI/ComfyUI-Inference-Core-Nodes\")\n",
    "install_this(\"https://github.com/Suzie1/ComfyUI_Comfyroll_CustomNodes\")\n",
    "install_this(\"https://github.com/comfyanonymous/ComfyUI_experiments\")\n",
    "# install_this(\"https://github.com/cubiq/ComfyUI_IPAdapter_plus\")\n",
    "# install_this(\"https://github.com/kijai/ComfyUI-SUPIR\")\n",
    "# install_this(\"https://github.com/kijai/ComfyUI-KJNodes\")\n",
    "install_this(\"https://github.com/jamesWalker55/comfyui-various\")\n",
    "install_this(\"https://github.com/klinter007/klinter_nodes\")\n",
    "\n",
    "\n",
    "checkpoints =  '/kaggle/working/ComfyUI/models/checkpoints'\n",
    "link_path = checkpoints + '/temp-models'\n",
    "temp_models = '/kaggle/temp/temp-models'\n",
    "\n",
    "if not path.exists(temp_models):\n",
    "    os.makedirs(temp_models)\n",
    "\n",
    "if not path.exists(link_path):\n",
    "    get_ipython().system(f'ln -s {temp_models} {checkpoints}')\n",
    "\n",
    "!mamba install openssh -y --quiet\n",
    "\n",
    "# Install the node manager\n",
    "update_manager = True\n",
    "\n",
    "install_this(\"https://github.com/comfyanonymous/ComfyUI_bitsandbytes_NF4\")\n",
    "# Was node\n",
    "install_this('https://github.com/WASasquatch/was-node-suite-comfyui')\n",
    "# Rgthree\n",
    "install_this(\"https://github.com/rgthree/rgthree-comfy\")\n",
    "# REactor\n",
    "install_this(\"https://github.com/Gourieff/comfyui-reactor-node\")\n",
    "# Comfyui noise\n",
    "install_this(\"https://github.com/BlenderNeko/ComfyUI_Noise\")\n",
    "# Comfyui impact\n",
    "install_this(\"https://github.com/ltdrdata/ComfyUI-Impact-Pack\")\n",
    "# pythongossss\n",
    "install_this(\"https://github.com/pythongosssss/ComfyUI-Custom-Scripts\")\n",
    "# Comfyui easy use\n",
    "install_this(\"https://github.com/yolain/ComfyUI-Easy-Use\")\n",
    "# KJNODES\n",
    "install_this(\"https://github.com/kijai/ComfyUI-KJNodes\") \n",
    "# Flux comfyui\n",
    "install_this(\"https://github.com/kijai/ComfyUI-Florence2\") \n",
    "install_this(\"https://github.com/XLabs-AI/x-flux-comfyui\") \n",
    "install_this(\"https://github.com/crystian/ComfyUI-Crystools\") \n",
    "install_this(\"https://github.com/city96/ComfyUI-GGUF\")\n",
    "install_this(\"https://github.com/revirevy/Comfyui_saveimage_imgbb\")\n",
    "install_this(\"https://github.com/ltdrdata/ComfyUI-Manager\")\n",
    "\n",
    "!apt -y install -qq aria2\n",
    "# !aria2c --help\n",
    "\n",
    "import os\n",
    "if not os.path.exists(\"/kaggle/working/ComfyUI/models/LLM\"):\n",
    "    os.makedirs(\"/kaggle/working/ComfyUI/models/LLM\")"
   ]
  },
  {
   "cell_type": "code",
   "execution_count": 4,
   "id": "df348d67",
   "metadata": {
    "execution": {
     "iopub.execute_input": "2024-10-20T16:52:05.209860Z",
     "iopub.status.busy": "2024-10-20T16:52:05.209516Z",
     "iopub.status.idle": "2024-10-20T16:52:33.493562Z",
     "shell.execute_reply": "2024-10-20T16:52:33.492344Z"
    },
    "papermill": {
     "duration": 28.335155,
     "end_time": "2024-10-20T16:52:33.495931",
     "exception": false,
     "start_time": "2024-10-20T16:52:05.160776",
     "status": "completed"
    },
    "tags": []
   },
   "outputs": [
    {
     "name": "stdout",
     "output_type": "stream",
     "text": [
      "\u001b[35m[\u001b[0m#73aa58 311MiB/319MiB\u001b[36m(97%)\u001b[0m CN:12 DL:\u001b[32m109MiB\u001b[0m\u001b[35m]\u001b[0m\u001b[0m\r\n",
      "Download Results:\r\n",
      "gid   |stat|avg speed  |path/URI\r\n",
      "======+====+===========+=======================================================\r\n",
      "73aa58|\u001b[1;32mOK\u001b[0m  |   106MiB/s|/kaggle/working/ComfyUI/models/vae/ae.sft\r\n",
      "\r\n",
      "Status Legend:\r\n",
      "(OK):download completed.\r\n",
      "\u001b[35m[\u001b[0m#a441a1 233MiB/234MiB\u001b[36m(99%)\u001b[0m CN:1 DL:\u001b[32m77MiB\u001b[0m\u001b[35m]\u001b[0m\u001b[0m\r\n",
      "Download Results:\r\n",
      "gid   |stat|avg speed  |path/URI\r\n",
      "======+====+===========+=======================================================\r\n",
      "a441a1|\u001b[1;32mOK\u001b[0m  |    63MiB/s|/kaggle/working/ComfyUI/models/clip/clip_l.safetensors\r\n",
      "\r\n",
      "Status Legend:\r\n",
      "(OK):download completed.\r\n"
     ]
    }
   ],
   "source": [
    "# !aria2c --console-log-level=error -c -x 16 -s 16 -k 1M https://huggingface.co/camenduru/FLUX.1-dev/resolve/main/flux1-dev-fp8.safetensors -d /kaggle/working/ComfyUI/models/unet -o flux1-dev-fp8.safetensors\n",
    "!ln -s /kaggle/input/flux/pytorch/flux.1-dev/1/flux1-dev.safetensors /kaggle/working/ComfyUI/models/unet/flux1-dev.safetensors\n",
    "!aria2c --console-log-level=error -c -x 16 -s 16 -k 1M https://huggingface.co/camenduru/FLUX.1-dev/resolve/main/ae.sft -d /kaggle/working/ComfyUI/models/vae -o ae.sft\n",
    "!aria2c --console-log-level=error -c -x 16 -s 16 -k 1M https://huggingface.co/camenduru/FLUX.1-dev/resolve/main/clip_l.safetensors -d /kaggle/working/ComfyUI/models/clip -o clip_l.safetensors\n",
    "# !aria2c --console-log-level=error -c -x 16 -s 16 -k 1M https://huggingface.co/camenduru/FLUX.1-dev/resolve/main/t5xxl_fp8_e4m3fn.safetensors -d /kaggle/working/ComfyUI/models/clip -o t5xxl_fp8_e4m3fn.safetensors\n",
    "!ln -s /kaggle/input/clip/pytorch/t5xxl_fp8_e4m3fn/1/t5xxl_fp8_e4m3fn.safetensors /kaggle/working/ComfyUI/models/clip/t5xxl_fp8_e4m3fn.safetensors\n",
    "# !ln -s  /kaggle/input/t5-fine-tuned/transformers/t5-2/1/model.safetensors    /kaggle/working/ComfyUI/models/clip/t5-2-model.safetensors\n",
    "!ln -s /kaggle/input/t5xxl_fp16/tensorflow2/default/1/t5xxl_fp16.safetensors   /kaggle/working/ComfyUI/models/clip/t5xxl_fp16.safetensors\n",
    "# !ln -s  /kaggle/input/flan-t5/pytorch/large/3/model.safetensors             /kaggle/working/ComfyUI/models/clip/flan-t5-large-model.safetensors\n",
    "# !ln -s  /kaggle/input/clip-gpt2_t5/pytorch/1/1/net-cross-description.pt    /kaggle/working/ComfyUI/models/clip/net-cross-description.pt\n",
    "!ln -s /kaggle/input/clip-gmp-vit-l-14/tensorflow2/default/1/model.safetensors /kaggle/working/ComfyUI/models/clip/clip-gmp-vit-large-14.safetensors\n",
    "\n",
    "if not os.path.exists(\"/kaggle/working/ComfyUI/models/xlabs/contronets\"):\n",
    "    os.makedirs(\"/kaggle/working/ComfyUI/models/xlabs/contronets/\")\n",
    "\n",
    "!ln -s /kaggle/input/florence2/transformers/default/1/Florence2_model_3/model.safetensors /kaggle/working/ComfyUI/models/LLM/Florence_model_3.safetensors\n",
    "!ln -s /kaggle/input/florence2/transformers/default/1/Florence2_model_2/model.safetensors /kaggle/working/ComfyUI/models/LLM/Florence_model_2.safetensors\n",
    "!ln -s /kaggle/input/controlnet/pytorch/flux-canny-controlnet/1/flux-canny-controlnet-v3.safetensors  /kaggle/working/ComfyUI/models/xlabs/contronets/flux-canny-controlnet-v3.safetensors\n",
    "!ln -s /kaggle/input/controlnet/pytorch/flux-depth-controlnet/1/flux-depth-controlnet-v3.safetensors  /kaggle/working/ComfyUI/models/xlabs/contronets/flux-depth-controlnet-v3.safetensors\n",
    "!ln -s /kaggle/input/stable-diffusion-xl/pytorch/base-1-0/1/sd_xl_base_1.0_0.9vae.safetensors /kaggle/working/ComfyUI/models/checkpoints/sd_xl_base_1.0_0.9vae.safetensors\n",
    "!ln -s /kaggle/input/stable-diffusion-xl/pytorch/base-1-0/1/sd_xl_base_1.0.safetensors /kaggle/working/ComfyUI/models/checkpoints/sd_xl_base_1.0.safetensors\n",
    "!ln -s /kaggle/input/stoiqo-new-reality-flux-sd_f1d-pre-alpha/transformers/default/1/STOIQONewrealityFLUXSD_F1DPreAlpha.safetensors /kaggle/working/ComfyUI/models/checkpoints/STOIQONewrealityFLUXSD_F1DPreAlpha.safetensors\n",
    "!ln -s /kaggle/input/flux1devnf46stepsnsfw/pytorch/default/1/flux1DevNF46StepsNSFW_fluxdevFP86Steps.safetensors /kaggle/working/ComfyUI/models/checkpoints/flux1DevNF46StepsNSFW_fluxdevFP86Steps.safetensors\n",
    "!ln -s /kaggle/input/8stepscrearthyperfluxdevbnb_v24hyperdevfp8unet_/pytorch/default/1/8StepsCreartHyperFluxDevBnb_v24HyperDevFp8Unet.safetensors  /kaggle/working/ComfyUI/models/unet/8StepsCreartHyperFluxDevBnb_v24HyperDevFp8Unet.safetensors\n",
    "!ln -s /kaggle/input/creart-hyper-flux-dev-gguf-q4_0/gguf/default/1/CreArt-Hyper-Flux-Dev-gguf-q4_0.gguf /kaggle/working/ComfyUI/models/unet/CreArt-Hyper-Flux-Dev-gguf-q4_0.gguf\n",
    "\n",
    "!ln -s /kaggle/input/aldebodobasexl_v3mini/tensorflow2/default/1/albedobaseXL_v3Mini.safetensors /kaggle/working/ComfyUI/models/checkpoints/albedobaseXL_v3Mini.safetensors\n",
    "# /kaggle/input/aldebodobasexl_v3mini/tensorflow2/default/1/albedobaseXL_v3Mini.safetensors"
   ]
  },
  {
   "cell_type": "code",
   "execution_count": 5,
   "id": "92b5073f",
   "metadata": {
    "execution": {
     "iopub.execute_input": "2024-10-20T16:52:33.594735Z",
     "iopub.status.busy": "2024-10-20T16:52:33.594320Z",
     "iopub.status.idle": "2024-10-20T16:54:24.794582Z",
     "shell.execute_reply": "2024-10-20T16:54:24.793564Z"
    },
    "papermill": {
     "duration": 111.252103,
     "end_time": "2024-10-20T16:54:24.797004",
     "exception": false,
     "start_time": "2024-10-20T16:52:33.544901",
     "status": "completed"
    },
    "tags": []
   },
   "outputs": [
    {
     "name": "stdout",
     "output_type": "stream",
     "text": [
      "\u001b[K\u001b[?25h\r\n",
      "removed 25 packages, and changed 97 packages in 16s\r\n",
      "\r\n",
      "25 packages are looking for funding\r\n",
      "  run `npm fund` for details\r\n",
      "\u001b[1G\u001b[0K\\\u001b[1G\u001b[0K|\u001b[1G\u001b[0K/\u001b[1G\u001b[0K-\u001b[1G\u001b[0K\\\u001b[1G\u001b[0K|\u001b[1G\u001b[0K/\u001b[1G\u001b[0K-\u001b[1G\u001b[0K\\\u001b[1G\u001b[0K|\u001b[1G\u001b[0K/\u001b[1G\u001b[0K\r\n",
      "added 22 packages in 2s\r\n",
      "\u001b[1G\u001b[0K/\u001b[1G\u001b[0K\r\n",
      "\u001b[1G\u001b[0K/\u001b[1G\u001b[0K3 packages are looking for funding\r\n",
      "\u001b[1G\u001b[0K/\u001b[1G\u001b[0K  run `npm fund` for details\r\n",
      "\u001b[1G\u001b[0K/\u001b[1G\u001b[0K[START] Security scan\n",
      "[DONE] Security scan\n",
      "## ComfyUI-Manager: installing dependencies done.\n",
      "** ComfyUI startup time: 2024-10-20 16:52:57.200009\n",
      "** Platform: Linux\n",
      "** Python version: 3.10.14 | packaged by conda-forge | (main, Mar 20 2024, 12:45:18) [GCC 12.3.0]\n",
      "** Python executable: /opt/conda/bin/python\n",
      "** ComfyUI Path: /kaggle/working/ComfyUI\n",
      "** Log path: /kaggle/working/ComfyUI/comfyui.log\n",
      "\n",
      "Prestartup times for custom nodes:\n",
      "   0.0 seconds: /kaggle/working/ComfyUI/custom_nodes/rgthree-comfy\n",
      "   0.0 seconds: /kaggle/working/ComfyUI/custom_nodes/ComfyUI-Easy-Use\n",
      "   2.4 seconds: /kaggle/working/ComfyUI/custom_nodes/ComfyUI-Manager\n",
      "\n"
     ]
    },
    {
     "name": "stderr",
     "output_type": "stream",
     "text": [
      "Set cuda device to: 0\n",
      "Total VRAM 15095 MB, total RAM 32110 MB\n",
      "pytorch version: 2.4.0\n",
      "Set vram state to: NORMAL_VRAM\n",
      "Device: cuda:0 Tesla T4 : cudaMallocAsync\n",
      "Using pytorch cross attention\n"
     ]
    },
    {
     "name": "stdout",
     "output_type": "stream",
     "text": [
      "****** User settings have been changed to be stored on the server instead of browser storage. ******\n",
      "****** For multi-user setups add the --multi-user CLI argument to enable multiple user profiles. ******\n"
     ]
    },
    {
     "name": "stderr",
     "output_type": "stream",
     "text": [
      "[Prompt Server] web root: /kaggle/working/ComfyUI/web\n",
      "/opt/conda/lib/python3.10/site-packages/kornia/feature/lightglue.py:44: FutureWarning: `torch.cuda.amp.custom_fwd(args...)` is deprecated. Please use `torch.amp.custom_fwd(args..., device_type='cuda')` instead.\n",
      "  @torch.cuda.amp.custom_fwd(cast_inputs=torch.float32)\n",
      "NumExpr defaulting to 4 threads.\n"
     ]
    },
    {
     "name": "stdout",
     "output_type": "stream",
     "text": [
      "### Loading: ComfyUI-Manager (V2.51.8)\n",
      "### ComfyUI Revision: 2775 [f9f9fafa] | Released on '2024-10-20'\n",
      "[ComfyUI-Manager] default cache updated: https://raw.githubusercontent.com/ltdrdata/ComfyUI-Manager/main/model-list.json\n",
      "[ComfyUI-Manager] default cache updated: https://raw.githubusercontent.com/ltdrdata/ComfyUI-Manager/main/github-stats.json\n",
      "[ComfyUI-Manager] default cache updated: https://raw.githubusercontent.com/ltdrdata/ComfyUI-Manager/main/alter-list.json\n",
      "[ComfyUI-Manager] default cache updated: https://raw.githubusercontent.com/ltdrdata/ComfyUI-Manager/main/extension-node-map.json\n",
      "[ComfyUI-Manager] default cache updated: https://raw.githubusercontent.com/ltdrdata/ComfyUI-Manager/main/custom-node-list.json\n",
      "------------------------------------------\n",
      "\u001b[34mComfyroll Studio v1.76 : \u001b[92m 175 Nodes Loaded\u001b[0m\n",
      "------------------------------------------\n",
      "** For changes, please see patch notes at https://github.com/Suzie1/ComfyUI_Comfyroll_CustomNodes/blob/main/Patch_Notes.md\n",
      "** For help, please see the wiki at https://github.com/Suzie1/ComfyUI_Comfyroll_CustomNodes/wiki\n",
      "------------------------------------------\n",
      "\n",
      "\u001b[92m[rgthree-comfy] Loaded 42 fantastic nodes. 🎉\u001b[00m\n",
      "\n"
     ]
    },
    {
     "name": "stderr",
     "output_type": "stream",
     "text": [
      "Total VRAM 15095 MB, total RAM 32110 MB\n",
      "pytorch version: 2.4.0\n",
      "Set vram state to: NORMAL_VRAM\n",
      "Device: cuda:0 Tesla T4 : cudaMallocAsync\n",
      "Traceback (most recent call last):\n",
      "  File \"/kaggle/working/ComfyUI/nodes.py\", line 2001, in load_custom_node\n",
      "    module_spec.loader.exec_module(module)\n",
      "  File \"<frozen importlib._bootstrap_external>\", line 883, in exec_module\n",
      "  File \"<frozen importlib._bootstrap>\", line 241, in _call_with_frames_removed\n",
      "  File \"/kaggle/working/ComfyUI/custom_nodes/ComfyUI-Inference-Core-Nodes/__init__.py\", line 1, in <module>\n",
      "    from inference_core_nodes import NODE_CLASS_MAPPINGS, NODE_DISPLAY_NAME_MAPPINGS\n",
      "ModuleNotFoundError: No module named 'inference_core_nodes'\n",
      "\n",
      "Cannot import /kaggle/working/ComfyUI/custom_nodes/ComfyUI-Inference-Core-Nodes module for custom nodes: No module named 'inference_core_nodes'\n",
      "/opt/conda/lib/python3.10/site-packages/albumentations/__init__.py:13: UserWarning: A new version of Albumentations is available: 1.4.18 (you have 1.4.17). Upgrade using: pip install -U albumentations. To disable automatic update checks, set the environment variable NO_ALBUMENTATIONS_UPDATE to 1.\n",
      "  check_for_updates()\n"
     ]
    },
    {
     "name": "stdout",
     "output_type": "stream",
     "text": [
      "[Crystools \u001b[0;32mINFO\u001b[0m] Crystools version: 1.19.0\n",
      "[Crystools \u001b[0;32mINFO\u001b[0m] CPU: Intel(R) Xeon(R) CPU @ 2.00GHz - Arch: x86_64 - OS: Linux 5.15.154+\n",
      "[Crystools \u001b[0;32mINFO\u001b[0m] Pynvml (Nvidia) initialized.\n",
      "[Crystools \u001b[0;32mINFO\u001b[0m] GPU/s:\n",
      "[Crystools \u001b[0;32mINFO\u001b[0m] 0) Tesla T4\n",
      "[Crystools \u001b[0;32mINFO\u001b[0m] 1) Tesla T4\n",
      "[Crystools \u001b[0;32mINFO\u001b[0m] NVIDIA Driver: b'550.90.07'\n",
      "\u001b[34m[ComfyUI-Easy-Use] server: \u001b[0mv1.2.4 \u001b[92mLoaded\u001b[0m\n",
      "\u001b[34m[ComfyUI-Easy-Use] web root: \u001b[0m/kaggle/working/ComfyUI/custom_nodes/ComfyUI-Easy-Use/web_version/v2 \u001b[92mLoaded\u001b[0m\n",
      "\u001b[34mWAS Node Suite: \u001b[0mCreated default conf file at `/kaggle/working/ComfyUI/custom_nodes/was-node-suite-comfyui/was_suite_config.json`.\u001b[0m\n",
      "[START] Security scan\n",
      "[DONE] Security scan\n",
      "## ComfyUI-Manager: installing dependencies done.\n",
      "** ComfyUI startup time: 2024-10-20 16:53:26.988274\n",
      "** Platform: Linux\n",
      "** Python version: 3.10.14 | packaged by conda-forge | (main, Mar 20 2024, 12:45:18) [GCC 12.3.0]\n",
      "** Python executable: /opt/conda/bin/python\n",
      "** ComfyUI Path: /kaggle/working/ComfyUI\n",
      "** Log path: /kaggle/working/ComfyUI/comfyui.log\n",
      "\n",
      "Prestartup times for custom nodes:\n",
      "   0.0 seconds: /kaggle/working/ComfyUI/custom_nodes/rgthree-comfy\n",
      "   0.0 seconds: /kaggle/working/ComfyUI/custom_nodes/ComfyUI-Easy-Use\n",
      "   2.1 seconds: /kaggle/working/ComfyUI/custom_nodes/ComfyUI-Manager\n",
      "\n"
     ]
    },
    {
     "name": "stderr",
     "output_type": "stream",
     "text": [
      "Set cuda device to: 1\n"
     ]
    },
    {
     "name": "stdout",
     "output_type": "stream",
     "text": [
      "\u001b[34mWAS Node Suite: \u001b[0mOpenCV Python FFMPEG support is enabled\u001b[0m\n",
      "\u001b[34mWAS Node Suite \u001b[93mWarning: \u001b[0m`ffmpeg_bin_path` is not set in `/kaggle/working/ComfyUI/custom_nodes/was-node-suite-comfyui/was_suite_config.json` config file. Will attempt to use system ffmpeg binaries if available.\u001b[0m\n"
     ]
    },
    {
     "name": "stderr",
     "output_type": "stream",
     "text": [
      "Total VRAM 15095 MB, total RAM 32110 MB\n",
      "pytorch version: 2.4.0\n",
      "Set vram state to: NORMAL_VRAM\n",
      "Device: cuda:0 Tesla T4 : cudaMallocAsync\n"
     ]
    },
    {
     "name": "stdout",
     "output_type": "stream",
     "text": [
      "\u001b[34mWAS Node Suite: \u001b[0mFinished.\u001b[0m \u001b[32mLoaded\u001b[0m \u001b[0m218\u001b[0m \u001b[32mnodes successfully.\u001b[0m\n",
      "\n",
      "\t\u001b[3m\u001b[93m\"The future belongs to those who believe in the beauty of their dreams.\"\u001b[0m\u001b[3m - Eleanor Roosevelt\u001b[0m\n",
      "\n",
      "\u001b[0;33m[ReActor]\u001b[0m - \u001b[38;5;173mSTATUS\u001b[0m - \u001b[0;32mRunning v0.5.1-b2 in ComfyUI\u001b[0m\n",
      "Torch version: 2.4.0\n",
      "Creating new Ultralytics Settings v0.0.6 file ✅ \n",
      "View Ultralytics Settings with 'yolo settings' or at '/root/.config/Ultralytics/settings.json'\n",
      "Update Settings with 'yolo settings key=value', i.e. 'yolo settings runs_dir=path/to/dir'. For help see https://docs.ultralytics.com/quickstart/#ultralytics-settings.\n",
      "### Loading: ComfyUI-Impact-Pack (V7.10.3)\n"
     ]
    },
    {
     "name": "stderr",
     "output_type": "stream",
     "text": [
      "[Impact Pack] Failed to import due to several dependencies are missing!!!!\n",
      "Traceback (most recent call last):\n",
      "  File \"/kaggle/working/ComfyUI/nodes.py\", line 2001, in load_custom_node\n",
      "    module_spec.loader.exec_module(module)\n",
      "  File \"<frozen importlib._bootstrap_external>\", line 883, in exec_module\n",
      "  File \"<frozen importlib._bootstrap>\", line 241, in _call_with_frames_removed\n",
      "  File \"/kaggle/working/ComfyUI/custom_nodes/ComfyUI-Impact-Pack/__init__.py\", line 53, in <module>\n",
      "    raise e\n",
      "  File \"/kaggle/working/ComfyUI/custom_nodes/ComfyUI-Impact-Pack/__init__.py\", line 31, in <module>\n",
      "    import impact.subpack_nodes  # This import must be done before cv2.\n",
      "ModuleNotFoundError: No module named 'impact.subpack_nodes'\n",
      "\n",
      "Cannot import /kaggle/working/ComfyUI/custom_nodes/ComfyUI-Impact-Pack module for custom nodes: No module named 'impact.subpack_nodes'\n",
      "\n",
      "Import times for custom nodes:\n",
      "   0.0 seconds: /kaggle/working/ComfyUI/custom_nodes/websocket_image_save.py\n",
      "   0.0 seconds (IMPORT FAILED): /kaggle/working/ComfyUI/custom_nodes/ComfyUI-Inference-Core-Nodes\n",
      "   0.0 seconds: /kaggle/working/ComfyUI/custom_nodes/ComfyUI_Noise\n",
      "   0.0 seconds: /kaggle/working/ComfyUI/custom_nodes/klinter_nodes\n",
      "   0.0 seconds: /kaggle/working/ComfyUI/custom_nodes/ComfyUI_experiments\n",
      "   0.0 seconds (IMPORT FAILED): /kaggle/working/ComfyUI/custom_nodes/ComfyUI-Impact-Pack\n",
      "   0.0 seconds: /kaggle/working/ComfyUI/custom_nodes/ComfyUI_bitsandbytes_NF4\n",
      "   0.0 seconds: /kaggle/working/ComfyUI/custom_nodes/comfyui-various\n",
      "   0.0 seconds: /kaggle/working/ComfyUI/custom_nodes/ComfyUI-GGUF\n",
      "   0.0 seconds: /kaggle/working/ComfyUI/custom_nodes/ComfyUI-Custom-Scripts\n",
      "   0.0 seconds: /kaggle/working/ComfyUI/custom_nodes/rgthree-comfy\n",
      "   0.0 seconds: /kaggle/working/ComfyUI/custom_nodes/ComfyUI-Florence2\n",
      "   0.1 seconds: /kaggle/working/ComfyUI/custom_nodes/ComfyUI-Manager\n",
      "   0.1 seconds: /kaggle/working/ComfyUI/custom_nodes/ComfyUI-KJNodes\n",
      "   0.4 seconds: /kaggle/working/ComfyUI/custom_nodes/comfyui-reactor-node\n",
      "   0.4 seconds: /kaggle/working/ComfyUI/custom_nodes/ComfyUI-Crystools\n",
      "   0.6 seconds: /kaggle/working/ComfyUI/custom_nodes/ComfyUI_Comfyroll_CustomNodes\n",
      "   0.7 seconds: /kaggle/working/ComfyUI/custom_nodes/Comfyui_saveimage_imgbb\n",
      "   0.8 seconds: /kaggle/working/ComfyUI/custom_nodes/ComfyUI-Easy-Use\n",
      "   1.2 seconds: /kaggle/working/ComfyUI/custom_nodes/ComfyUI_InstantID\n",
      "   3.8 seconds: /kaggle/working/ComfyUI/custom_nodes/was-node-suite-comfyui\n",
      "  14.0 seconds: /kaggle/working/ComfyUI/custom_nodes/x-flux-comfyui\n",
      "\n",
      "Starting server\n",
      "\n",
      "To see the GUI go to: http://127.0.0.1:8188\n",
      "Using pytorch cross attention\n",
      "[Prompt Server] web root: /kaggle/working/ComfyUI/web\n",
      "/opt/conda/lib/python3.10/site-packages/kornia/feature/lightglue.py:44: FutureWarning: `torch.cuda.amp.custom_fwd(args...)` is deprecated. Please use `torch.amp.custom_fwd(args..., device_type='cuda')` instead.\n",
      "  @torch.cuda.amp.custom_fwd(cast_inputs=torch.float32)\n",
      "NumExpr defaulting to 4 threads.\n"
     ]
    },
    {
     "name": "stdout",
     "output_type": "stream",
     "text": [
      "### Loading: ComfyUI-Manager (V2.51.8)\n",
      "### ComfyUI Revision: 2775 [f9f9fafa] | Released on '2024-10-20'\n",
      "[ComfyUI-Manager] default cache updated: https://raw.githubusercontent.com/ltdrdata/ComfyUI-Manager/main/alter-list.json\n",
      "[ComfyUI-Manager] default cache updated: https://raw.githubusercontent.com/ltdrdata/ComfyUI-Manager/main/github-stats.json\n",
      "[ComfyUI-Manager] default cache updated: https://raw.githubusercontent.com/ltdrdata/ComfyUI-Manager/main/model-list.json\n",
      "[ComfyUI-Manager] default cache updated: https://raw.githubusercontent.com/ltdrdata/ComfyUI-Manager/main/extension-node-map.json\n",
      "[ComfyUI-Manager] default cache updated: https://raw.githubusercontent.com/ltdrdata/ComfyUI-Manager/main/custom-node-list.json\n",
      "------------------------------------------\n",
      "\u001b[34mComfyroll Studio v1.76 : \u001b[92m 175 Nodes Loaded\u001b[0m\n",
      "------------------------------------------\n",
      "** For changes, please see patch notes at https://github.com/Suzie1/ComfyUI_Comfyroll_CustomNodes/blob/main/Patch_Notes.md\n",
      "** For help, please see the wiki at https://github.com/Suzie1/ComfyUI_Comfyroll_CustomNodes/wiki\n",
      "------------------------------------------\n",
      "\n",
      "\u001b[92m[rgthree-comfy] Loaded 42 exciting nodes. 🎉\u001b[00m\n",
      "\n"
     ]
    },
    {
     "name": "stderr",
     "output_type": "stream",
     "text": [
      "Total VRAM 15095 MB, total RAM 32110 MB\n",
      "pytorch version: 2.4.0\n",
      "Set vram state to: NORMAL_VRAM\n",
      "Device: cuda:0 Tesla T4 : cudaMallocAsync\n",
      "Traceback (most recent call last):\n",
      "  File \"/kaggle/working/ComfyUI/nodes.py\", line 2001, in load_custom_node\n",
      "    module_spec.loader.exec_module(module)\n",
      "  File \"<frozen importlib._bootstrap_external>\", line 883, in exec_module\n",
      "  File \"<frozen importlib._bootstrap>\", line 241, in _call_with_frames_removed\n",
      "  File \"/kaggle/working/ComfyUI/custom_nodes/ComfyUI-Inference-Core-Nodes/__init__.py\", line 1, in <module>\n",
      "    from inference_core_nodes import NODE_CLASS_MAPPINGS, NODE_DISPLAY_NAME_MAPPINGS\n",
      "ModuleNotFoundError: No module named 'inference_core_nodes'\n",
      "\n",
      "Cannot import /kaggle/working/ComfyUI/custom_nodes/ComfyUI-Inference-Core-Nodes module for custom nodes: No module named 'inference_core_nodes'\n",
      "/opt/conda/lib/python3.10/site-packages/albumentations/__init__.py:13: UserWarning: A new version of Albumentations is available: 1.4.18 (you have 1.4.17). Upgrade using: pip install -U albumentations. To disable automatic update checks, set the environment variable NO_ALBUMENTATIONS_UPDATE to 1.\n",
      "  check_for_updates()\n"
     ]
    },
    {
     "name": "stdout",
     "output_type": "stream",
     "text": [
      "[Crystools \u001b[0;32mINFO\u001b[0m] Crystools version: 1.19.0\n",
      "[Crystools \u001b[0;32mINFO\u001b[0m] CPU: Intel(R) Xeon(R) CPU @ 2.00GHz - Arch: x86_64 - OS: Linux 5.15.154+\n",
      "[Crystools \u001b[0;32mINFO\u001b[0m] Pynvml (Nvidia) initialized.\n",
      "[Crystools \u001b[0;32mINFO\u001b[0m] GPU/s:\n",
      "[Crystools \u001b[0;32mINFO\u001b[0m] 0) Tesla T4\n",
      "[Crystools \u001b[0;32mINFO\u001b[0m] 1) Tesla T4\n",
      "[Crystools \u001b[0;32mINFO\u001b[0m] NVIDIA Driver: b'550.90.07'\n",
      "\u001b[34m[ComfyUI-Easy-Use] server: \u001b[0mv1.2.4 \u001b[92mLoaded\u001b[0m\n",
      "\u001b[34m[ComfyUI-Easy-Use] web root: \u001b[0m/kaggle/working/ComfyUI/custom_nodes/ComfyUI-Easy-Use/web_version/v2 \u001b[92mLoaded\u001b[0m\n",
      "\u001b[34mWAS Node Suite: \u001b[0mOpenCV Python FFMPEG support is enabled\u001b[0m\n",
      "\u001b[34mWAS Node Suite \u001b[93mWarning: \u001b[0m`ffmpeg_bin_path` is not set in `/kaggle/working/ComfyUI/custom_nodes/was-node-suite-comfyui/was_suite_config.json` config file. Will attempt to use system ffmpeg binaries if available.\u001b[0m\n",
      "\u001b[34mWAS Node Suite: \u001b[0mFinished.\u001b[0m \u001b[32mLoaded\u001b[0m \u001b[0m218\u001b[0m \u001b[32mnodes successfully.\u001b[0m\n",
      "\n",
      "\t\u001b[3m\u001b[93m\"The future belongs to those who believe in the beauty of their dreams.\"\u001b[0m\u001b[3m - Eleanor Roosevelt\u001b[0m\n",
      "\n",
      "\u001b[0;33m[ReActor]\u001b[0m - \u001b[38;5;173mSTATUS\u001b[0m - \u001b[0;32mRunning v0.5.1-b2 in ComfyUI\u001b[0m\n",
      "Torch version: 2.4.0\n",
      "### Loading: ComfyUI-Impact-Pack (V7.10.3)\n"
     ]
    },
    {
     "name": "stderr",
     "output_type": "stream",
     "text": [
      "[Impact Pack] Failed to import due to several dependencies are missing!!!!\n",
      "Traceback (most recent call last):\n",
      "  File \"/kaggle/working/ComfyUI/nodes.py\", line 2001, in load_custom_node\n",
      "    module_spec.loader.exec_module(module)\n",
      "  File \"<frozen importlib._bootstrap_external>\", line 883, in exec_module\n",
      "  File \"<frozen importlib._bootstrap>\", line 241, in _call_with_frames_removed\n",
      "  File \"/kaggle/working/ComfyUI/custom_nodes/ComfyUI-Impact-Pack/__init__.py\", line 53, in <module>\n",
      "    raise e\n",
      "  File \"/kaggle/working/ComfyUI/custom_nodes/ComfyUI-Impact-Pack/__init__.py\", line 31, in <module>\n",
      "    import impact.subpack_nodes  # This import must be done before cv2.\n",
      "ModuleNotFoundError: No module named 'impact.subpack_nodes'\n",
      "\n",
      "Cannot import /kaggle/working/ComfyUI/custom_nodes/ComfyUI-Impact-Pack module for custom nodes: No module named 'impact.subpack_nodes'\n",
      "\n",
      "Import times for custom nodes:\n",
      "   0.0 seconds: /kaggle/working/ComfyUI/custom_nodes/websocket_image_save.py\n",
      "   0.0 seconds: /kaggle/working/ComfyUI/custom_nodes/ComfyUI_Noise\n",
      "   0.0 seconds: /kaggle/working/ComfyUI/custom_nodes/klinter_nodes\n",
      "   0.0 seconds (IMPORT FAILED): /kaggle/working/ComfyUI/custom_nodes/ComfyUI-Inference-Core-Nodes\n",
      "   0.0 seconds: /kaggle/working/ComfyUI/custom_nodes/ComfyUI_experiments\n",
      "   0.0 seconds (IMPORT FAILED): /kaggle/working/ComfyUI/custom_nodes/ComfyUI-Impact-Pack\n",
      "   0.0 seconds: /kaggle/working/ComfyUI/custom_nodes/comfyui-various\n",
      "   0.0 seconds: /kaggle/working/ComfyUI/custom_nodes/ComfyUI-Custom-Scripts\n",
      "   0.0 seconds: /kaggle/working/ComfyUI/custom_nodes/rgthree-comfy\n",
      "   0.0 seconds: /kaggle/working/ComfyUI/custom_nodes/ComfyUI-GGUF\n",
      "   0.0 seconds: /kaggle/working/ComfyUI/custom_nodes/ComfyUI_bitsandbytes_NF4\n",
      "   0.0 seconds: /kaggle/working/ComfyUI/custom_nodes/ComfyUI-KJNodes\n",
      "   0.0 seconds: /kaggle/working/ComfyUI/custom_nodes/ComfyUI-Florence2\n",
      "   0.1 seconds: /kaggle/working/ComfyUI/custom_nodes/ComfyUI-Manager\n",
      "   0.1 seconds: /kaggle/working/ComfyUI/custom_nodes/ComfyUI-Crystools\n",
      "   0.1 seconds: /kaggle/working/ComfyUI/custom_nodes/comfyui-reactor-node\n",
      "   0.3 seconds: /kaggle/working/ComfyUI/custom_nodes/Comfyui_saveimage_imgbb\n",
      "   0.5 seconds: /kaggle/working/ComfyUI/custom_nodes/ComfyUI_Comfyroll_CustomNodes\n",
      "   0.6 seconds: /kaggle/working/ComfyUI/custom_nodes/ComfyUI_InstantID\n",
      "   0.7 seconds: /kaggle/working/ComfyUI/custom_nodes/ComfyUI-Easy-Use\n",
      "   2.9 seconds: /kaggle/working/ComfyUI/custom_nodes/was-node-suite-comfyui\n",
      "   3.4 seconds: /kaggle/working/ComfyUI/custom_nodes/x-flux-comfyui\n",
      "\n",
      "Starting server\n",
      "\n",
      "To see the GUI go to: http://127.0.0.1:8189\n"
     ]
    }
   ],
   "source": [
    "import subprocess,os\n",
    "import threading\n",
    "import time\n",
    "import socket\n",
    "import urllib.request\n",
    "\n",
    "get_ipython().system(\"npm install -g npm\")\n",
    "get_ipython().system(\"npm install -g localtunnel\")\n",
    "\n",
    "def iframe_thread(port):\n",
    "  while True:\n",
    "      time.sleep(0.5)\n",
    "      sock = socket.socket(socket.AF_INET, socket.SOCK_STREAM)\n",
    "      result = sock.connect_ex(('127.0.0.1', port))\n",
    "      if result == 0:\n",
    "        break\n",
    "      sock.close()\n",
    "  print(\"\\nComfyUI finished loading, trying to launch localtunnel (if it gets stuck here localtunnel is having issues)\\n\")\n",
    "\n",
    "  print(\"The password/enpoint ip for localtunnel is:\", urllib.request.urlopen('https://ipv4.icanhazip.com').read().decode('utf8').strip(\"\\n\"))\n",
    "  p = subprocess.Popen([\"lt\", \"--port\", \"{}\".format(port)], stdout=subprocess.PIPE)\n",
    "  for line in p.stdout:\n",
    "    print(line.decode(), end='')\n",
    "\n",
    "\n",
    "# threading.Thread(target=iframe_thread, daemon=True, args=(8188,8189,)).start()\n",
    "# %cd /kaggle/working/ComfyUI/\n",
    "# # threading.Thread(target=iframe_thread, daemon=True, args=(8189,)).start()\n",
    "# !python main.py  --cuda-device 0 --port 8188; python main.py --cuda-device 1 --port 8189\n",
    "# # --dont-print-server\n",
    "\n",
    "# Change directory to ComfyUI\n",
    "os.chdir(\"/kaggle/working/ComfyUI/\")\n",
    "\n",
    "\n",
    "\n",
    "# Launch ComfyUI instances\n",
    "subprocess.Popen([\"python\", \"main.py\", \"--cuda-device\", \"0\", \"--port\", \"8188\"])\n",
    "time.sleep(30)\n",
    "subprocess.Popen([\"python\", \"main.py\", \"--cuda-device\", \"1\", \"--port\", \"8189\"])\n",
    "time.sleep(30)\n",
    "# subprocess.Popen([\"./limit_ram.sh\",\"python\", \"main.py\", \"--cuda-device\", \"0\", \"--port\", \"8188\"])\n",
    "# subprocess.Popen([\"./limit_ram.sh\",\"python\", \"main.py\", \"--cuda-device\", \"1\", \"--port\", \"8189\"])\n",
    "\n",
    "time.sleep(30)\n",
    "\n",
    "# Start threads for both ports\n",
    "threading.Thread(target=iframe_thread, daemon=True, args=(8188,)).start()\n",
    "threading.Thread(target=iframe_thread, daemon=True, args=(8189,)).start()"
   ]
  },
  {
   "cell_type": "raw",
   "id": "220f5c00",
   "metadata": {
    "papermill": {
     "duration": 0.075608,
     "end_time": "2024-10-20T16:54:24.951257",
     "exception": false,
     "start_time": "2024-10-20T16:54:24.875649",
     "status": "completed"
    },
    "tags": []
   },
   "source": [
    "\n",
    "!ps -fax\n"
   ]
  },
  {
   "cell_type": "raw",
   "id": "9574bd9c",
   "metadata": {
    "execution": {
     "iopub.execute_input": "2024-10-14T16:21:59.207883Z",
     "iopub.status.busy": "2024-10-14T16:21:59.206886Z",
     "iopub.status.idle": "2024-10-14T16:21:59.214405Z",
     "shell.execute_reply": "2024-10-14T16:21:59.213204Z",
     "shell.execute_reply.started": "2024-10-14T16:21:59.207823Z"
    },
    "papermill": {
     "duration": 0.077444,
     "end_time": "2024-10-20T16:54:25.105351",
     "exception": false,
     "start_time": "2024-10-20T16:54:25.027907",
     "status": "completed"
    },
    "tags": []
   },
   "source": [
    "# subprocess.Popen([\"python\", \"main.py\", \"--cuda-device\", \"1\", \"--port\", \"8189\"])\n",
    "threading.Thread(target=iframe_thread, daemon=True, args=(8189,)).start()\n",
    "threading.Thread(target=iframe_thread, daemon=True, args=(8188,)).start()\n",
    "# !ps -fax\n",
    "# !python main.py --help"
   ]
  },
  {
   "cell_type": "raw",
   "id": "f82ba991",
   "metadata": {
    "execution": {
     "iopub.execute_input": "2024-10-14T16:22:49.025498Z",
     "iopub.status.busy": "2024-10-14T16:22:49.024631Z",
     "iopub.status.idle": "2024-10-14T16:22:50.040936Z",
     "shell.execute_reply": "2024-10-14T16:22:50.039547Z",
     "shell.execute_reply.started": "2024-10-14T16:22:49.025439Z"
    },
    "papermill": {
     "duration": 0.116002,
     "end_time": "2024-10-20T16:54:25.298416",
     "exception": false,
     "start_time": "2024-10-20T16:54:25.182414",
     "status": "completed"
    },
    "tags": []
   },
   "source": [
    "!kill 1567 1568"
   ]
  },
  {
   "cell_type": "raw",
   "id": "90eaca34",
   "metadata": {
    "execution": {
     "iopub.execute_input": "2024-10-20T16:36:42.798584Z",
     "iopub.status.busy": "2024-10-20T16:36:42.798166Z",
     "iopub.status.idle": "2024-10-20T16:38:13.819183Z",
     "shell.execute_reply": "2024-10-20T16:38:13.817891Z",
     "shell.execute_reply.started": "2024-10-20T16:36:42.798543Z"
    },
    "papermill": {
     "duration": 0.114475,
     "end_time": "2024-10-20T16:54:25.493479",
     "exception": false,
     "start_time": "2024-10-20T16:54:25.379004",
     "status": "completed"
    },
    "tags": []
   },
   "source": [
    "%pip uninstall torch torchvision torchaudio -y\n",
    "%pip install torch torchvision torchaudio --index-url https://download.pytorch.org/whl/cu121"
   ]
  },
  {
   "cell_type": "code",
   "execution_count": 6,
   "id": "ed3420d8",
   "metadata": {
    "execution": {
     "iopub.execute_input": "2024-10-20T16:54:25.726781Z",
     "iopub.status.busy": "2024-10-20T16:54:25.726360Z",
     "iopub.status.idle": "2024-10-20T16:54:27.420847Z",
     "shell.execute_reply": "2024-10-20T16:54:27.419878Z"
    },
    "papermill": {
     "duration": 1.813195,
     "end_time": "2024-10-20T16:54:27.422922",
     "exception": false,
     "start_time": "2024-10-20T16:54:25.609727",
     "status": "completed"
    },
    "tags": []
   },
   "outputs": [
    {
     "name": "stdout",
     "output_type": "stream",
     "text": [
      "PyTorch version: 2.4.0\n",
      "CUDA available: True\n",
      "CUDA version: 12.3\n"
     ]
    }
   ],
   "source": [
    "import torch\n",
    "print(f\"PyTorch version: {torch.__version__}\")\n",
    "print(f\"CUDA available: {torch.cuda.is_available()}\")\n",
    "print(f\"CUDA version: {torch.version.cuda}\")"
   ]
  },
  {
   "cell_type": "raw",
   "id": "97e7c37d",
   "metadata": {
    "execution": {
     "iopub.execute_input": "2024-10-14T12:23:28.404377Z",
     "iopub.status.busy": "2024-10-14T12:23:28.403555Z",
     "iopub.status.idle": "2024-10-14T12:23:28.410151Z",
     "shell.execute_reply": "2024-10-14T12:23:28.409241Z",
     "shell.execute_reply.started": "2024-10-14T12:23:28.404335Z"
    },
    "jupyter": {
     "outputs_hidden": true
    },
    "papermill": {
     "duration": 0.07729,
     "end_time": "2024-10-20T16:54:27.581232",
     "exception": false,
     "start_time": "2024-10-20T16:54:27.503942",
     "status": "completed"
    },
    "tags": []
   },
   "source": [
    "%%writefile custom_nodes/ComfyUI-Manager/config.ini\n",
    "[default]\n",
    "preview_method = none\n",
    "badge_mode = none\n",
    "git_exe = \n",
    "channel_url = https://raw.githubusercontent.com/ltdrdata/ComfyUI-Manager/main\n",
    "share_option = all\n",
    "bypass_ssl = False\n",
    "file_logging = True\n",
    "default_ui = none\n",
    "component_policy = workflow\n",
    "double_click_policy = copy-all\n",
    "windows_selector_event_loop_policy = False\n",
    "model_download_by_agent = False\n",
    "downgrade_blacklist = \n",
    "security_level = normal-\n",
    "\n"
   ]
  },
  {
   "cell_type": "raw",
   "id": "2161328e",
   "metadata": {
    "execution": {
     "iopub.execute_input": "2024-10-20T16:21:52.438989Z",
     "iopub.status.busy": "2024-10-20T16:21:52.438107Z",
     "iopub.status.idle": "2024-10-20T16:21:53.426964Z",
     "shell.execute_reply": "2024-10-20T16:21:53.425721Z",
     "shell.execute_reply.started": "2024-10-20T16:21:52.438929Z"
    },
    "papermill": {
     "duration": 0.076584,
     "end_time": "2024-10-20T16:54:27.734504",
     "exception": false,
     "start_time": "2024-10-20T16:54:27.657920",
     "status": "completed"
    },
    "tags": []
   },
   "source": [
    "ls /kaggle/working/ComfyUI/ -ltrha\n",
    "\n",
    "!sudo rm /kaggle/working/ComfyUI2 -r\n",
    "\n",
    "!rsync -av --ignore-existing /kaggle/working/ComfyUI2/custom_nodes/ /kaggle/working/ComfyUI/custom_nodes/\n",
    "!rsync -av --ignore-existing /kaggle/working/ComfyUI2/models/ /kaggle/working/ComfyUI/models/\n",
    "\n",
    "!mv --help"
   ]
  },
  {
   "cell_type": "raw",
   "id": "281e26d1",
   "metadata": {
    "papermill": {
     "duration": 0.077259,
     "end_time": "2024-10-20T16:54:27.889508",
     "exception": false,
     "start_time": "2024-10-20T16:54:27.812249",
     "status": "completed"
    },
    "tags": []
   },
   "source": [
    "%cd /kaggle/working\n",
    "get_ipython().system(f'git clone https://github.com/comfyanonymous/ComfyUI.git')"
   ]
  },
  {
   "cell_type": "raw",
   "id": "4da7d96d",
   "metadata": {
    "papermill": {
     "duration": 0.077478,
     "end_time": "2024-10-20T16:54:28.044766",
     "exception": false,
     "start_time": "2024-10-20T16:54:27.967288",
     "status": "completed"
    },
    "tags": []
   },
   "source": [
    "# --- Variables ---\n",
    "\n",
    "Ngrok_token = \"2ciZYxxxxxxxxx\"  # Update with your ngrok token\n",
    "Ngrok_domain = \"\"  # optional, leave empty if you don't have a domain\n",
    "port = 8188\n",
    "\n",
    "# -----------------\n",
    "\n",
    "!pip install pyngrok==6.1.0  # Downgrade to a version that supports ngrok tunneling\n",
    "\n",
    "from pyngrok import ngrok, conf\n",
    "import gc\n",
    "\n",
    "gc.collect()\n",
    "\n",
    "if Ngrok_token:\n",
    "    try:\n",
    "        ngrok.set_auth_token(Ngrok_token)\n",
    "        ngrok.kill()\n",
    "        srv = ngrok.connect(port)\n",
    "        print(f\"Ngrok Tunnel is active at: {srv.public_url}\")\n",
    "        \n",
    "        # Replace this line with the command to start the text-generation-webui\n",
    "        !echo -e \"A\\nN\" | python /kaggle/ComfyUI/main.py\n",
    "        \n",
    "    except Exception as e:\n",
    "        print(f\"Error starting ngrok tunnel: {e}\")\n",
    "else:\n",
    "    print('An ngrok token is required. You can get one on https://ngrok.com and paste it into the Ngrok_token field.')"
   ]
  },
  {
   "cell_type": "raw",
   "id": "9aa0f3dc",
   "metadata": {
    "papermill": {
     "duration": 0.077004,
     "end_time": "2024-10-20T16:54:28.199274",
     "exception": false,
     "start_time": "2024-10-20T16:54:28.122270",
     "status": "completed"
    },
    "tags": []
   },
   "source": [
    "# %ls /kaggle/working/ComfyUI/models/unet/ -l\n",
    "\n",
    "!wget -P ~ https://github.com/cloudflare/cloudflared/releases/latest/download/cloudflared-linux-amd64.deb -c --quiet\n",
    "!dpkg -i ~/cloudflared-linux-amd64.deb \n",
    "\n",
    "import subprocess\n",
    "import threading\n",
    "import time\n",
    "import socket\n",
    "import urllib.request\n",
    "\n",
    "def iframe_thread(port):\n",
    "  while True:\n",
    "      time.sleep(0.5)\n",
    "      sock = socket.socket(socket.AF_INET, socket.SOCK_STREAM)\n",
    "      result = sock.connect_ex(('127.0.0.1', port))\n",
    "      if result == 0:\n",
    "        break\n",
    "      sock.close()\n",
    "  print(\"\\nComfyUI finished loading, trying to launch cloudflared (if it gets stuck here cloudflared is having issues)\\n\")\n",
    "\n",
    "  p = subprocess.Popen([\"cloudflared\", \"tunnel\", \"--url\", \"http://127.0.0.1:{}\".format(port)], stdout=subprocess.PIPE, stderr=subprocess.PIPE)\n",
    "  for line in p.stderr:\n",
    "    l = line.decode()\n",
    "    if \"trycloudflare.com \" in l:\n",
    "      print(\"This is the URL to access ComfyUI:\", l[l.find(\"http\"):], end='')\n",
    "    #print(l, end='')\n",
    "\n",
    "\n",
    "threading.Thread(target=iframe_thread, daemon=True, args=(8188,)).start()\n",
    "\n",
    "%cd /kaggle/working/ComfyUI/\n",
    "!python main.py --dont-print-server"
   ]
  },
  {
   "cell_type": "raw",
   "id": "59baf07a",
   "metadata": {
    "papermill": {
     "duration": 0.082544,
     "end_time": "2024-10-20T16:54:28.359749",
     "exception": false,
     "start_time": "2024-10-20T16:54:28.277205",
     "status": "completed"
    },
    "tags": []
   },
   "source": []
  },
  {
   "cell_type": "raw",
   "id": "ea6a7781",
   "metadata": {
    "papermill": {
     "duration": 0.09549,
     "end_time": "2024-10-20T16:54:28.559266",
     "exception": false,
     "start_time": "2024-10-20T16:54:28.463776",
     "status": "completed"
    },
    "tags": []
   },
   "source": []
  },
  {
   "cell_type": "raw",
   "id": "e5c0ce41",
   "metadata": {
    "papermill": {
     "duration": 0.077094,
     "end_time": "2024-10-20T16:54:28.727603",
     "exception": false,
     "start_time": "2024-10-20T16:54:28.650509",
     "status": "completed"
    },
    "tags": []
   },
   "source": []
  },
  {
   "cell_type": "raw",
   "id": "8aab0045",
   "metadata": {
    "papermill": {
     "duration": 0.078266,
     "end_time": "2024-10-20T16:54:28.884173",
     "exception": false,
     "start_time": "2024-10-20T16:54:28.805907",
     "status": "completed"
    },
    "tags": []
   },
   "source": []
  },
  {
   "cell_type": "raw",
   "id": "2d635e64",
   "metadata": {
    "papermill": {
     "duration": 0.07665,
     "end_time": "2024-10-20T16:54:29.037742",
     "exception": false,
     "start_time": "2024-10-20T16:54:28.961092",
     "status": "completed"
    },
    "tags": []
   },
   "source": []
  },
  {
   "cell_type": "raw",
   "id": "51ff877d",
   "metadata": {
    "papermill": {
     "duration": 0.076649,
     "end_time": "2024-10-20T16:54:29.192479",
     "exception": false,
     "start_time": "2024-10-20T16:54:29.115830",
     "status": "completed"
    },
    "tags": []
   },
   "source": [
    "%pip install -U -r /kaggle/working/ComfyUI/requirements.txt -q\n",
    "%pip install -U gguf onnxruntime albumentations surrealist bitsandbytes piexif ultralytics insightface opencv-python-headless -q"
   ]
  },
  {
   "cell_type": "raw",
   "id": "3c906ee9",
   "metadata": {
    "papermill": {
     "duration": 0.077599,
     "end_time": "2024-10-20T16:54:29.346473",
     "exception": false,
     "start_time": "2024-10-20T16:54:29.268874",
     "status": "completed"
    },
    "tags": []
   },
   "source": []
  },
  {
   "cell_type": "raw",
   "id": "59541703",
   "metadata": {
    "papermill": {
     "duration": 0.080171,
     "end_time": "2024-10-20T16:54:29.505811",
     "exception": false,
     "start_time": "2024-10-20T16:54:29.425640",
     "status": "completed"
    },
    "tags": []
   },
   "source": [
    "!kill 737  738 "
   ]
  },
  {
   "cell_type": "raw",
   "id": "91ad408f",
   "metadata": {
    "papermill": {
     "duration": 0.078352,
     "end_time": "2024-10-20T16:54:29.661804",
     "exception": false,
     "start_time": "2024-10-20T16:54:29.583452",
     "status": "completed"
    },
    "tags": []
   },
   "source": [
    "!ps fax"
   ]
  },
  {
   "cell_type": "raw",
   "id": "9707eb78",
   "metadata": {
    "execution": {
     "iopub.execute_input": "2024-10-10T10:07:32.770834Z",
     "iopub.status.busy": "2024-10-10T10:07:32.770062Z",
     "iopub.status.idle": "2024-10-10T10:07:32.87729Z",
     "shell.execute_reply": "2024-10-10T10:07:32.876431Z",
     "shell.execute_reply.started": "2024-10-10T10:07:32.770794Z"
    },
    "papermill": {
     "duration": 0.07635,
     "end_time": "2024-10-20T16:54:29.814362",
     "exception": false,
     "start_time": "2024-10-20T16:54:29.738012",
     "status": "completed"
    },
    "tags": []
   },
   "source": [
    "import os, shutil\n",
    "from glob import glob\n",
    "for x in glob('/kaggle/working/output_*zip'):\n",
    "    print(x)\n",
    "    os.remove(x)"
   ]
  },
  {
   "cell_type": "raw",
   "id": "10d1df47",
   "metadata": {
    "papermill": {
     "duration": 0.078849,
     "end_time": "2024-10-20T16:54:29.976538",
     "exception": false,
     "start_time": "2024-10-20T16:54:29.897689",
     "status": "completed"
    },
    "tags": []
   },
   "source": [
    "!ncdu"
   ]
  },
  {
   "cell_type": "raw",
   "id": "153d420a",
   "metadata": {
    "execution": {
     "iopub.execute_input": "2024-10-04T11:12:38.438663Z",
     "iopub.status.busy": "2024-10-04T11:12:38.437688Z",
     "iopub.status.idle": "2024-10-04T11:12:38.454049Z",
     "shell.execute_reply": "2024-10-04T11:12:38.453091Z",
     "shell.execute_reply.started": "2024-10-04T11:12:38.438595Z"
    },
    "papermill": {
     "duration": 0.078585,
     "end_time": "2024-10-20T16:54:30.132042",
     "exception": false,
     "start_time": "2024-10-20T16:54:30.053457",
     "status": "completed"
    },
    "tags": []
   },
   "source": [
    "%%writefile /kaggle/working/ComfyUI/limit_ram.sh\n",
    "#!/bin/bash\n",
    "\n",
    "# Calculate 80% of total memory in KB\n",
    "total_mem=$(free -k | awk '/^Mem:/ {print $2}')\n",
    "mem_limit=$((total_mem * 80 / 100))\n",
    "\n",
    "# Set the memory limit\n",
    "ulimit -v $mem_limit\n",
    "\n",
    "# Run the command with its arguments\n",
    "exec \"$@\""
   ]
  },
  {
   "cell_type": "raw",
   "id": "b3c1f873",
   "metadata": {
    "execution": {
     "iopub.execute_input": "2024-10-04T11:13:14.548089Z",
     "iopub.status.busy": "2024-10-04T11:13:14.547706Z",
     "iopub.status.idle": "2024-10-04T11:13:15.529529Z",
     "shell.execute_reply": "2024-10-04T11:13:15.528469Z",
     "shell.execute_reply.started": "2024-10-04T11:13:14.548051Z"
    },
    "papermill": {
     "duration": 0.085928,
     "end_time": "2024-10-20T16:54:30.295934",
     "exception": false,
     "start_time": "2024-10-20T16:54:30.210006",
     "status": "completed"
    },
    "tags": []
   },
   "source": [
    "!chmod +x /kaggle/working/ComfyUI/limit_ram.sh"
   ]
  },
  {
   "cell_type": "raw",
   "id": "d8fdd0f1",
   "metadata": {
    "papermill": {
     "duration": 0.083976,
     "end_time": "2024-10-20T16:54:30.469244",
     "exception": false,
     "start_time": "2024-10-20T16:54:30.385268",
     "status": "completed"
    },
    "tags": []
   },
   "source": []
  },
  {
   "cell_type": "raw",
   "id": "d4146bc0",
   "metadata": {
    "papermill": {
     "duration": 0.076959,
     "end_time": "2024-10-20T16:54:30.625009",
     "exception": false,
     "start_time": "2024-10-20T16:54:30.548050",
     "status": "completed"
    },
    "tags": []
   },
   "source": [
    "\n",
    "install_this(\"https://github.com/ltdrdata/ComfyUI-Manager\")\n",
    "# install_this(\"https://github.com/revirevy/Comfyui_saveimage_imgbb\")\n"
   ]
  },
  {
   "cell_type": "raw",
   "id": "dc492df7",
   "metadata": {
    "papermill": {
     "duration": 0.07652,
     "end_time": "2024-10-20T16:54:30.779038",
     "exception": false,
     "start_time": "2024-10-20T16:54:30.702518",
     "status": "completed"
    },
    "tags": []
   },
   "source": [
    "\n",
    "!ps fax"
   ]
  },
  {
   "cell_type": "raw",
   "id": "23686741",
   "metadata": {
    "papermill": {
     "duration": 0.076133,
     "end_time": "2024-10-20T16:54:30.931793",
     "exception": false,
     "start_time": "2024-10-20T16:54:30.855660",
     "status": "completed"
    },
    "tags": []
   },
   "source": [
    "!kill 440     441     639  "
   ]
  },
  {
   "cell_type": "raw",
   "id": "d182e75b",
   "metadata": {
    "papermill": {
     "duration": 0.07656,
     "end_time": "2024-10-20T16:54:31.088577",
     "exception": false,
     "start_time": "2024-10-20T16:54:31.012017",
     "status": "completed"
    },
    "tags": []
   },
   "source": [
    "threading.Thread(target=iframe_thread, daemon=True, args=(8189,)).start()"
   ]
  },
  {
   "cell_type": "raw",
   "id": "e66503be",
   "metadata": {
    "papermill": {
     "duration": 0.082234,
     "end_time": "2024-10-20T16:54:31.252129",
     "exception": false,
     "start_time": "2024-10-20T16:54:31.169895",
     "status": "completed"
    },
    "tags": []
   },
   "source": [
    "threading.Thread(target=iframe_thread, daemon=True, args=(8188,)).start()"
   ]
  },
  {
   "cell_type": "raw",
   "id": "592fc273",
   "metadata": {
    "papermill": {
     "duration": 0.076669,
     "end_time": "2024-10-20T16:54:31.406002",
     "exception": false,
     "start_time": "2024-10-20T16:54:31.329333",
     "status": "completed"
    },
    "tags": []
   },
   "source": [
    "# Change directory to ComfyUI\n",
    "os.chdir(\"/kaggle/working/ComfyUI/\")\n",
    "subprocess.Popen([\"python\", \"main.py\", \"--cuda-device\", \"0\", \"--port\", \"8188\"])"
   ]
  },
  {
   "cell_type": "raw",
   "id": "63c2bb99",
   "metadata": {
    "papermill": {
     "duration": 0.078368,
     "end_time": "2024-10-20T16:54:31.561795",
     "exception": false,
     "start_time": "2024-10-20T16:54:31.483427",
     "status": "completed"
    },
    "tags": []
   },
   "source": [
    "# Change directory to ComfyUI\n",
    "os.chdir(\"/kaggle/working/ComfyUI/\")\n",
    "subprocess.Popen([\"python\", \"main.py\", \"--cuda-device\", \"1\", \"--port\", \"8189\"])"
   ]
  },
  {
   "cell_type": "raw",
   "id": "f71f22da",
   "metadata": {
    "papermill": {
     "duration": 0.077279,
     "end_time": "2024-10-20T16:54:31.716441",
     "exception": false,
     "start_time": "2024-10-20T16:54:31.639162",
     "status": "completed"
    },
    "tags": []
   },
   "source": []
  },
  {
   "cell_type": "raw",
   "id": "e9afd8a0",
   "metadata": {
    "papermill": {
     "duration": 0.077257,
     "end_time": "2024-10-20T16:54:31.870815",
     "exception": false,
     "start_time": "2024-10-20T16:54:31.793558",
     "status": "completed"
    },
    "tags": []
   },
   "source": [
    "!kill 3899     ; kill 3909 #     ; kill 2990   ; kill 3371  \n"
   ]
  },
  {
   "cell_type": "raw",
   "id": "9729e625",
   "metadata": {
    "papermill": {
     "duration": 0.078341,
     "end_time": "2024-10-20T16:54:32.027795",
     "exception": false,
     "start_time": "2024-10-20T16:54:31.949454",
     "status": "completed"
    },
    "tags": []
   },
   "source": [
    "!apt install net-tools"
   ]
  },
  {
   "cell_type": "raw",
   "id": "70a4ec55",
   "metadata": {
    "papermill": {
     "duration": 0.0783,
     "end_time": "2024-10-20T16:54:32.182960",
     "exception": false,
     "start_time": "2024-10-20T16:54:32.104660",
     "status": "completed"
    },
    "tags": []
   },
   "source": [
    "!netstat -nltp"
   ]
  },
  {
   "cell_type": "raw",
   "id": "4f703ac1",
   "metadata": {
    "papermill": {
     "duration": 0.077385,
     "end_time": "2024-10-20T16:54:32.337923",
     "exception": false,
     "start_time": "2024-10-20T16:54:32.260538",
     "status": "completed"
    },
    "tags": []
   },
   "source": [
    "%rm /kaggle/working/ComfyUI/custom_nodes/ComfyUI-SUPIR -r\n",
    "%rm /kaggle/working/ComfyUI/custom_nodes/comfyui-tensorops -r"
   ]
  },
  {
   "cell_type": "raw",
   "id": "f01a5fd8",
   "metadata": {
    "papermill": {
     "duration": 0.077382,
     "end_time": "2024-10-20T16:54:32.493069",
     "exception": false,
     "start_time": "2024-10-20T16:54:32.415687",
     "status": "completed"
    },
    "tags": []
   },
   "source": [
    "# %pip install colab-xterm -U -q\n",
    "%pip install -U notebook_xterm \n",
    "%load_ext notebook_xterm"
   ]
  },
  {
   "cell_type": "raw",
   "id": "6daa7f16",
   "metadata": {
    "papermill": {
     "duration": 0.07768,
     "end_time": "2024-10-20T16:54:32.649537",
     "exception": false,
     "start_time": "2024-10-20T16:54:32.571857",
     "status": "completed"
    },
    "tags": []
   },
   "source": [
    "%xterm"
   ]
  },
  {
   "cell_type": "raw",
   "id": "86118e21",
   "metadata": {
    "execution": {
     "iopub.execute_input": "2024-09-20T12:20:38.520809Z",
     "iopub.status.busy": "2024-09-20T12:20:38.52037Z",
     "iopub.status.idle": "2024-09-20T12:20:39.549843Z",
     "shell.execute_reply": "2024-09-20T12:20:39.548486Z",
     "shell.execute_reply.started": "2024-09-20T12:20:38.520767Z"
    },
    "papermill": {
     "duration": 0.076667,
     "end_time": "2024-10-20T16:54:32.802694",
     "exception": false,
     "start_time": "2024-10-20T16:54:32.726027",
     "status": "completed"
    },
    "tags": []
   },
   "source": [
    "%rm /kaggle/working/ComfyUI/models/unet/flux1-dev.safetensors"
   ]
  },
  {
   "cell_type": "raw",
   "id": "e3f01e85",
   "metadata": {
    "papermill": {
     "duration": 0.076841,
     "end_time": "2024-10-20T16:54:32.956716",
     "exception": false,
     "start_time": "2024-10-20T16:54:32.879875",
     "status": "completed"
    },
    "tags": []
   },
   "source": []
  },
  {
   "cell_type": "raw",
   "id": "98103200",
   "metadata": {
    "execution": {
     "iopub.execute_input": "2024-09-20T11:57:54.49104Z",
     "iopub.status.busy": "2024-09-20T11:57:54.490605Z",
     "iopub.status.idle": "2024-09-20T11:57:54.498498Z",
     "shell.execute_reply": "2024-09-20T11:57:54.497548Z",
     "shell.execute_reply.started": "2024-09-20T11:57:54.490999Z"
    },
    "papermill": {
     "duration": 0.076772,
     "end_time": "2024-10-20T16:54:33.110001",
     "exception": false,
     "start_time": "2024-10-20T16:54:33.033229",
     "status": "completed"
    },
    "tags": []
   },
   "source": [
    "%cd /kaggle/working/ComfyUI/custom_nodes/ComfyUI-Manager/"
   ]
  },
  {
   "cell_type": "raw",
   "id": "9fbc389b",
   "metadata": {
    "execution": {
     "iopub.execute_input": "2024-09-20T11:57:57.530583Z",
     "iopub.status.busy": "2024-09-20T11:57:57.530159Z",
     "iopub.status.idle": "2024-09-20T11:57:58.53029Z",
     "shell.execute_reply": "2024-09-20T11:57:58.529144Z",
     "shell.execute_reply.started": "2024-09-20T11:57:57.530543Z"
    },
    "papermill": {
     "duration": 0.078327,
     "end_time": "2024-10-20T16:54:33.267015",
     "exception": false,
     "start_time": "2024-10-20T16:54:33.188688",
     "status": "completed"
    },
    "tags": []
   },
   "source": [
    "%ls"
   ]
  },
  {
   "cell_type": "raw",
   "id": "7c9dfc78",
   "metadata": {
    "execution": {
     "iopub.execute_input": "2024-09-20T11:58:19.057594Z",
     "iopub.status.busy": "2024-09-20T11:58:19.057229Z",
     "iopub.status.idle": "2024-09-20T11:58:19.064204Z",
     "shell.execute_reply": "2024-09-20T11:58:19.063249Z",
     "shell.execute_reply.started": "2024-09-20T11:58:19.05756Z"
    },
    "papermill": {
     "duration": 0.079364,
     "end_time": "2024-10-20T16:54:33.425593",
     "exception": false,
     "start_time": "2024-10-20T16:54:33.346229",
     "status": "completed"
    },
    "tags": []
   },
   "source": [
    "%cd .."
   ]
  },
  {
   "cell_type": "raw",
   "id": "12d1b2c2",
   "metadata": {
    "execution": {
     "iopub.execute_input": "2024-09-20T11:58:44.581976Z",
     "iopub.status.busy": "2024-09-20T11:58:44.581109Z",
     "iopub.status.idle": "2024-09-20T11:58:45.610641Z",
     "shell.execute_reply": "2024-09-20T11:58:45.609397Z",
     "shell.execute_reply.started": "2024-09-20T11:58:44.581939Z"
    },
    "papermill": {
     "duration": 0.07855,
     "end_time": "2024-10-20T16:54:33.582081",
     "exception": false,
     "start_time": "2024-10-20T16:54:33.503531",
     "status": "completed"
    },
    "tags": []
   },
   "source": [
    "!rm ComfyUI-Manager -r"
   ]
  },
  {
   "cell_type": "raw",
   "id": "bf39e51b",
   "metadata": {
    "execution": {
     "iopub.execute_input": "2024-09-20T11:59:01.669359Z",
     "iopub.status.busy": "2024-09-20T11:59:01.668636Z",
     "iopub.status.idle": "2024-09-20T11:59:01.676822Z",
     "shell.execute_reply": "2024-09-20T11:59:01.675782Z",
     "shell.execute_reply.started": "2024-09-20T11:59:01.669315Z"
    },
    "papermill": {
     "duration": 0.07718,
     "end_time": "2024-10-20T16:54:33.735762",
     "exception": false,
     "start_time": "2024-10-20T16:54:33.658582",
     "status": "completed"
    },
    "tags": []
   },
   "source": [
    "%pwd"
   ]
  },
  {
   "cell_type": "raw",
   "id": "a57c8468",
   "metadata": {
    "execution": {
     "iopub.execute_input": "2024-09-20T11:59:42.273528Z",
     "iopub.status.busy": "2024-09-20T11:59:42.273102Z",
     "iopub.status.idle": "2024-09-20T12:00:02.061805Z",
     "shell.execute_reply": "2024-09-20T12:00:02.060311Z",
     "shell.execute_reply.started": "2024-09-20T11:59:42.273488Z"
    },
    "jupyter": {
     "outputs_hidden": true
    },
    "papermill": {
     "duration": 0.083868,
     "end_time": "2024-10-20T16:54:33.897375",
     "exception": false,
     "start_time": "2024-10-20T16:54:33.813507",
     "status": "completed"
    },
    "tags": []
   },
   "source": [
    "install_this(\"https://github.com/ltdrdata/ComfyUI-Manager\")"
   ]
  },
  {
   "cell_type": "raw",
   "id": "a7054d8e",
   "metadata": {
    "execution": {
     "iopub.execute_input": "2024-09-20T12:00:56.083265Z",
     "iopub.status.busy": "2024-09-20T12:00:56.082041Z",
     "iopub.status.idle": "2024-09-20T12:00:56.09271Z",
     "shell.execute_reply": "2024-09-20T12:00:56.091752Z",
     "shell.execute_reply.started": "2024-09-20T12:00:56.083214Z"
    },
    "papermill": {
     "duration": 0.077588,
     "end_time": "2024-10-20T16:54:34.090328",
     "exception": false,
     "start_time": "2024-10-20T16:54:34.012740",
     "status": "completed"
    },
    "tags": []
   },
   "source": [
    "from IPython.display import HTML, Javascript, display\n",
    "\n",
    "def restart_kernel_and_run_all_cells():\n",
    "    display(Javascript('IPython.notebook.kernel.restart()'))\n",
    "    display(Javascript('IPython.notebook.execute_all_cells()'))\n",
    "\n",
    "restart_kernel_and_run_all_cells()"
   ]
  },
  {
   "cell_type": "raw",
   "id": "676106c7",
   "metadata": {
    "papermill": {
     "duration": 0.077058,
     "end_time": "2024-10-20T16:54:34.246864",
     "exception": false,
     "start_time": "2024-10-20T16:54:34.169806",
     "status": "completed"
    },
    "tags": []
   },
   "source": [
    "!git pull --all"
   ]
  },
  {
   "cell_type": "raw",
   "id": "b563e589",
   "metadata": {
    "papermill": {
     "duration": 0.078149,
     "end_time": "2024-10-20T16:54:34.402180",
     "exception": false,
     "start_time": "2024-10-20T16:54:34.324031",
     "status": "completed"
    },
    "tags": []
   },
   "source": [
    "%pip install pip -U"
   ]
  },
  {
   "cell_type": "raw",
   "id": "5b37551f",
   "metadata": {
    "execution": {
     "iopub.execute_input": "2024-09-20T13:13:25.61338Z",
     "iopub.status.busy": "2024-09-20T13:13:25.612875Z",
     "iopub.status.idle": "2024-09-20T13:13:30.156789Z",
     "shell.execute_reply": "2024-09-20T13:13:30.155567Z",
     "shell.execute_reply.started": "2024-09-20T13:13:25.613317Z"
    },
    "papermill": {
     "duration": 0.077776,
     "end_time": "2024-10-20T16:54:34.566660",
     "exception": false,
     "start_time": "2024-10-20T16:54:34.488884",
     "status": "completed"
    },
    "tags": []
   },
   "source": [
    "%pip install  cudf==0.6.1.post1 --only-binary=:all --no-build-isolation"
   ]
  },
  {
   "cell_type": "raw",
   "id": "04698fb5",
   "metadata": {
    "papermill": {
     "duration": 0.077224,
     "end_time": "2024-10-20T16:54:34.722112",
     "exception": false,
     "start_time": "2024-10-20T16:54:34.644888",
     "status": "completed"
    },
    "tags": []
   },
   "source": [
    "%pip install  -r requirements.txt --no-build-isolation"
   ]
  },
  {
   "cell_type": "raw",
   "id": "657e24f2",
   "metadata": {
    "papermill": {
     "duration": 0.076986,
     "end_time": "2024-10-20T16:54:34.875708",
     "exception": false,
     "start_time": "2024-10-20T16:54:34.798722",
     "status": "completed"
    },
    "tags": []
   },
   "source": [
    "%pip install -U albumentations surrealist bitsandbytes piexif ultralytics insightface -q"
   ]
  },
  {
   "cell_type": "raw",
   "id": "bb844d94",
   "metadata": {
    "papermill": {
     "duration": 0.080355,
     "end_time": "2024-10-20T16:54:35.032792",
     "exception": false,
     "start_time": "2024-10-20T16:54:34.952437",
     "status": "completed"
    },
    "tags": []
   },
   "source": [
    "%cd /kaggle/working/ComfyUI/custom_nodes/\n"
   ]
  },
  {
   "cell_type": "raw",
   "id": "3fbe53d6",
   "metadata": {
    "execution": {
     "iopub.execute_input": "2024-09-20T13:13:30.158724Z",
     "iopub.status.busy": "2024-09-20T13:13:30.158346Z",
     "iopub.status.idle": "2024-09-20T13:13:31.642584Z",
     "shell.execute_reply": "2024-09-20T13:13:31.641415Z",
     "shell.execute_reply.started": "2024-09-20T13:13:30.158687Z"
    },
    "papermill": {
     "duration": 0.080339,
     "end_time": "2024-10-20T16:54:35.189494",
     "exception": false,
     "start_time": "2024-10-20T16:54:35.109155",
     "status": "completed"
    },
    "tags": []
   },
   "source": [
    "!git clone https://github.com/un-seen/comfyui-tensorops"
   ]
  },
  {
   "cell_type": "raw",
   "id": "aa8a98ae",
   "metadata": {
    "execution": {
     "iopub.execute_input": "2024-09-20T13:13:31.645926Z",
     "iopub.status.busy": "2024-09-20T13:13:31.645516Z",
     "iopub.status.idle": "2024-09-20T13:13:32.930382Z",
     "shell.execute_reply": "2024-09-20T13:13:32.92939Z",
     "shell.execute_reply.started": "2024-09-20T13:13:31.645882Z"
    },
    "papermill": {
     "duration": 0.077347,
     "end_time": "2024-10-20T16:54:35.344137",
     "exception": false,
     "start_time": "2024-10-20T16:54:35.266790",
     "status": "completed"
    },
    "tags": []
   },
   "source": [
    "%cd comfyui-tensorops/\n",
    "!git pull --all"
   ]
  },
  {
   "cell_type": "raw",
   "id": "c0afeb5c",
   "metadata": {
    "papermill": {
     "duration": 0.077024,
     "end_time": "2024-10-20T16:54:35.498972",
     "exception": false,
     "start_time": "2024-10-20T16:54:35.421948",
     "status": "completed"
    },
    "tags": []
   },
   "source": [
    "%pip install  -r requirements.txt --no-build-isolation"
   ]
  },
  {
   "cell_type": "raw",
   "id": "df97d00e",
   "metadata": {
    "papermill": {
     "duration": 0.077003,
     "end_time": "2024-10-20T16:54:35.653910",
     "exception": false,
     "start_time": "2024-10-20T16:54:35.576907",
     "status": "completed"
    },
    "tags": []
   },
   "source": []
  }
 ],
 "metadata": {
  "kaggle": {
   "accelerator": "nvidiaTeslaT4",
   "dataSources": [
    {
     "modelId": 972,
     "modelInstanceId": 3321,
     "sourceId": 4529,
     "sourceType": "modelInstanceVersion"
    },
    {
     "modelId": 54047,
     "modelInstanceId": 38547,
     "sourceId": 45980,
     "sourceType": "modelInstanceVersion"
    },
    {
     "modelId": 107178,
     "modelInstanceId": 82919,
     "sourceId": 98826,
     "sourceType": "modelInstanceVersion"
    },
    {
     "modelId": 115146,
     "modelInstanceId": 90914,
     "sourceId": 108546,
     "sourceType": "modelInstanceVersion"
    },
    {
     "modelId": 115152,
     "modelInstanceId": 91748,
     "sourceId": 109552,
     "sourceType": "modelInstanceVersion"
    },
    {
     "modelId": 115152,
     "modelInstanceId": 91750,
     "sourceId": 109554,
     "sourceType": "modelInstanceVersion"
    },
    {
     "modelId": 116511,
     "modelInstanceId": 92312,
     "sourceId": 110195,
     "sourceType": "modelInstanceVersion"
    },
    {
     "modelId": 122985,
     "modelInstanceId": 98812,
     "sourceId": 117514,
     "sourceType": "modelInstanceVersion"
    },
    {
     "modelId": 123097,
     "modelInstanceId": 98930,
     "sourceId": 117667,
     "sourceType": "modelInstanceVersion"
    },
    {
     "modelId": 123105,
     "modelInstanceId": 98936,
     "sourceId": 117674,
     "sourceType": "modelInstanceVersion"
    },
    {
     "isSourceIdPinned": true,
     "modelId": 142437,
     "modelInstanceId": 119187,
     "sourceId": 140722,
     "sourceType": "modelInstanceVersion"
    },
    {
     "isSourceIdPinned": true,
     "modelId": 142979,
     "modelInstanceId": 119741,
     "sourceId": 141354,
     "sourceType": "modelInstanceVersion"
    }
   ],
   "isGpuEnabled": true,
   "isInternetEnabled": true,
   "language": "python",
   "sourceType": "notebook"
  },
  "kernelspec": {
   "display_name": "Python 3",
   "language": "python",
   "name": "python3"
  },
  "language_info": {
   "codemirror_mode": {
    "name": "ipython",
    "version": 3
   },
   "file_extension": ".py",
   "mimetype": "text/x-python",
   "name": "python",
   "nbconvert_exporter": "python",
   "pygments_lexer": "ipython3",
   "version": "3.10.14"
  },
  "papermill": {
   "default_parameters": {},
   "duration": 585.907873,
   "end_time": "2024-10-20T16:54:38.355968",
   "environment_variables": {},
   "exception": null,
   "input_path": "__notebook__.ipynb",
   "output_path": "__notebook__.ipynb",
   "parameters": {},
   "start_time": "2024-10-20T16:44:52.448095",
   "version": "2.6.0"
  }
 },
 "nbformat": 4,
 "nbformat_minor": 5
}
