{
 "cells": [
  {
   "cell_type": "code",
   "execution_count": 1,
   "id": "a2b3ab26",
   "metadata": {
    "execution": {
     "iopub.execute_input": "2024-10-05T06:54:14.932792Z",
     "iopub.status.busy": "2024-10-05T06:54:14.932425Z",
     "iopub.status.idle": "2024-10-05T06:54:15.976775Z",
     "shell.execute_reply": "2024-10-05T06:54:15.975646Z"
    },
    "papermill": {
     "duration": 1.062753,
     "end_time": "2024-10-05T06:54:15.979101",
     "exception": false,
     "start_time": "2024-10-05T06:54:14.916348",
     "status": "completed"
    },
    "tags": []
   },
   "outputs": [
    {
     "name": "stdout",
     "output_type": "stream",
     "text": [
      "\u001b[0m\u001b[01;34mFlorence2_model_2\u001b[0m/  \u001b[01;34mFlorence2_procersor_2\u001b[0m/\r\n",
      "\u001b[01;34mFlorence2_model_3\u001b[0m/  \u001b[01;34mFlorence2_procersor_3\u001b[0m/\r\n"
     ]
    }
   ],
   "source": [
    "%ls /kaggle/input/florence2/transformers/default/1"
   ]
  },
  {
   "cell_type": "code",
   "execution_count": 2,
   "id": "0d231ec7",
   "metadata": {
    "execution": {
     "iopub.execute_input": "2024-10-05T06:54:16.010630Z",
     "iopub.status.busy": "2024-10-05T06:54:16.009983Z",
     "iopub.status.idle": "2024-10-05T06:54:16.017024Z",
     "shell.execute_reply": "2024-10-05T06:54:16.016164Z"
    },
    "papermill": {
     "duration": 0.024193,
     "end_time": "2024-10-05T06:54:16.019031",
     "exception": false,
     "start_time": "2024-10-05T06:54:15.994838",
     "status": "completed"
    },
    "tags": []
   },
   "outputs": [],
   "source": [
    "import os\n",
    "import zipfile\n",
    "from datetime import datetime\n",
    "\n",
    "def zip_folder(folder_path, zip_path):\n",
    "    with zipfile.ZipFile(zip_path, 'w', zipfile.ZIP_DEFLATED) as zipf:\n",
    "        for root, _, files in os.walk(folder_path):\n",
    "            for file in files:\n",
    "                file_path = os.path.join(root, file)\n",
    "                arcname = os.path.relpath(file_path, folder_path)\n",
    "                zipf.write(file_path, arcname)"
   ]
  },
  {
   "cell_type": "code",
   "execution_count": 3,
   "id": "79aec510",
   "metadata": {
    "execution": {
     "iopub.execute_input": "2024-10-05T06:54:16.048659Z",
     "iopub.status.busy": "2024-10-05T06:54:16.048001Z",
     "iopub.status.idle": "2024-10-05T06:54:16.052395Z",
     "shell.execute_reply": "2024-10-05T06:54:16.051515Z"
    },
    "papermill": {
     "duration": 0.021184,
     "end_time": "2024-10-05T06:54:16.054343",
     "exception": false,
     "start_time": "2024-10-05T06:54:16.033159",
     "status": "completed"
    },
    "tags": []
   },
   "outputs": [],
   "source": [
    "# Example usage\n",
    "folder_to_zip = '/kaggle/working/ComfyUI/output'\n",
    "output_zip = f'/kaggle/working/output_{datetime.now():%d%m%Y_%H%M}.zip'\n",
    "# zip_folder(folder_to_zip, output_zip)"
   ]
  },
  {
   "cell_type": "code",
   "execution_count": 4,
   "id": "4cc1c362",
   "metadata": {
    "execution": {
     "iopub.execute_input": "2024-10-05T06:54:16.083717Z",
     "iopub.status.busy": "2024-10-05T06:54:16.083017Z",
     "iopub.status.idle": "2024-10-05T06:54:16.090872Z",
     "shell.execute_reply": "2024-10-05T06:54:16.089987Z"
    },
    "papermill": {
     "duration": 0.024469,
     "end_time": "2024-10-05T06:54:16.092797",
     "exception": false,
     "start_time": "2024-10-05T06:54:16.068328",
     "status": "completed"
    },
    "tags": []
   },
   "outputs": [
    {
     "data": {
      "text/plain": [
       "'/kaggle/working/output_05102024_0654.zip.zip'"
      ]
     },
     "execution_count": 4,
     "metadata": {},
     "output_type": "execute_result"
    }
   ],
   "source": [
    "import shutil\n",
    "shutil.make_archive(output_zip, 'zip', folder_to_zip)\n"
   ]
  },
  {
   "cell_type": "raw",
   "id": "0d75b9c3",
   "metadata": {
    "execution": {
     "iopub.execute_input": "2024-08-29T15:41:09.142594Z",
     "iopub.status.busy": "2024-08-29T15:41:09.141895Z",
     "iopub.status.idle": "2024-08-29T15:41:09.147660Z",
     "shell.execute_reply": "2024-08-29T15:41:09.146521Z",
     "shell.execute_reply.started": "2024-08-29T15:41:09.142544Z"
    },
    "papermill": {
     "duration": 0.013716,
     "end_time": "2024-10-05T06:54:16.120697",
     "exception": false,
     "start_time": "2024-10-05T06:54:16.106981",
     "status": "completed"
    },
    "tags": []
   },
   "source": [
    "# Example usage\n",
    "folder_to_zip = '/kaggle/working/ComfyUI/output'\n",
    "output_zip = f'/kaggle/working/output_{datetime.now():%d%m%Y_%H%M}.zip'\n",
    "# zip_folder(folder_to_zip, output_zip)"
   ]
  },
  {
   "cell_type": "code",
   "execution_count": 5,
   "id": "f3332a90",
   "metadata": {
    "execution": {
     "iopub.execute_input": "2024-10-05T06:54:16.150491Z",
     "iopub.status.busy": "2024-10-05T06:54:16.150193Z",
     "iopub.status.idle": "2024-10-05T06:54:16.155883Z",
     "shell.execute_reply": "2024-10-05T06:54:16.154972Z"
    },
    "papermill": {
     "duration": 0.022605,
     "end_time": "2024-10-05T06:54:16.157834",
     "exception": false,
     "start_time": "2024-10-05T06:54:16.135229",
     "status": "completed"
    },
    "tags": []
   },
   "outputs": [],
   "source": [
    "import shutil\n",
    "x_old = '/kaggle/working/old_output'\n",
    "os.makedirs(x_old,exist_ok=True)\n",
    "if os.path.exists(folder_to_zip):\n",
    "    for x in os.listdir(folder_to_zip):\n",
    "        try:\n",
    "            shutil.move(folder_to_zip +'/' + x, x_old)\n",
    "        except:\n",
    "            print(\"Fichier deja existant??\")"
   ]
  },
  {
   "cell_type": "code",
   "execution_count": 6,
   "id": "92532d89",
   "metadata": {
    "execution": {
     "iopub.execute_input": "2024-10-05T06:54:16.188103Z",
     "iopub.status.busy": "2024-10-05T06:54:16.187814Z",
     "iopub.status.idle": "2024-10-05T06:54:17.195186Z",
     "shell.execute_reply": "2024-10-05T06:54:17.193899Z"
    },
    "papermill": {
     "duration": 1.024838,
     "end_time": "2024-10-05T06:54:17.197576",
     "exception": false,
     "start_time": "2024-10-05T06:54:16.172738",
     "status": "completed"
    },
    "tags": []
   },
   "outputs": [],
   "source": [
    "get_ipython().system(\"rm /kaggle/working/old_output -R\")"
   ]
  },
  {
   "cell_type": "code",
   "execution_count": 7,
   "id": "09431ffb",
   "metadata": {
    "execution": {
     "iopub.execute_input": "2024-10-05T06:54:17.228503Z",
     "iopub.status.busy": "2024-10-05T06:54:17.227820Z",
     "iopub.status.idle": "2024-10-05T06:54:17.241381Z",
     "shell.execute_reply": "2024-10-05T06:54:17.240447Z"
    },
    "papermill": {
     "duration": 0.031068,
     "end_time": "2024-10-05T06:54:17.243351",
     "exception": false,
     "start_time": "2024-10-05T06:54:17.212283",
     "status": "completed"
    },
    "tags": []
   },
   "outputs": [],
   "source": [
    "def install_this(xthe_url):\n",
    "    import os\n",
    "    print(\"install \",xthe_url)\n",
    "    %cd /kaggle/working/ComfyUI/custom_nodes\n",
    "    xfolder =  xthe_url.split('/')[-1].replace('.git','')\n",
    "    if not os.path.exists(\"/kaggle/working/ComfyUI/custom_nodes/\" + xfolder):\n",
    "        get_ipython().system(f'git clone {xthe_url}')\n",
    "    \n",
    "    print(f\"{xfolder=}\")\n",
    "    %cd /kaggle/working/ComfyUI/custom_nodes/$xfolder\n",
    "    get_ipython().system('git pull --all')\n",
    "    if os.path.exists(\"requirements.txt\"):\n",
    "        %pip install -r requirements.txt --quiet\n",
    "#     else :\n",
    "#         %pip install --quiet\n",
    "    print(\"DONE install \",xthe_url)"
   ]
  },
  {
   "cell_type": "code",
   "execution_count": 8,
   "id": "4eabd312",
   "metadata": {
    "execution": {
     "iopub.execute_input": "2024-10-05T06:54:17.273065Z",
     "iopub.status.busy": "2024-10-05T06:54:17.272782Z",
     "iopub.status.idle": "2024-10-05T06:54:34.931553Z",
     "shell.execute_reply": "2024-10-05T06:54:34.929982Z"
    },
    "papermill": {
     "duration": 17.676403,
     "end_time": "2024-10-05T06:54:34.933927",
     "exception": false,
     "start_time": "2024-10-05T06:54:17.257524",
     "status": "completed"
    },
    "tags": []
   },
   "outputs": [
    {
     "name": "stdout",
     "output_type": "stream",
     "text": [
      "\u001b[31mERROR: pip's dependency resolver does not currently take into account all the packages that are installed. This behaviour is the source of the following dependency conflicts.\r\n",
      "cudf 24.8.3 requires cubinlinker, which is not installed.\r\n",
      "cudf 24.8.3 requires cupy-cuda11x>=12.0.0, which is not installed.\r\n",
      "cudf 24.8.3 requires ptxcompiler, which is not installed.\r\n",
      "cuml 24.8.0 requires cupy-cuda11x>=12.0.0, which is not installed.\r\n",
      "dask-cudf 24.8.3 requires cupy-cuda11x>=12.0.0, which is not installed.\r\n",
      "cudf 24.8.3 requires cuda-python<12.0a0,>=11.7.1, but you have cuda-python 12.6.0 which is incompatible.\r\n",
      "distributed 2024.7.1 requires dask==2024.7.1, but you have dask 2024.9.1 which is incompatible.\r\n",
      "google-cloud-bigquery 2.34.4 requires packaging<22.0dev,>=14.3, but you have packaging 24.1 which is incompatible.\r\n",
      "jupyterlab 4.2.5 requires jupyter-lsp>=2.0.0, but you have jupyter-lsp 1.5.1 which is incompatible.\r\n",
      "jupyterlab-lsp 5.1.0 requires jupyter-lsp>=2.0.0, but you have jupyter-lsp 1.5.1 which is incompatible.\r\n",
      "rapids-dask-dependency 24.8.0a0 requires dask==2024.7.1, but you have dask 2024.9.1 which is incompatible.\r\n",
      "ydata-profiling 4.10.0 requires scipy<1.14,>=1.4.1, but you have scipy 1.14.1 which is incompatible.\u001b[0m\u001b[31m\r\n",
      "\u001b[0mNote: you may need to restart the kernel to use updated packages.\n"
     ]
    }
   ],
   "source": [
    "%pip install -U packaging shapely einops piexif ultralytics -q opencv-python-headless"
   ]
  },
  {
   "cell_type": "code",
   "execution_count": 9,
   "id": "ef9747be",
   "metadata": {
    "execution": {
     "iopub.execute_input": "2024-10-05T06:54:34.967357Z",
     "iopub.status.busy": "2024-10-05T06:54:34.966973Z",
     "iopub.status.idle": "2024-10-05T06:54:53.204601Z",
     "shell.execute_reply": "2024-10-05T06:54:53.203436Z"
    },
    "papermill": {
     "duration": 18.25699,
     "end_time": "2024-10-05T06:54:53.206859",
     "exception": false,
     "start_time": "2024-10-05T06:54:34.949869",
     "status": "completed"
    },
    "tags": []
   },
   "outputs": [
    {
     "name": "stdout",
     "output_type": "stream",
     "text": [
      "/kaggle/working\n",
      "Cloning into 'ComfyUI'...\r\n",
      "remote: Enumerating objects: 14321, done.\u001b[K\r\n",
      "remote: Counting objects: 100% (2749/2749), done.\u001b[K\r\n",
      "remote: Compressing objects: 100% (292/292), done.\u001b[K\r\n",
      "remote: Total 14321 (delta 2575), reused 2491 (delta 2457), pack-reused 11572 (from 1)\u001b[K\r\n",
      "Receiving objects: 100% (14321/14321), 24.53 MiB | 23.50 MiB/s, done.\r\n",
      "Resolving deltas: 100% (9609/9609), done.\r\n",
      "/kaggle/working/ComfyUI\n",
      "Fetching origin\r\n",
      "Already up to date.\r\n"
     ]
    }
   ],
   "source": [
    "update = True\n",
    "\n",
    "from os import path\n",
    "import os\n",
    "\n",
    "%cd /kaggle/working\n",
    "if not path.exists(\"/kaggle/working/ComfyUI/\"):\n",
    "    get_ipython().system(f'git clone https://github.com/comfyanonymous/ComfyUI.git')\n",
    "%cd ComfyUI\n",
    "if update:\n",
    "    get_ipython().system('git pull --all')\n",
    "!pip install -r requirements.txt --quiet"
   ]
  },
  {
   "cell_type": "code",
   "execution_count": 10,
   "id": "cd7bab6e",
   "metadata": {
    "execution": {
     "iopub.execute_input": "2024-10-05T06:54:53.243002Z",
     "iopub.status.busy": "2024-10-05T06:54:53.242679Z",
     "iopub.status.idle": "2024-10-05T06:55:25.994006Z",
     "shell.execute_reply": "2024-10-05T06:55:25.992829Z"
    },
    "papermill": {
     "duration": 32.792843,
     "end_time": "2024-10-05T06:55:26.017100",
     "exception": false,
     "start_time": "2024-10-05T06:54:53.224257",
     "status": "completed"
    },
    "tags": []
   },
   "outputs": [
    {
     "name": "stdout",
     "output_type": "stream",
     "text": [
      "install  https://github.com/ltdrdata/ComfyUI-Manager\n",
      "/kaggle/working/ComfyUI/custom_nodes\n",
      "Cloning into 'ComfyUI-Manager'...\r\n",
      "remote: Enumerating objects: 13964, done.\u001b[K\r\n",
      "remote: Total 13964 (delta 0), reused 0 (delta 0), pack-reused 13964 (from 1)\u001b[K\r\n",
      "Receiving objects: 100% (13964/13964), 13.53 MiB | 26.09 MiB/s, done.\r\n",
      "Resolving deltas: 100% (10283/10283), done.\r\n",
      "xfolder='ComfyUI-Manager'\n",
      "/kaggle/working/ComfyUI/custom_nodes/ComfyUI-Manager\n",
      "Fetching origin\r\n",
      "Already up to date.\r\n",
      "Note: you may need to restart the kernel to use updated packages.\n",
      "DONE install  https://github.com/ltdrdata/ComfyUI-Manager\n",
      "install  https://github.com/revirevy/Comfyui_saveimage_imgbb\n",
      "/kaggle/working/ComfyUI/custom_nodes\n",
      "Cloning into 'Comfyui_saveimage_imgbb'...\r\n",
      "remote: Enumerating objects: 244, done.\u001b[K\r\n",
      "remote: Counting objects: 100% (242/242), done.\u001b[K\r\n",
      "remote: Compressing objects: 100% (144/144), done.\u001b[K\r\n",
      "remote: Total 244 (delta 140), reused 153 (delta 88), pack-reused 2 (from 1)\u001b[K\r\n",
      "Receiving objects: 100% (244/244), 88.50 KiB | 1.67 MiB/s, done.\r\n",
      "Resolving deltas: 100% (140/140), done.\r\n",
      "xfolder='Comfyui_saveimage_imgbb'\n",
      "/kaggle/working/ComfyUI/custom_nodes/Comfyui_saveimage_imgbb\n",
      "Fetching origin\r\n",
      "Already up to date.\r\n",
      "Note: you may need to restart the kernel to use updated packages.\n",
      "DONE install  https://github.com/revirevy/Comfyui_saveimage_imgbb\n"
     ]
    }
   ],
   "source": [
    "\n",
    "install_this(\"https://github.com/ltdrdata/ComfyUI-Manager\")\n",
    "install_this(\"https://github.com/revirevy/Comfyui_saveimage_imgbb\")\n"
   ]
  },
  {
   "cell_type": "raw",
   "id": "5f5d8047",
   "metadata": {
    "execution": {
     "iopub.execute_input": "2024-10-04T10:16:44.870248Z",
     "iopub.status.busy": "2024-10-04T10:16:44.869797Z",
     "iopub.status.idle": "2024-10-04T10:16:45.897913Z",
     "shell.execute_reply": "2024-10-04T10:16:45.896825Z",
     "shell.execute_reply.started": "2024-10-04T10:16:44.870179Z"
    },
    "papermill": {
     "duration": 0.021439,
     "end_time": "2024-10-05T06:55:26.060286",
     "exception": false,
     "start_time": "2024-10-05T06:55:26.038847",
     "status": "completed"
    },
    "tags": []
   },
   "source": [
    "!rm /kaggle/working/ComfyUI/custom_nodes/ComfyUI-Inference-Core-Nodes -r"
   ]
  },
  {
   "cell_type": "code",
   "execution_count": 11,
   "id": "303d72c2",
   "metadata": {
    "execution": {
     "iopub.execute_input": "2024-10-05T06:55:26.105550Z",
     "iopub.status.busy": "2024-10-05T06:55:26.105154Z",
     "iopub.status.idle": "2024-10-05T06:55:56.916138Z",
     "shell.execute_reply": "2024-10-05T06:55:56.915015Z"
    },
    "papermill": {
     "duration": 30.836177,
     "end_time": "2024-10-05T06:55:56.918242",
     "exception": false,
     "start_time": "2024-10-05T06:55:26.082065",
     "status": "completed"
    },
    "tags": []
   },
   "outputs": [
    {
     "name": "stdout",
     "output_type": "stream",
     "text": [
      "install  https://github.com/yolain/ComfyUI-Easy-Use\n",
      "/kaggle/working/ComfyUI/custom_nodes\n",
      "Cloning into 'ComfyUI-Easy-Use'...\r\n",
      "remote: Enumerating objects: 3275, done.\u001b[K\r\n",
      "remote: Counting objects: 100% (1116/1116), done.\u001b[K\r\n",
      "remote: Compressing objects: 100% (388/388), done.\u001b[K\r\n",
      "remote: Total 3275 (delta 780), reused 1012 (delta 717), pack-reused 2159 (from 1)\u001b[K\r\n",
      "Receiving objects: 100% (3275/3275), 12.75 MiB | 26.98 MiB/s, done.\r\n",
      "Resolving deltas: 100% (2272/2272), done.\r\n",
      "xfolder='ComfyUI-Easy-Use'\n",
      "/kaggle/working/ComfyUI/custom_nodes/ComfyUI-Easy-Use\n",
      "Fetching origin\r\n",
      "Already up to date.\r\n",
      "Note: you may need to restart the kernel to use updated packages.\n",
      "DONE install  https://github.com/yolain/ComfyUI-Easy-Use\n",
      "install  https://github.com/Suzie1/ComfyUI_Comfyroll_CustomNodes\n",
      "/kaggle/working/ComfyUI/custom_nodes\n",
      "Cloning into 'ComfyUI_Comfyroll_CustomNodes'...\r\n",
      "remote: Enumerating objects: 2600, done.\u001b[K\r\n",
      "remote: Counting objects: 100% (412/412), done.\u001b[K\r\n",
      "remote: Compressing objects: 100% (145/145), done.\u001b[K\r\n",
      "remote: Total 2600 (delta 311), reused 331 (delta 267), pack-reused 2188 (from 1)\u001b[K\r\n",
      "Receiving objects: 100% (2600/2600), 3.45 MiB | 17.47 MiB/s, done.\r\n",
      "Resolving deltas: 100% (1736/1736), done.\r\n",
      "xfolder='ComfyUI_Comfyroll_CustomNodes'\n",
      "/kaggle/working/ComfyUI/custom_nodes/ComfyUI_Comfyroll_CustomNodes\n",
      "Fetching origin\r\n",
      "Already up to date.\r\n",
      "DONE install  https://github.com/Suzie1/ComfyUI_Comfyroll_CustomNodes\n",
      "install  https://github.com/comfyanonymous/ComfyUI_experiments\n",
      "/kaggle/working/ComfyUI/custom_nodes\n",
      "Cloning into 'ComfyUI_experiments'...\r\n",
      "remote: Enumerating objects: 72, done.\u001b[K\r\n",
      "remote: Counting objects: 100% (72/72), done.\u001b[K\r\n",
      "remote: Compressing objects: 100% (68/68), done.\u001b[K\r\n",
      "remote: Total 72 (delta 35), reused 5 (delta 2), pack-reused 0 (from 0)\u001b[K\r\n",
      "Receiving objects: 100% (72/72), 32.19 KiB | 1.29 MiB/s, done.\r\n",
      "Resolving deltas: 100% (35/35), done.\r\n",
      "xfolder='ComfyUI_experiments'\n",
      "/kaggle/working/ComfyUI/custom_nodes/ComfyUI_experiments\n",
      "Fetching origin\r\n",
      "Already up to date.\r\n",
      "DONE install  https://github.com/comfyanonymous/ComfyUI_experiments\n",
      "install  https://github.com/jamesWalker55/comfyui-various\n",
      "/kaggle/working/ComfyUI/custom_nodes\n",
      "Cloning into 'comfyui-various'...\r\n",
      "remote: Enumerating objects: 425, done.\u001b[K\r\n",
      "remote: Counting objects: 100% (108/108), done.\u001b[K\r\n",
      "remote: Compressing objects: 100% (68/68), done.\u001b[K\r\n",
      "remote: Total 425 (delta 60), reused 77 (delta 39), pack-reused 317 (from 1)\u001b[K\r\n",
      "Receiving objects: 100% (425/425), 102.74 KiB | 1.94 MiB/s, done.\r\n",
      "Resolving deltas: 100% (261/261), done.\r\n",
      "xfolder='comfyui-various'\n",
      "/kaggle/working/ComfyUI/custom_nodes/comfyui-various\n",
      "Fetching origin\r\n",
      "Already up to date.\r\n",
      "DONE install  https://github.com/jamesWalker55/comfyui-various\n",
      "install  https://github.com/klinter007/klinter_nodes\n",
      "/kaggle/working/ComfyUI/custom_nodes\n",
      "Cloning into 'klinter_nodes'...\r\n",
      "remote: Enumerating objects: 99, done.\u001b[K\r\n",
      "remote: Counting objects: 100% (99/99), done.\u001b[K\r\n",
      "remote: Compressing objects: 100% (92/92), done.\u001b[K\r\n",
      "remote: Total 99 (delta 49), reused 15 (delta 3), pack-reused 0 (from 0)\u001b[K\r\n",
      "Receiving objects: 100% (99/99), 38.97 KiB | 1.50 MiB/s, done.\r\n",
      "Resolving deltas: 100% (49/49), done.\r\n",
      "xfolder='klinter_nodes'\n",
      "/kaggle/working/ComfyUI/custom_nodes/klinter_nodes\n",
      "Fetching origin\r\n",
      "Already up to date.\r\n",
      "DONE install  https://github.com/klinter007/klinter_nodes\n"
     ]
    }
   ],
   "source": [
    "install_this(\"https://github.com/yolain/ComfyUI-Easy-Use\")\n",
    "# install_this(\"https://github.com/cubiq/ComfyUI_InstantID\")\n",
    "# install_this(\"https://github.com/LykosAI/ComfyUI-Inference-Core-Nodes\")\n",
    "install_this(\"https://github.com/Suzie1/ComfyUI_Comfyroll_CustomNodes\")\n",
    "install_this(\"https://github.com/comfyanonymous/ComfyUI_experiments\")\n",
    "# install_this(\"https://github.com/cubiq/ComfyUI_IPAdapter_plus\")\n",
    "# install_this(\"https://github.com/kijai/ComfyUI-SUPIR\")\n",
    "# install_this(\"https://github.com/kijai/ComfyUI-KJNodes\")\n",
    "install_this(\"https://github.com/jamesWalker55/comfyui-various\")\n",
    "install_this(\"https://github.com/klinter007/klinter_nodes\")\n"
   ]
  },
  {
   "cell_type": "code",
   "execution_count": 12,
   "id": "f8e25f4b",
   "metadata": {
    "execution": {
     "iopub.execute_input": "2024-10-05T06:55:56.974478Z",
     "iopub.status.busy": "2024-10-05T06:55:56.974084Z",
     "iopub.status.idle": "2024-10-05T07:00:31.720923Z",
     "shell.execute_reply": "2024-10-05T07:00:31.719538Z"
    },
    "papermill": {
     "duration": 274.778029,
     "end_time": "2024-10-05T07:00:31.723742",
     "exception": false,
     "start_time": "2024-10-05T06:55:56.945713",
     "status": "completed"
    },
    "tags": []
   },
   "outputs": [
    {
     "name": "stdout",
     "output_type": "stream",
     "text": [
      "\u001b[33m\u001b[1mwarning  libmamba\u001b[m Cache file \"/opt/conda/pkgs/cache/c6f2354e.json\" was modified by another program\r\n",
      "\u001b[33m\u001b[1mwarning  libmamba\u001b[m Cache file \"/opt/conda/pkgs/cache/86b0f08d.json\" was modified by another program\r\n",
      "\u001b[33m\u001b[1mwarning  libmamba\u001b[m Cache file \"/opt/conda/pkgs/cache/c9ddbd6b.json\" was modified by another program\r\n",
      "\u001b[33m\u001b[1mwarning  libmamba\u001b[m Cache file \"/opt/conda/pkgs/cache/b121c3e7.json\" was modified by another program\r\n",
      "\u001b[33m\u001b[1mwarning  libmamba\u001b[m Cache file \"/opt/conda/pkgs/cache/d4808d92.json\" was modified by another program\r\n",
      "\u001b[33m\u001b[1mwarning  libmamba\u001b[m Cache file \"/opt/conda/pkgs/cache/223a346e.json\" was modified by another program\r\n",
      "\u001b[33m\u001b[1mwarning  libmamba\u001b[m Cache file \"/opt/conda/pkgs/cache/497deca9.json\" was modified by another program\r\n",
      "\u001b[33m\u001b[1mwarning  libmamba\u001b[m Cache file \"/opt/conda/pkgs/cache/09cdf8bf.json\" was modified by another program\r\n",
      "Preparing transaction: ...working... done\r\n",
      "Verifying transaction: ...working... done\r\n",
      "Executing transaction: ...working... done\r\n",
      "install  https://github.com/comfyanonymous/ComfyUI_bitsandbytes_NF4\n",
      "/kaggle/working/ComfyUI/custom_nodes\n",
      "Cloning into 'ComfyUI_bitsandbytes_NF4'...\r\n",
      "remote: Enumerating objects: 33, done.\u001b[K\r\n",
      "remote: Counting objects: 100% (33/33), done.\u001b[K\r\n",
      "remote: Compressing objects: 100% (28/28), done.\u001b[K\r\n",
      "remote: Total 33 (delta 17), reused 13 (delta 3), pack-reused 0 (from 0)\u001b[K\r\n",
      "Receiving objects: 100% (33/33), 20.25 KiB | 20.25 MiB/s, done.\r\n",
      "Resolving deltas: 100% (17/17), done.\r\n",
      "xfolder='ComfyUI_bitsandbytes_NF4'\n",
      "/kaggle/working/ComfyUI/custom_nodes/ComfyUI_bitsandbytes_NF4\n",
      "Fetching origin\r\n",
      "Already up to date.\r\n",
      "Note: you may need to restart the kernel to use updated packages.\n",
      "DONE install  https://github.com/comfyanonymous/ComfyUI_bitsandbytes_NF4\n",
      "install  https://github.com/WASasquatch/was-node-suite-comfyui\n",
      "/kaggle/working/ComfyUI/custom_nodes\n",
      "Cloning into 'was-node-suite-comfyui'...\r\n",
      "remote: Enumerating objects: 2284, done.\u001b[K\r\n",
      "remote: Counting objects: 100% (872/872), done.\u001b[K\r\n",
      "remote: Compressing objects: 100% (334/334), done.\u001b[K\r\n",
      "remote: Total 2284 (delta 629), reused 720 (delta 530), pack-reused 1412 (from 1)\u001b[K\r\n",
      "Receiving objects: 100% (2284/2284), 39.55 MiB | 35.46 MiB/s, done.\r\n",
      "Resolving deltas: 100% (1393/1393), done.\r\n",
      "xfolder='was-node-suite-comfyui'\n",
      "/kaggle/working/ComfyUI/custom_nodes/was-node-suite-comfyui\n",
      "Fetching origin\r\n",
      "Already up to date.\r\n",
      "\u001b[33mWARNING: opencv-python-headless 4.7.0.72 does not provide the extra 'ffmpeg'\u001b[0m\u001b[33m\r\n",
      "\u001b[0m\u001b[31mERROR: pip's dependency resolver does not currently take into account all the packages that are installed. This behaviour is the source of the following dependency conflicts.\r\n",
      "albucore 0.0.17 requires opencv-python-headless>=4.9.0.80, but you have opencv-python-headless 4.7.0.72 which is incompatible.\r\n",
      "albumentations 1.4.17 requires opencv-python-headless>=4.9.0.80, but you have opencv-python-headless 4.7.0.72 which is incompatible.\u001b[0m\u001b[31m\r\n",
      "\u001b[0mNote: you may need to restart the kernel to use updated packages.\n",
      "DONE install  https://github.com/WASasquatch/was-node-suite-comfyui\n",
      "install  https://github.com/rgthree/rgthree-comfy\n",
      "/kaggle/working/ComfyUI/custom_nodes\n",
      "Cloning into 'rgthree-comfy'...\r\n",
      "remote: Enumerating objects: 3362, done.\u001b[K\r\n",
      "remote: Counting objects: 100% (662/662), done.\u001b[K\r\n",
      "remote: Compressing objects: 100% (184/184), done.\u001b[K\r\n",
      "remote: Total 3362 (delta 525), reused 510 (delta 478), pack-reused 2700 (from 1)\u001b[K\r\n",
      "Receiving objects: 100% (3362/3362), 4.21 MiB | 18.44 MiB/s, done.\r\n",
      "Resolving deltas: 100% (2460/2460), done.\r\n",
      "xfolder='rgthree-comfy'\n",
      "/kaggle/working/ComfyUI/custom_nodes/rgthree-comfy\n",
      "Fetching origin\r\n",
      "Already up to date.\r\n",
      "Note: you may need to restart the kernel to use updated packages.\n",
      "DONE install  https://github.com/rgthree/rgthree-comfy\n",
      "install  https://github.com/BlenderNeko/ComfyUI_Noise\n",
      "/kaggle/working/ComfyUI/custom_nodes\n",
      "Cloning into 'ComfyUI_Noise'...\r\n",
      "remote: Enumerating objects: 95, done.\u001b[K\r\n",
      "remote: Counting objects: 100% (30/30), done.\u001b[K\r\n",
      "remote: Compressing objects: 100% (5/5), done.\u001b[K\r\n",
      "remote: Total 95 (delta 25), reused 25 (delta 25), pack-reused 65 (from 1)\u001b[K\r\n",
      "Receiving objects: 100% (95/95), 1.15 MiB | 7.25 MiB/s, done.\r\n",
      "Resolving deltas: 100% (54/54), done.\r\n",
      "xfolder='ComfyUI_Noise'\n",
      "/kaggle/working/ComfyUI/custom_nodes/ComfyUI_Noise\n",
      "Fetching origin\r\n",
      "Already up to date.\r\n",
      "DONE install  https://github.com/BlenderNeko/ComfyUI_Noise\n",
      "install  https://github.com/ltdrdata/ComfyUI-Impact-Pack\n",
      "/kaggle/working/ComfyUI/custom_nodes\n",
      "Cloning into 'ComfyUI-Impact-Pack'...\r\n",
      "remote: Enumerating objects: 4902, done.\u001b[K\r\n",
      "remote: Counting objects: 100% (45/45), done.\u001b[K\r\n",
      "remote: Compressing objects: 100% (33/33), done.\u001b[K\r\n",
      "remote: Total 4902 (delta 18), reused 31 (delta 12), pack-reused 4857 (from 1)\u001b[K\r\n",
      "Receiving objects: 100% (4902/4902), 31.86 MiB | 41.40 MiB/s, done.\r\n",
      "Resolving deltas: 100% (3279/3279), done.\r\n",
      "xfolder='ComfyUI-Impact-Pack'\n",
      "/kaggle/working/ComfyUI/custom_nodes/ComfyUI-Impact-Pack\n",
      "Fetching origin\r\n",
      "Already up to date.\r\n",
      "Note: you may need to restart the kernel to use updated packages.\n",
      "DONE install  https://github.com/ltdrdata/ComfyUI-Impact-Pack\n",
      "install  https://github.com/pythongosssss/ComfyUI-Custom-Scripts\n",
      "/kaggle/working/ComfyUI/custom_nodes\n",
      "Cloning into 'ComfyUI-Custom-Scripts'...\r\n",
      "remote: Enumerating objects: 2023, done.\u001b[K\r\n",
      "remote: Counting objects: 100% (718/718), done.\u001b[K\r\n",
      "remote: Compressing objects: 100% (181/181), done.\u001b[K\r\n",
      "remote: Total 2023 (delta 532), reused 621 (delta 492), pack-reused 1305 (from 1)\u001b[K\r\n",
      "Receiving objects: 100% (2023/2023), 506.21 KiB | 4.48 MiB/s, done.\r\n",
      "Resolving deltas: 100% (1185/1185), done.\r\n",
      "xfolder='ComfyUI-Custom-Scripts'\n",
      "/kaggle/working/ComfyUI/custom_nodes/ComfyUI-Custom-Scripts\n",
      "Fetching origin\r\n",
      "Already up to date.\r\n",
      "DONE install  https://github.com/pythongosssss/ComfyUI-Custom-Scripts\n",
      "install  https://github.com/yolain/ComfyUI-Easy-Use\n",
      "/kaggle/working/ComfyUI/custom_nodes\n",
      "xfolder='ComfyUI-Easy-Use'\n",
      "/kaggle/working/ComfyUI/custom_nodes/ComfyUI-Easy-Use\n",
      "Fetching origin\r\n",
      "Already up to date.\r\n",
      "Note: you may need to restart the kernel to use updated packages.\n",
      "DONE install  https://github.com/yolain/ComfyUI-Easy-Use\n",
      "install  https://github.com/kijai/ComfyUI-KJNodes\n",
      "/kaggle/working/ComfyUI/custom_nodes\n",
      "Cloning into 'ComfyUI-KJNodes'...\r\n",
      "remote: Enumerating objects: 2109, done.\u001b[K\r\n",
      "remote: Counting objects: 100% (632/632), done.\u001b[K\r\n",
      "remote: Compressing objects: 100% (143/143), done.\u001b[K\r\n",
      "remote: Total 2109 (delta 533), reused 560 (delta 489), pack-reused 1477 (from 1)\u001b[K\r\n",
      "Receiving objects: 100% (2109/2109), 24.62 MiB | 35.35 MiB/s, done.\r\n",
      "Resolving deltas: 100% (1385/1385), done.\r\n",
      "xfolder='ComfyUI-KJNodes'\n",
      "/kaggle/working/ComfyUI/custom_nodes/ComfyUI-KJNodes\n",
      "Fetching origin\r\n",
      "Already up to date.\r\n",
      "Note: you may need to restart the kernel to use updated packages.\n",
      "DONE install  https://github.com/kijai/ComfyUI-KJNodes\n",
      "install  https://github.com/XLabs-AI/x-flux-comfyui\n",
      "/kaggle/working/ComfyUI/custom_nodes\n",
      "Cloning into 'x-flux-comfyui'...\r\n",
      "remote: Enumerating objects: 629, done.\u001b[K\r\n",
      "remote: Counting objects: 100% (236/236), done.\u001b[K\r\n",
      "remote: Compressing objects: 100% (89/89), done.\u001b[K\r\n",
      "remote: Total 629 (delta 194), reused 170 (delta 147), pack-reused 393 (from 1)\u001b[K\r\n",
      "Receiving objects: 100% (629/629), 1.75 MiB | 10.12 MiB/s, done.\r\n",
      "Resolving deltas: 100% (378/378), done.\r\n",
      "xfolder='x-flux-comfyui'\n",
      "/kaggle/working/ComfyUI/custom_nodes/x-flux-comfyui\n",
      "Fetching origin\r\n",
      "Already up to date.\r\n",
      "Note: you may need to restart the kernel to use updated packages.\n",
      "DONE install  https://github.com/XLabs-AI/x-flux-comfyui\n",
      "install  https://github.com/crystian/ComfyUI-Crystools\n",
      "/kaggle/working/ComfyUI/custom_nodes\n",
      "Cloning into 'ComfyUI-Crystools'...\r\n",
      "remote: Enumerating objects: 1616, done.\u001b[K\r\n",
      "remote: Counting objects: 100% (518/518), done.\u001b[K\r\n",
      "remote: Compressing objects: 100% (256/256), done.\u001b[K\r\n",
      "remote: Total 1616 (delta 346), reused 341 (delta 242), pack-reused 1098 (from 1)\u001b[K\r\n",
      "Receiving objects: 100% (1616/1616), 15.25 MiB | 32.39 MiB/s, done.\r\n",
      "Resolving deltas: 100% (1020/1020), done.\r\n",
      "xfolder='ComfyUI-Crystools'\n",
      "/kaggle/working/ComfyUI/custom_nodes/ComfyUI-Crystools\n",
      "Fetching origin\r\n",
      "Already up to date.\r\n",
      "Note: you may need to restart the kernel to use updated packages.\n",
      "DONE install  https://github.com/crystian/ComfyUI-Crystools\n",
      "install  https://github.com/city96/ComfyUI-GGUF\n",
      "/kaggle/working/ComfyUI/custom_nodes\n",
      "Cloning into 'ComfyUI-GGUF'...\r\n",
      "remote: Enumerating objects: 319, done.\u001b[K\r\n",
      "remote: Counting objects: 100% (164/164), done.\u001b[K\r\n",
      "remote: Compressing objects: 100% (97/97), done.\u001b[K\r\n",
      "remote: Total 319 (delta 122), reused 92 (delta 67), pack-reused 155 (from 1)\u001b[K\r\n",
      "Receiving objects: 100% (319/319), 98.30 KiB | 1.82 MiB/s, done.\r\n",
      "Resolving deltas: 100% (195/195), done.\r\n",
      "xfolder='ComfyUI-GGUF'\n",
      "/kaggle/working/ComfyUI/custom_nodes/ComfyUI-GGUF\n",
      "Fetching origin\r\n",
      "Already up to date.\r\n",
      "Note: you may need to restart the kernel to use updated packages.\n",
      "DONE install  https://github.com/city96/ComfyUI-GGUF\n",
      "install  https://github.com/ltdrdata/ComfyUI-Manager\n",
      "/kaggle/working/ComfyUI/custom_nodes\n",
      "xfolder='ComfyUI-Manager'\n",
      "/kaggle/working/ComfyUI/custom_nodes/ComfyUI-Manager\n",
      "Fetching origin\r\n",
      "Already up to date.\r\n",
      "Note: you may need to restart the kernel to use updated packages.\n",
      "DONE install  https://github.com/ltdrdata/ComfyUI-Manager\n"
     ]
    }
   ],
   "source": [
    "checkpoints =  '/kaggle/working/ComfyUI/models/checkpoints'\n",
    "link_path = checkpoints + '/temp-models'\n",
    "temp_models = '/kaggle/temp/temp-models'\n",
    "\n",
    "if not path.exists(temp_models):\n",
    "    os.makedirs(temp_models)\n",
    "\n",
    "if not path.exists(link_path):\n",
    "    get_ipython().system(f'ln -s {temp_models} {checkpoints}')\n",
    "\n",
    "!mamba install openssh -y --quiet\n",
    "\n",
    "# Install the node manager\n",
    "update_manager = True\n",
    "\n",
    "install_this(\"https://github.com/comfyanonymous/ComfyUI_bitsandbytes_NF4\")\n",
    "# Was node\n",
    "install_this('https://github.com/WASasquatch/was-node-suite-comfyui')\n",
    "# Rgthree\n",
    "install_this(\"https://github.com/rgthree/rgthree-comfy\")\n",
    "# REactor\n",
    "# install_this(\"https://github.com/Gourieff/comfyui-reactor-node\")\n",
    "# Comfyui noise\n",
    "install_this(\"https://github.com/BlenderNeko/ComfyUI_Noise\")\n",
    "# Comfyui impact\n",
    "install_this(\"https://github.com/ltdrdata/ComfyUI-Impact-Pack\")\n",
    "# pythongossss\n",
    "install_this(\"https://github.com/pythongosssss/ComfyUI-Custom-Scripts\")\n",
    "# Comfyui easy use\n",
    "install_this(\"https://github.com/yolain/ComfyUI-Easy-Use\")\n",
    "# KJNODES\n",
    "install_this(\"https://github.com/kijai/ComfyUI-KJNodes\") \n",
    "# Flux comfyui\n",
    "# install_this(\"https://github.com/kijai/ComfyUI-Florence2\") \n",
    "install_this(\"https://github.com/XLabs-AI/x-flux-comfyui\") \n",
    "install_this(\"https://github.com/crystian/ComfyUI-Crystools\") \n",
    "install_this(\"https://github.com/city96/ComfyUI-GGUF\")\n",
    "install_this(\"https://github.com/ltdrdata/ComfyUI-Manager\")"
   ]
  },
  {
   "cell_type": "code",
   "execution_count": 13,
   "id": "9d2909f6",
   "metadata": {
    "execution": {
     "iopub.execute_input": "2024-10-05T07:00:31.811927Z",
     "iopub.status.busy": "2024-10-05T07:00:31.811078Z",
     "iopub.status.idle": "2024-10-05T07:00:43.578804Z",
     "shell.execute_reply": "2024-10-05T07:00:43.577708Z"
    },
    "papermill": {
     "duration": 11.812969,
     "end_time": "2024-10-05T07:00:43.581287",
     "exception": false,
     "start_time": "2024-10-05T07:00:31.768318",
     "status": "completed"
    },
    "tags": []
   },
   "outputs": [
    {
     "name": "stdout",
     "output_type": "stream",
     "text": [
      "The following additional packages will be installed:\r\n",
      "  libaria2-0 libc-ares2 libssh2-1\r\n",
      "The following NEW packages will be installed:\r\n",
      "  aria2 libaria2-0 libc-ares2 libssh2-1\r\n",
      "0 upgraded, 4 newly installed, 0 to remove and 68 not upgraded.\r\n",
      "Need to get 1622 kB of archives.\r\n",
      "After this operation, 5817 kB of additional disk space will be used.\r\n",
      "\n",
      "\u001b7\u001b[0;23r\u001b8\u001b[1ASelecting previously unselected package libc-ares2:amd64.\r\n",
      "(Reading database ... 122996 files and directories currently installed.)\r\n",
      "Preparing to unpack .../libc-ares2_1.18.1-1ubuntu0.22.04.3_amd64.deb ...\r\n",
      "\u001b7\u001b[24;0f\u001b[42m\u001b[30mProgress: [  0%]\u001b[49m\u001b[39m [..........................................................] \u001b8\u001b7\u001b[24;0f\u001b[42m\u001b[30mProgress: [  6%]\u001b[49m\u001b[39m [###.......................................................] \u001b8Unpacking libc-ares2:amd64 (1.18.1-1ubuntu0.22.04.3) ...\r\n",
      "\u001b7\u001b[24;0f\u001b[42m\u001b[30mProgress: [ 12%]\u001b[49m\u001b[39m [######....................................................] \u001b8Selecting previously unselected package libssh2-1:amd64.\r\n",
      "Preparing to unpack .../libssh2-1_1.10.0-3_amd64.deb ...\r\n",
      "\u001b7\u001b[24;0f\u001b[42m\u001b[30mProgress: [ 18%]\u001b[49m\u001b[39m [##########................................................] \u001b8Unpacking libssh2-1:amd64 (1.10.0-3) ...\r\n",
      "\u001b7\u001b[24;0f\u001b[42m\u001b[30mProgress: [ 24%]\u001b[49m\u001b[39m [#############.............................................] \u001b8Selecting previously unselected package libaria2-0:amd64.\r\n",
      "Preparing to unpack .../libaria2-0_1.36.0-1_amd64.deb ...\r\n",
      "\u001b7\u001b[24;0f\u001b[42m\u001b[30mProgress: [ 29%]\u001b[49m\u001b[39m [#################.........................................] \u001b8Unpacking libaria2-0:amd64 (1.36.0-1) ...\r\n",
      "\u001b7\u001b[24;0f\u001b[42m\u001b[30mProgress: [ 35%]\u001b[49m\u001b[39m [####################......................................] \u001b8Selecting previously unselected package aria2.\r\n",
      "Preparing to unpack .../aria2_1.36.0-1_amd64.deb ...\r\n",
      "\u001b7\u001b[24;0f\u001b[42m\u001b[30mProgress: [ 41%]\u001b[49m\u001b[39m [#######################...................................] \u001b8Unpacking aria2 (1.36.0-1) ...\r\n",
      "\u001b7\u001b[24;0f\u001b[42m\u001b[30mProgress: [ 47%]\u001b[49m\u001b[39m [###########################...............................] \u001b8Setting up libc-ares2:amd64 (1.18.1-1ubuntu0.22.04.3) ...\r\n",
      "\u001b7\u001b[24;0f\u001b[42m\u001b[30mProgress: [ 53%]\u001b[49m\u001b[39m [##############################............................] \u001b8\u001b7\u001b[24;0f\u001b[42m\u001b[30mProgress: [ 59%]\u001b[49m\u001b[39m [##################################........................] \u001b8Setting up libssh2-1:amd64 (1.10.0-3) ...\r\n",
      "\u001b7\u001b[24;0f\u001b[42m\u001b[30mProgress: [ 65%]\u001b[49m\u001b[39m [#####################################.....................] \u001b8\u001b7\u001b[24;0f\u001b[42m\u001b[30mProgress: [ 71%]\u001b[49m\u001b[39m [########################################..................] \u001b8Setting up libaria2-0:amd64 (1.36.0-1) ...\r\n",
      "\u001b7\u001b[24;0f\u001b[42m\u001b[30mProgress: [ 76%]\u001b[49m\u001b[39m [############################################..............] \u001b8\u001b7\u001b[24;0f\u001b[42m\u001b[30mProgress: [ 82%]\u001b[49m\u001b[39m [###############################################...........] \u001b8Setting up aria2 (1.36.0-1) ...\r\n",
      "\u001b7\u001b[24;0f\u001b[42m\u001b[30mProgress: [ 88%]\u001b[49m\u001b[39m [###################################################.......] \u001b8\u001b7\u001b[24;0f\u001b[42m\u001b[30mProgress: [ 94%]\u001b[49m\u001b[39m [######################################################....] \u001b8Processing triggers for man-db (2.10.2-1) ...\r\n",
      "Processing triggers for libc-bin (2.35-0ubuntu3.8) ...\r\n",
      "\r\n",
      "\u001b7\u001b[0;24r\u001b8\u001b[1A\u001b[J"
     ]
    }
   ],
   "source": [
    "!apt -y install -qq aria2\n",
    "# !aria2c --help"
   ]
  },
  {
   "cell_type": "code",
   "execution_count": 14,
   "id": "5b0b5e78",
   "metadata": {
    "execution": {
     "iopub.execute_input": "2024-10-05T07:00:43.673806Z",
     "iopub.status.busy": "2024-10-05T07:00:43.673449Z",
     "iopub.status.idle": "2024-10-05T07:00:54.428150Z",
     "shell.execute_reply": "2024-10-05T07:00:54.426704Z"
    },
    "papermill": {
     "duration": 10.802188,
     "end_time": "2024-10-05T07:00:54.430842",
     "exception": false,
     "start_time": "2024-10-05T07:00:43.628654",
     "status": "completed"
    },
    "tags": []
   },
   "outputs": [
    {
     "name": "stdout",
     "output_type": "stream",
     "text": [
      "\u001b[35m[\u001b[0m#6fda43 271MiB/319MiB\u001b[36m(84%)\u001b[0m CN:16 DL:\u001b[32m341MiB\u001b[0m\u001b[35m]\u001b[0m\u001b[0m\r\n",
      "Download Results:\r\n",
      "gid   |stat|avg speed  |path/URI\r\n",
      "======+====+===========+=======================================================\r\n",
      "6fda43|\u001b[1;32mOK\u001b[0m  |   344MiB/s|/kaggle/working/ComfyUI/models/vae/ae.sft\r\n",
      "\r\n",
      "Status Legend:\r\n",
      "(OK):download completed.\r\n",
      "\r\n",
      "Download Results:\r\n",
      "gid   |stat|avg speed  |path/URI\r\n",
      "======+====+===========+=======================================================\r\n",
      "b799d7|\u001b[1;32mOK\u001b[0m  |   312MiB/s|/kaggle/working/ComfyUI/models/clip/clip_l.safetensors\r\n",
      "\r\n",
      "Status Legend:\r\n",
      "(OK):download completed.\r\n"
     ]
    }
   ],
   "source": [
    "import os\n",
    "if not os.path.exists(\"/kaggle/working/ComfyUI/models/LLM\"):\n",
    "    os.makedirs(\"/kaggle/working/ComfyUI/models/LLM\")\n",
    "\n",
    "\n",
    "# !aria2c --console-log-level=error -c -x 16 -s 16 -k 1M https://huggingface.co/camenduru/FLUX.1-dev/resolve/main/flux1-dev-fp8.safetensors -d /kaggle/working/ComfyUI/models/unet -o flux1-dev-fp8.safetensors\n",
    "!ln -s /kaggle/input/flux/pytorch/flux.1-dev/1/flux1-dev.safetensors /kaggle/working/ComfyUI/models/unet/flux1-dev.safetensors\n",
    "!aria2c --console-log-level=error -c -x 16 -s 16 -k 1M https://huggingface.co/camenduru/FLUX.1-dev/resolve/main/ae.sft -d /kaggle/working/ComfyUI/models/vae -o ae.sft\n",
    "!aria2c --console-log-level=error -c -x 16 -s 16 -k 1M https://huggingface.co/camenduru/FLUX.1-dev/resolve/main/clip_l.safetensors -d /kaggle/working/ComfyUI/models/clip -o clip_l.safetensors\n",
    "# !aria2c --console-log-level=error -c -x 16 -s 16 -k 1M https://huggingface.co/camenduru/FLUX.1-dev/resolve/main/t5xxl_fp8_e4m3fn.safetensors -d /kaggle/working/ComfyUI/models/clip -o t5xxl_fp8_e4m3fn.safetensors\n",
    "!ln -s /kaggle/input/clip/pytorch/t5xxl_fp8_e4m3fn/1/t5xxl_fp8_e4m3fn.safetensors /kaggle/working/ComfyUI/models/clip/t5xxl_fp8_e4m3fn.safetensors\n",
    "!ln -s  /kaggle/input/t5-fine-tuned/transformers/t5-2/1/model.safetensors    /kaggle/working/ComfyUI/models/clip/t5-2-model.safetensors\n",
    "!ln -s  /kaggle/input/clip-gpt2_t5/pytorch/1/1/net-cross-description.pt    /kaggle/working/ComfyUI/models/clip/net-cross-description.pt"
   ]
  },
  {
   "cell_type": "code",
   "execution_count": 15,
   "id": "cc29e69b",
   "metadata": {
    "execution": {
     "iopub.execute_input": "2024-10-05T07:00:54.524273Z",
     "iopub.status.busy": "2024-10-05T07:00:54.523861Z",
     "iopub.status.idle": "2024-10-05T07:00:54.529205Z",
     "shell.execute_reply": "2024-10-05T07:00:54.528385Z"
    },
    "papermill": {
     "duration": 0.054382,
     "end_time": "2024-10-05T07:00:54.531214",
     "exception": false,
     "start_time": "2024-10-05T07:00:54.476832",
     "status": "completed"
    },
    "tags": []
   },
   "outputs": [],
   "source": [
    "if not os.path.exists(\"/kaggle/working/ComfyUI/models/xlabs/contronets\"):\n",
    "    os.makedirs(\"/kaggle/working/ComfyUI/models/xlabs/contronets/\")"
   ]
  },
  {
   "cell_type": "code",
   "execution_count": 16,
   "id": "67b3ac56",
   "metadata": {
    "execution": {
     "iopub.execute_input": "2024-10-05T07:00:54.632736Z",
     "iopub.status.busy": "2024-10-05T07:00:54.631850Z",
     "iopub.status.idle": "2024-10-05T07:01:04.808870Z",
     "shell.execute_reply": "2024-10-05T07:01:04.807677Z"
    },
    "papermill": {
     "duration": 10.229304,
     "end_time": "2024-10-05T07:01:04.811362",
     "exception": false,
     "start_time": "2024-10-05T07:00:54.582058",
     "status": "completed"
    },
    "tags": []
   },
   "outputs": [],
   "source": [
    "!ln -s /kaggle/input/florence2/transformers/default/1/Florence2_model_3/model.safetensors /kaggle/working/ComfyUI/models/LLM/Florence_model_3.safetensors\n",
    "!ln -s /kaggle/input/florence2/transformers/default/1/Florence2_model_2/model.safetensors /kaggle/working/ComfyUI/models/LLM/Florence_model_2.safetensors\n",
    "!ln -s /kaggle/input/controlnet/pytorch/flux-canny-controlnet/1/flux-canny-controlnet-v3.safetensors  /kaggle/working/ComfyUI/models/xlabs/contronets/flux-canny-controlnet-v3.safetensors\n",
    "!ln -s /kaggle/input/controlnet/pytorch/flux-depth-controlnet/1/flux-depth-controlnet-v3.safetensors  /kaggle/working/ComfyUI/models/xlabs/contronets/flux-depth-controlnet-v3.safetensors\n",
    "!ln -s /kaggle/input/stable-diffusion-xl/pytorch/base-1-0/1/sd_xl_base_1.0_0.9vae.safetensors /kaggle/working/ComfyUI/models/checkpoints/sd_xl_base_1.0_0.9vae.safetensors\n",
    "!ln -s /kaggle/input/stable-diffusion-xl/pytorch/base-1-0/1/sd_xl_base_1.0.safetensors /kaggle/working/ComfyUI/models/checkpoints/sd_xl_base_1.0.safetensors\n",
    "!ln -s /kaggle/input/stoiqo-new-reality-flux-sd_f1d-pre-alpha/transformers/default/1/STOIQONewrealityFLUXSD_F1DPreAlpha.safetensors /kaggle/working/ComfyUI/models/checkpoints/STOIQONewrealityFLUXSD_F1DPreAlpha.safetensors\n",
    "!ln -s /kaggle/input/flux1devnf46stepsnsfw/pytorch/default/1/flux1DevNF46StepsNSFW_fluxdevFP86Steps.safetensors /kaggle/working/ComfyUI/models/checkpoints/flux1DevNF46StepsNSFW_fluxdevFP86Steps.safetensors\n",
    "!ln -s /kaggle/input/8stepscrearthyperfluxdevbnb_v24hyperdevfp8unet_/pytorch/default/1/8StepsCreartHyperFluxDevBnb_v24HyperDevFp8Unet.safetensors  /kaggle/working/ComfyUI/models/unet/8StepsCreartHyperFluxDevBnb_v24HyperDevFp8Unet.safetensors\n",
    "!ln -s /kaggle/input/creart-hyper-flux-dev-gguf-q4_0/gguf/default/1/CreArt-Hyper-Flux-Dev-gguf-q4_0.gguf /kaggle/working/ComfyUI/models/unet/CreArt-Hyper-Flux-Dev-gguf-q4_0.gguf"
   ]
  },
  {
   "cell_type": "code",
   "execution_count": 17,
   "id": "1840c039",
   "metadata": {
    "execution": {
     "iopub.execute_input": "2024-10-05T07:01:04.903354Z",
     "iopub.status.busy": "2024-10-05T07:01:04.902982Z",
     "iopub.status.idle": "2024-10-05T07:01:05.938324Z",
     "shell.execute_reply": "2024-10-05T07:01:05.937205Z"
    },
    "papermill": {
     "duration": 1.085627,
     "end_time": "2024-10-05T07:01:05.940823",
     "exception": false,
     "start_time": "2024-10-05T07:01:04.855196",
     "status": "completed"
    },
    "tags": []
   },
   "outputs": [
    {
     "name": "stdout",
     "output_type": "stream",
     "text": [
      "total 12\r\n",
      "lrwxrwxrwx 1 root root 138 Oct  5 07:01 \u001b[0m\u001b[01;36m8StepsCreartHyperFluxDevBnb_v24HyperDevFp8Unet.safetensors\u001b[0m -> /kaggle/input/8stepscrearthyperfluxdevbnb_v24hyperdevfp8unet_/pytorch/default/1/8StepsCreartHyperFluxDevBnb_v24HyperDevFp8Unet.safetensors\r\n",
      "lrwxrwxrwx 1 root root  97 Oct  5 07:01 \u001b[01;36mCreArt-Hyper-Flux-Dev-gguf-q4_0.gguf\u001b[0m -> /kaggle/input/creart-hyper-flux-dev-gguf-q4_0/gguf/default/1/CreArt-Hyper-Flux-Dev-gguf-q4_0.gguf\r\n",
      "lrwxrwxrwx 1 root root  61 Oct  5 07:00 \u001b[01;36mflux1-dev.safetensors\u001b[0m -> /kaggle/input/flux/pytorch/flux.1-dev/1/flux1-dev.safetensors\r\n",
      "-rw-r--r-- 1 root root   0 Oct  5 06:54 put_unet_files_here\r\n"
     ]
    }
   ],
   "source": [
    "%ls /kaggle/working/ComfyUI/models/unet/ -l"
   ]
  },
  {
   "cell_type": "code",
   "execution_count": 18,
   "id": "a447e53e",
   "metadata": {
    "_cell_guid": "b1076dfc-b9ad-4769-8c92-a6c4dae69d19",
    "_uuid": "8f2839f25d086af736a60e9eeb907d3b93b6e0e5",
    "execution": {
     "iopub.execute_input": "2024-10-05T07:01:06.032374Z",
     "iopub.status.busy": "2024-10-05T07:01:06.031753Z",
     "iopub.status.idle": "2024-10-05T07:01:09.370464Z",
     "shell.execute_reply": "2024-10-05T07:01:09.369190Z"
    },
    "papermill": {
     "duration": 3.387023,
     "end_time": "2024-10-05T07:01:09.373355",
     "exception": false,
     "start_time": "2024-10-05T07:01:05.986332",
     "status": "completed"
    },
    "tags": []
   },
   "outputs": [
    {
     "name": "stdout",
     "output_type": "stream",
     "text": [
      "Selecting previously unselected package cloudflared.\r\n",
      "(Reading database ... 123077 files and directories currently installed.)\r\n",
      "Preparing to unpack .../cloudflared-linux-amd64.deb ...\r\n",
      "Unpacking cloudflared (2024.9.1) ...\r\n",
      "Setting up cloudflared (2024.9.1) ...\r\n",
      "Processing triggers for man-db (2.10.2-1) ...\r\n"
     ]
    }
   ],
   "source": [
    "!wget -P ~ https://github.com/cloudflare/cloudflared/releases/latest/download/cloudflared-linux-amd64.deb -c --quiet\n",
    "!dpkg -i ~/cloudflared-linux-amd64.deb "
   ]
  },
  {
   "cell_type": "raw",
   "id": "f7a80c82",
   "metadata": {
    "_cell_guid": "b1076dfc-b9ad-4769-8c92-a6c4dae69d19",
    "_uuid": "8f2839f25d086af736a60e9eeb907d3b93b6e0e5",
    "execution": {
     "iopub.execute_input": "2024-08-28T19:58:09.254389Z",
     "iopub.status.busy": "2024-08-28T19:58:09.254075Z",
     "iopub.status.idle": "2024-08-28T19:58:28.548381Z",
     "shell.execute_reply": "2024-08-28T19:58:28.547448Z",
     "shell.execute_reply.started": "2024-08-28T19:58:09.254357Z"
    },
    "jupyter": {
     "outputs_hidden": true,
     "source_hidden": true
    },
    "papermill": {
     "duration": 0.044769,
     "end_time": "2024-10-05T07:01:09.474726",
     "exception": false,
     "start_time": "2024-10-05T07:01:09.429957",
     "status": "completed"
    },
    "tags": []
   },
   "source": [
    "import subprocess\n",
    "import threading\n",
    "import time\n",
    "import socket\n",
    "import urllib.request\n",
    "\n",
    "def iframe_thread(port):\n",
    "  while True:\n",
    "      time.sleep(0.5)\n",
    "      sock = socket.socket(socket.AF_INET, socket.SOCK_STREAM)\n",
    "      result = sock.connect_ex(('127.0.0.1', port))\n",
    "      if result == 0:\n",
    "        break\n",
    "      sock.close()\n",
    "  print(\"\\nComfyUI finished loading, trying to launch cloudflared (if it gets stuck here cloudflared is having issues)\\n\")\n",
    "\n",
    "  p = subprocess.Popen([\"cloudflared\", \"tunnel\", \"--url\", \"http://127.0.0.1:{}\".format(port)], stdout=subprocess.PIPE, stderr=subprocess.PIPE)\n",
    "  for line in p.stderr:\n",
    "    l = line.decode()\n",
    "    if \"trycloudflare.com \" in l:\n",
    "      print(\"This is the URL to access ComfyUI:\", l[l.find(\"http\"):], end='')\n",
    "    #print(l, end='')\n",
    "\n",
    "\n",
    "threading.Thread(target=iframe_thread, daemon=True, args=(8188,)).start()\n",
    "\n",
    "%cd /kaggle/working/ComfyUI/\n",
    "!python main.py --dont-print-server"
   ]
  },
  {
   "cell_type": "code",
   "execution_count": 19,
   "id": "fd7f3cce",
   "metadata": {
    "execution": {
     "iopub.execute_input": "2024-10-05T07:01:09.574950Z",
     "iopub.status.busy": "2024-10-05T07:01:09.573512Z",
     "iopub.status.idle": "2024-10-05T07:01:34.784627Z",
     "shell.execute_reply": "2024-10-05T07:01:34.783538Z"
    },
    "papermill": {
     "duration": 25.266039,
     "end_time": "2024-10-05T07:01:34.787044",
     "exception": false,
     "start_time": "2024-10-05T07:01:09.521005",
     "status": "completed"
    },
    "tags": []
   },
   "outputs": [
    {
     "name": "stdout",
     "output_type": "stream",
     "text": [
      "\u001b[K\u001b[?25h\r\n",
      "removed 25 packages, and changed 97 packages in 19s\r\n",
      "\r\n",
      "25 packages are looking for funding\r\n",
      "  run `npm fund` for details\r\n",
      "\u001b[1G\u001b[0K\\\u001b[1G\u001b[0K|\u001b[1G\u001b[0K/\u001b[1G\u001b[0K-\u001b[1G\u001b[0K\\\u001b[1G\u001b[0K|\u001b[1G\u001b[0K/\u001b[1G\u001b[0K-\u001b[1G\u001b[0K\\\u001b[1G\u001b[0K\r\n",
      "added 22 packages in 2s\r\n",
      "\u001b[1G\u001b[0K\\\u001b[1G\u001b[0K\r\n",
      "\u001b[1G\u001b[0K\\\u001b[1G\u001b[0K3 packages are looking for funding\r\n",
      "\u001b[1G\u001b[0K\\\u001b[1G\u001b[0K  run `npm fund` for details\r\n",
      "\u001b[1G\u001b[0K\\\u001b[1G\u001b[0K"
     ]
    }
   ],
   "source": [
    "get_ipython().system(\"npm install -g npm\")\n",
    "get_ipython().system(\"npm install -g localtunnel\")"
   ]
  },
  {
   "cell_type": "code",
   "execution_count": 20,
   "id": "1db97390",
   "metadata": {
    "execution": {
     "iopub.execute_input": "2024-10-05T07:01:34.938458Z",
     "iopub.status.busy": "2024-10-05T07:01:34.938039Z",
     "iopub.status.idle": "2024-10-05T07:02:15.390380Z",
     "shell.execute_reply": "2024-10-05T07:02:15.389163Z"
    },
    "papermill": {
     "duration": 40.603509,
     "end_time": "2024-10-05T07:02:15.464053",
     "exception": false,
     "start_time": "2024-10-05T07:01:34.860544",
     "status": "completed"
    },
    "tags": []
   },
   "outputs": [
    {
     "name": "stdout",
     "output_type": "stream",
     "text": [
      "Note: you may need to restart the kernel to use updated packages.\n"
     ]
    }
   ],
   "source": [
    "%pip install -U albumentations surrealist bitsandbytes piexif ultralytics insightface  -q"
   ]
  },
  {
   "cell_type": "raw",
   "id": "38d4a076",
   "metadata": {
    "execution": {
     "iopub.execute_input": "2024-10-04T11:12:38.438663Z",
     "iopub.status.busy": "2024-10-04T11:12:38.437688Z",
     "iopub.status.idle": "2024-10-04T11:12:38.454049Z",
     "shell.execute_reply": "2024-10-04T11:12:38.453091Z",
     "shell.execute_reply.started": "2024-10-04T11:12:38.438595Z"
    },
    "papermill": {
     "duration": 0.113725,
     "end_time": "2024-10-05T07:02:15.650038",
     "exception": false,
     "start_time": "2024-10-05T07:02:15.536313",
     "status": "completed"
    },
    "tags": []
   },
   "source": [
    "%%writefile /kaggle/working/ComfyUI/limit_ram.sh\n",
    "#!/bin/bash\n",
    "\n",
    "# Calculate 80% of total memory in KB\n",
    "total_mem=$(free -k | awk '/^Mem:/ {print $2}')\n",
    "mem_limit=$((total_mem * 80 / 100))\n",
    "\n",
    "# Set the memory limit\n",
    "ulimit -v $mem_limit\n",
    "\n",
    "# Run the command with its arguments\n",
    "exec \"$@\""
   ]
  },
  {
   "cell_type": "raw",
   "id": "993fcf22",
   "metadata": {
    "execution": {
     "iopub.execute_input": "2024-10-04T11:13:14.548089Z",
     "iopub.status.busy": "2024-10-04T11:13:14.547706Z",
     "iopub.status.idle": "2024-10-04T11:13:15.529529Z",
     "shell.execute_reply": "2024-10-04T11:13:15.528469Z",
     "shell.execute_reply.started": "2024-10-04T11:13:14.548051Z"
    },
    "papermill": {
     "duration": 0.075102,
     "end_time": "2024-10-05T07:02:15.797935",
     "exception": false,
     "start_time": "2024-10-05T07:02:15.722833",
     "status": "completed"
    },
    "tags": []
   },
   "source": [
    "!chmod +x /kaggle/working/ComfyUI/limit_ram.sh"
   ]
  },
  {
   "cell_type": "code",
   "execution_count": 21,
   "id": "008b9ffe",
   "metadata": {
    "execution": {
     "iopub.execute_input": "2024-10-05T07:02:15.942131Z",
     "iopub.status.busy": "2024-10-05T07:02:15.941334Z",
     "iopub.status.idle": "2024-10-05T07:02:15.959496Z",
     "shell.execute_reply": "2024-10-05T07:02:15.958396Z"
    },
    "papermill": {
     "duration": 0.092873,
     "end_time": "2024-10-05T07:02:15.962090",
     "exception": false,
     "start_time": "2024-10-05T07:02:15.869217",
     "status": "completed"
    },
    "tags": []
   },
   "outputs": [
    {
     "data": {
      "text/plain": [
       "<Popen: returncode: None args: ['python', 'main.py', '--cuda-device', '1', '...>"
      ]
     },
     "execution_count": 21,
     "metadata": {},
     "output_type": "execute_result"
    }
   ],
   "source": [
    "import subprocess\n",
    "import threading\n",
    "import time\n",
    "import socket\n",
    "import urllib.request\n",
    "\n",
    "def iframe_thread(port):\n",
    "  while True:\n",
    "      time.sleep(0.5)\n",
    "      sock = socket.socket(socket.AF_INET, socket.SOCK_STREAM)\n",
    "      result = sock.connect_ex(('127.0.0.1', port))\n",
    "      if result == 0:\n",
    "        break\n",
    "      sock.close()\n",
    "  print(\"\\nComfyUI finished loading, trying to launch localtunnel (if it gets stuck here localtunnel is having issues)\\n\")\n",
    "\n",
    "  print(\"The password/enpoint ip for localtunnel is:\", urllib.request.urlopen('https://ipv4.icanhazip.com').read().decode('utf8').strip(\"\\n\"))\n",
    "  p = subprocess.Popen([\"lt\", \"--port\", \"{}\".format(port)], stdout=subprocess.PIPE)\n",
    "  for line in p.stdout:\n",
    "    print(line.decode(), end='')\n",
    "\n",
    "\n",
    "# threading.Thread(target=iframe_thread, daemon=True, args=(8188,8189,)).start()\n",
    "# %cd /kaggle/working/ComfyUI/\n",
    "# # threading.Thread(target=iframe_thread, daemon=True, args=(8189,)).start()\n",
    "# !python main.py  --cuda-device 0 --port 8188; python main.py --cuda-device 1 --port 8189\n",
    "# # --dont-print-server\n",
    "\n",
    "# Change directory to ComfyUI\n",
    "os.chdir(\"/kaggle/working/ComfyUI/\")\n",
    "\n",
    "# Start threads for both ports\n",
    "threading.Thread(target=iframe_thread, daemon=True, args=(8188,)).start()\n",
    "threading.Thread(target=iframe_thread, daemon=True, args=(8189,)).start()\n",
    "\n",
    "# Launch ComfyUI instances\n",
    "subprocess.Popen([\"python\", \"main.py\", \"--cuda-device\", \"0\", \"--port\", \"8188\"])\n",
    "subprocess.Popen([\"python\", \"main.py\", \"--cuda-device\", \"1\", \"--port\", \"8189\"])\n",
    "\n",
    "# subprocess.Popen([\"./limit_ram.sh\",\"python\", \"main.py\", \"--cuda-device\", \"0\", \"--port\", \"8188\"])\n",
    "# subprocess.Popen([\"./limit_ram.sh\",\"python\", \"main.py\", \"--cuda-device\", \"1\", \"--port\", \"8189\"])"
   ]
  },
  {
   "cell_type": "code",
   "execution_count": 22,
   "id": "ddbd0583",
   "metadata": {
    "execution": {
     "iopub.execute_input": "2024-10-05T07:02:16.160102Z",
     "iopub.status.busy": "2024-10-05T07:02:16.159568Z",
     "iopub.status.idle": "2024-10-05T07:02:17.357348Z",
     "shell.execute_reply": "2024-10-05T07:02:17.356205Z"
    },
    "papermill": {
     "duration": 1.288957,
     "end_time": "2024-10-05T07:02:17.359768",
     "exception": false,
     "start_time": "2024-10-05T07:02:16.070811",
     "status": "completed"
    },
    "scrolled": true,
    "tags": []
   },
   "outputs": [
    {
     "name": "stdout",
     "output_type": "stream",
     "text": [
      "    PID TTY      STAT   TIME COMMAND\r\n",
      "      7 ?        Ss     0:00 /opt/bin/nvidia-smi -l 1 --query-gpu=index,utilizat\r\n",
      "      1 ?        Ss     0:00 /bin/bash -c EXECUTE_EXIT_CODE=0; CONVERT_EXIT_CODE\r\n",
      "     15 ?        Sl     0:06 python -c import sys;import papermill as pm;pm.exec\r\n",
      "     23 ?        Ssl    0:09  \\_ /opt/conda/bin/python -m ipykernel_launcher -f \r\n",
      "    802 ?        S      0:00      \\_ python main.py --cuda-device 0 --port 8188\r\n",
      "    805 ?        D      0:00      |   \\_ /opt/conda/bin/python -m pip freeze\r\n",
      "    803 ?        S      0:00      \\_ python main.py --cuda-device 1 --port 8189\r\n",
      "    804 ?        R      0:01      |   \\_ /opt/conda/bin/python -m pip freeze\r\n",
      "    806 pts/0    Rs+    0:01      \\_ ps fax\r\n"
     ]
    }
   ],
   "source": [
    "!ps fax"
   ]
  },
  {
   "cell_type": "code",
   "execution_count": 23,
   "id": "1a95c858",
   "metadata": {
    "execution": {
     "iopub.execute_input": "2024-10-05T07:02:17.514194Z",
     "iopub.status.busy": "2024-10-05T07:02:17.513803Z",
     "iopub.status.idle": "2024-10-05T07:02:18.754038Z",
     "shell.execute_reply": "2024-10-05T07:02:18.752582Z"
    },
    "papermill": {
     "duration": 1.322867,
     "end_time": "2024-10-05T07:02:18.757210",
     "exception": false,
     "start_time": "2024-10-05T07:02:17.434343",
     "status": "completed"
    },
    "tags": []
   },
   "outputs": [
    {
     "name": "stdout",
     "output_type": "stream",
     "text": [
      "/bin/bash: line 1: kill: (256) - No such process\r\n",
      "/bin/bash: line 1: kill: (257) - No such process\r\n",
      "/bin/bash: line 1: kill: (386) - No such process\r\n",
      "/bin/bash: line 1: kill: (385) - No such process\r\n",
      "/bin/bash: line 1: kill: (755) - No such process\r\n",
      "/bin/bash: line 1: kill: (756) - No such process\r\n"
     ]
    }
   ],
   "source": [
    "!kill 256 257 386 385 755 756"
   ]
  },
  {
   "cell_type": "code",
   "execution_count": 24,
   "id": "14e89ba0",
   "metadata": {
    "execution": {
     "iopub.execute_input": "2024-10-05T07:02:18.985629Z",
     "iopub.status.busy": "2024-10-05T07:02:18.984279Z",
     "iopub.status.idle": "2024-10-05T07:02:18.991187Z",
     "shell.execute_reply": "2024-10-05T07:02:18.990170Z"
    },
    "papermill": {
     "duration": 0.124383,
     "end_time": "2024-10-05T07:02:18.993738",
     "exception": false,
     "start_time": "2024-10-05T07:02:18.869355",
     "status": "completed"
    },
    "scrolled": true,
    "tags": []
   },
   "outputs": [],
   "source": [
    "threading.Thread(target=iframe_thread, daemon=True, args=(8189,)).start()"
   ]
  },
  {
   "cell_type": "code",
   "execution_count": 25,
   "id": "b63468a7",
   "metadata": {
    "execution": {
     "iopub.execute_input": "2024-10-05T07:02:19.201096Z",
     "iopub.status.busy": "2024-10-05T07:02:19.200693Z",
     "iopub.status.idle": "2024-10-05T07:02:19.206871Z",
     "shell.execute_reply": "2024-10-05T07:02:19.205693Z"
    },
    "papermill": {
     "duration": 0.102194,
     "end_time": "2024-10-05T07:02:19.209492",
     "exception": false,
     "start_time": "2024-10-05T07:02:19.107298",
     "status": "completed"
    },
    "scrolled": true,
    "tags": []
   },
   "outputs": [],
   "source": [
    "threading.Thread(target=iframe_thread, daemon=True, args=(8188,)).start()"
   ]
  },
  {
   "cell_type": "code",
   "execution_count": 26,
   "id": "99869882",
   "metadata": {
    "execution": {
     "iopub.execute_input": "2024-10-05T07:02:19.404755Z",
     "iopub.status.busy": "2024-10-05T07:02:19.404368Z",
     "iopub.status.idle": "2024-10-05T07:02:19.414490Z",
     "shell.execute_reply": "2024-10-05T07:02:19.413444Z"
    },
    "papermill": {
     "duration": 0.116366,
     "end_time": "2024-10-05T07:02:19.417243",
     "exception": false,
     "start_time": "2024-10-05T07:02:19.300877",
     "status": "completed"
    },
    "scrolled": true,
    "tags": []
   },
   "outputs": [
    {
     "data": {
      "text/plain": [
       "<Popen: returncode: None args: ['python', 'main.py', '--cuda-device', '0', '...>"
      ]
     },
     "execution_count": 26,
     "metadata": {},
     "output_type": "execute_result"
    }
   ],
   "source": [
    "# Change directory to ComfyUI\n",
    "os.chdir(\"/kaggle/working/ComfyUI/\")\n",
    "subprocess.Popen([\"python\", \"main.py\", \"--cuda-device\", \"0\", \"--port\", \"8188\"])"
   ]
  },
  {
   "cell_type": "code",
   "execution_count": 27,
   "id": "5a0ac20f",
   "metadata": {
    "execution": {
     "iopub.execute_input": "2024-10-05T07:02:19.609359Z",
     "iopub.status.busy": "2024-10-05T07:02:19.608813Z",
     "iopub.status.idle": "2024-10-05T07:02:19.620719Z",
     "shell.execute_reply": "2024-10-05T07:02:19.618620Z"
    },
    "papermill": {
     "duration": 0.104496,
     "end_time": "2024-10-05T07:02:19.624234",
     "exception": false,
     "start_time": "2024-10-05T07:02:19.519738",
     "status": "completed"
    },
    "scrolled": true,
    "tags": []
   },
   "outputs": [
    {
     "data": {
      "text/plain": [
       "<Popen: returncode: None args: ['python', 'main.py', '--cuda-device', '1', '...>"
      ]
     },
     "execution_count": 27,
     "metadata": {},
     "output_type": "execute_result"
    }
   ],
   "source": [
    "# Change directory to ComfyUI\n",
    "os.chdir(\"/kaggle/working/ComfyUI/\")\n",
    "subprocess.Popen([\"python\", \"main.py\", \"--cuda-device\", \"1\", \"--port\", \"8189\"])"
   ]
  },
  {
   "cell_type": "code",
   "execution_count": null,
   "id": "99dcb82e",
   "metadata": {
    "papermill": {
     "duration": 0.10206,
     "end_time": "2024-10-05T07:02:19.853844",
     "exception": false,
     "start_time": "2024-10-05T07:02:19.751784",
     "status": "completed"
    },
    "tags": []
   },
   "outputs": [],
   "source": []
  },
  {
   "cell_type": "code",
   "execution_count": 28,
   "id": "db73b775",
   "metadata": {
    "execution": {
     "iopub.execute_input": "2024-10-05T07:02:20.027248Z",
     "iopub.status.busy": "2024-10-05T07:02:20.026203Z",
     "iopub.status.idle": "2024-10-05T07:02:21.303879Z",
     "shell.execute_reply": "2024-10-05T07:02:21.302378Z"
    },
    "papermill": {
     "duration": 1.366081,
     "end_time": "2024-10-05T07:02:21.307716",
     "exception": false,
     "start_time": "2024-10-05T07:02:19.941635",
     "status": "completed"
    },
    "tags": []
   },
   "outputs": [
    {
     "name": "stdout",
     "output_type": "stream",
     "text": [
      "/bin/bash: line 1: kill: (3899) - No such process\r\n",
      "/bin/bash: line 1: kill: (3909) - No such process\r\n"
     ]
    }
   ],
   "source": [
    "!kill 3899     ; kill 3909 #     ; kill 2990   ; kill 3371  \n"
   ]
  },
  {
   "cell_type": "code",
   "execution_count": 29,
   "id": "2c9bedc4",
   "metadata": {
    "collapsed": true,
    "execution": {
     "iopub.execute_input": "2024-10-05T07:02:21.516398Z",
     "iopub.status.busy": "2024-10-05T07:02:21.515757Z",
     "iopub.status.idle": "2024-10-05T07:02:28.977546Z",
     "shell.execute_reply": "2024-10-05T07:02:28.976191Z"
    },
    "jupyter": {
     "outputs_hidden": true
    },
    "papermill": {
     "duration": 7.572408,
     "end_time": "2024-10-05T07:02:28.980298",
     "exception": false,
     "start_time": "2024-10-05T07:02:21.407890",
     "status": "completed"
    },
    "tags": []
   },
   "outputs": [
    {
     "name": "stdout",
     "output_type": "stream",
     "text": [
      "[START] Security scan\n",
      "[DONE] Security scan\n",
      "## ComfyUI-Manager: installing dependencies done.\n",
      "** ComfyUI startup time: 2024-10-05 07:02:22.647221\n",
      "** Platform: Linux\n",
      "** Python version: 3.10.14 | packaged by conda-forge | (main, Mar 20 2024, 12:45:18) [GCC 12.3.0]\n",
      "** Python executable: /opt/conda/bin/python\n",
      "** ComfyUI Path: /kaggle/working/ComfyUI\n",
      "** Log path: /kaggle/working/ComfyUI/comfyui.log\n",
      "\n",
      "Prestartup times for custom nodes:\n",
      "   0.0 seconds: /kaggle/working/ComfyUI/custom_nodes/rgthree-comfy\n",
      "   0.0 seconds: /kaggle/working/ComfyUI/custom_nodes/ComfyUI-Easy-Use\n",
      "   3.1 seconds: /kaggle/working/ComfyUI/custom_nodes/ComfyUI-Manager\n",
      "\n",
      "Reading package lists... 0%\r"
     ]
    },
    {
     "name": "stderr",
     "output_type": "stream",
     "text": [
      "Set cuda device to: 0\n"
     ]
    },
    {
     "name": "stdout",
     "output_type": "stream",
     "text": [
      "[START] Security scan\n",
      "[DONE] Security scan\n",
      "## ComfyUI-Manager: installing dependencies done.\n",
      "** ComfyUI startup time: 2024-10-05 07:02:23.413868\n",
      "** Platform: Linux\n",
      "** Python version: 3.10.14 | packaged by conda-forge | (main, Mar 20 2024, 12:45:18) [GCC 12.3.0]\n",
      "** Python executable: /opt/conda/bin/python\n",
      "** ComfyUI Path: /kaggle/working/ComfyUI\n",
      "** Log path: /kaggle/working/ComfyUI/comfyui.log\n",
      "\n",
      "Prestartup times for custom nodes:\n",
      "   0.0 seconds: /kaggle/working/ComfyUI/custom_nodes/rgthree-comfy\n",
      "   0.0 seconds: /kaggle/working/ComfyUI/custom_nodes/ComfyUI-Easy-Use\n",
      "   3.6 seconds: /kaggle/working/ComfyUI/custom_nodes/ComfyUI-Manager\n",
      "\n",
      "Reading package lists... 28%\r"
     ]
    },
    {
     "name": "stderr",
     "output_type": "stream",
     "text": [
      "Set cuda device to: 1\n"
     ]
    },
    {
     "name": "stdout",
     "output_type": "stream",
     "text": [
      "\r\n",
      "\r\n",
      "\r\n",
      "The following NEW packages will be installed:\r\n",
      "  net-tools\r\n",
      "0 upgraded, 1 newly installed, 0 to remove and 68 not upgraded.\r\n",
      "Need to get 204 kB of archives.\r\n",
      "After this operation, 819 kB of additional disk space will be used.\r\n",
      "Get:1 http://archive.ubuntu.com/ubuntu jammy/main amd64 net-tools amd64 1.60+git20181103.0eebece-1ubuntu5 [204 kB]\r\n",
      "Fetched 204 kB in 1s (280 kB/s)\r\n"
     ]
    },
    {
     "name": "stderr",
     "output_type": "stream",
     "text": [
      "Total VRAM 15095 MB, total RAM 32110 MB\n",
      "Total VRAM 15095 MB, total RAM 32110 MB\n",
      "pytorch version: 2.4.0\n",
      "pytorch version: 2.4.0\n",
      "Total VRAM 15095 MB, total RAM 32110 MB\n",
      "pytorch version: 2.4.0\n",
      "Total VRAM 15095 MB, total RAM 32110 MB\n",
      "pytorch version: 2.4.0\n",
      "Set vram state to: NORMAL_VRAM\n",
      "Set vram state to: NORMAL_VRAM\n",
      "Set vram state to: NORMAL_VRAM\n",
      "Device: cuda:0 Tesla T4 : cudaMallocAsync\n",
      "Device: cuda:0 Tesla T4 : cudaMallocAsync\n",
      "Device: cuda:0 Tesla T4 : cudaMallocAsync\n",
      "Set vram state to: NORMAL_VRAM\n",
      "Device: cuda:0 Tesla T4 : cudaMallocAsync\n"
     ]
    },
    {
     "name": "stdout",
     "output_type": "stream",
     "text": [
      "\n",
      "\u001b7\u001b[0;23r\u001b8\u001b[1ASelecting previously unselected package net-tools.\r\n",
      "(Reading database ... 123081 files and directories currently installed.)\r\n",
      "Preparing to unpack .../net-tools_1.60+git20181103.0eebece-1ubuntu5_amd64.deb ...\r\n",
      "\u001b7\u001b[24;0f\u001b[42m\u001b[30mProgress: [  0%]\u001b[49m\u001b[39m [..........................................................] \u001b8\u001b7\u001b[24;0f\u001b[42m\u001b[30mProgress: [ 20%]\u001b[49m\u001b[39m [###########...............................................] \u001b8Unpacking net-tools (1.60+git20181103.0eebece-1ubuntu5) ...\r\n",
      "\u001b7\u001b[24;0f\u001b[42m\u001b[30mProgress: [ 40%]\u001b[49m\u001b[39m [#######################...................................] \u001b8Setting up net-tools (1.60+git20181103.0eebece-1ubuntu5) ...\r\n",
      "\u001b7\u001b[24;0f\u001b[42m\u001b[30mProgress: [ 60%]\u001b[49m\u001b[39m [##################################........................] \u001b8\u001b7\u001b[24;0f\u001b[42m\u001b[30mProgress: [ 80%]\u001b[49m\u001b[39m [##############################################............] \u001b8Processing triggers for man-db (2.10.2-1) ...\r\n",
      "\r\n",
      "\u001b7\u001b[0;24r\u001b8\u001b[1A\u001b[J"
     ]
    }
   ],
   "source": [
    "!apt install net-tools"
   ]
  },
  {
   "cell_type": "code",
   "execution_count": 30,
   "id": "652ec614",
   "metadata": {
    "execution": {
     "iopub.execute_input": "2024-10-05T07:02:29.174026Z",
     "iopub.status.busy": "2024-10-05T07:02:29.173652Z",
     "iopub.status.idle": "2024-10-05T07:02:30.345710Z",
     "shell.execute_reply": "2024-10-05T07:02:30.344193Z"
    },
    "papermill": {
     "duration": 1.267239,
     "end_time": "2024-10-05T07:02:30.348803",
     "exception": false,
     "start_time": "2024-10-05T07:02:29.081564",
     "status": "completed"
    },
    "tags": []
   },
   "outputs": [
    {
     "name": "stdout",
     "output_type": "stream",
     "text": [
      "Active Internet connections (only servers)\r\n",
      "Proto Recv-Q Send-Q Local Address           Foreign Address         State       PID/Program name    \r\n",
      "tcp        0      0 127.0.0.1:58997         0.0.0.0:*               LISTEN      23/python           \r\n",
      "tcp        0      0 127.0.0.1:44777         0.0.0.0:*               LISTEN      23/python           \r\n",
      "tcp        0      0 127.0.0.1:43923         0.0.0.0:*               LISTEN      23/python           \r\n",
      "tcp        0      0 127.0.0.11:41549        0.0.0.0:*               LISTEN      -                   \r\n",
      "tcp        0      0 127.0.0.1:34601         0.0.0.0:*               LISTEN      23/python           \r\n",
      "tcp        0      0 127.0.0.1:35861         0.0.0.0:*               LISTEN      23/python           \r\n",
      "tcp        0      0 127.0.0.1:38743         0.0.0.0:*               LISTEN      23/python           \r\n"
     ]
    }
   ],
   "source": [
    "!netstat -nltp"
   ]
  },
  {
   "cell_type": "markdown",
   "id": "7a0ce3e7",
   "metadata": {
    "execution": {
     "iopub.execute_input": "2024-09-20T12:20:38.520809Z",
     "iopub.status.busy": "2024-09-20T12:20:38.520370Z",
     "iopub.status.idle": "2024-09-20T12:20:39.549843Z",
     "shell.execute_reply": "2024-09-20T12:20:39.548486Z",
     "shell.execute_reply.started": "2024-09-20T12:20:38.520767Z"
    },
    "papermill": {
     "duration": 0.111247,
     "end_time": "2024-10-05T07:02:30.572471",
     "exception": false,
     "start_time": "2024-10-05T07:02:30.461224",
     "status": "completed"
    },
    "tags": []
   },
   "source": [
    "%rm /kaggle/working/ComfyUI/models/unet/flux1-dev.safetensors"
   ]
  },
  {
   "cell_type": "markdown",
   "id": "fbae050e",
   "metadata": {
    "papermill": {
     "duration": 0.103005,
     "end_time": "2024-10-05T07:02:30.788239",
     "exception": false,
     "start_time": "2024-10-05T07:02:30.685234",
     "status": "completed"
    },
    "tags": []
   },
   "source": []
  },
  {
   "cell_type": "markdown",
   "id": "ba461fb9",
   "metadata": {
    "execution": {
     "iopub.execute_input": "2024-09-20T11:57:54.491040Z",
     "iopub.status.busy": "2024-09-20T11:57:54.490605Z",
     "iopub.status.idle": "2024-09-20T11:57:54.498498Z",
     "shell.execute_reply": "2024-09-20T11:57:54.497548Z",
     "shell.execute_reply.started": "2024-09-20T11:57:54.490999Z"
    },
    "papermill": {
     "duration": 0.112152,
     "end_time": "2024-10-05T07:02:31.000709",
     "exception": false,
     "start_time": "2024-10-05T07:02:30.888557",
     "status": "completed"
    },
    "tags": []
   },
   "source": [
    "%cd /kaggle/working/ComfyUI/custom_nodes/ComfyUI-Manager/"
   ]
  },
  {
   "cell_type": "markdown",
   "id": "87b3b28e",
   "metadata": {
    "execution": {
     "iopub.execute_input": "2024-09-20T11:57:57.530583Z",
     "iopub.status.busy": "2024-09-20T11:57:57.530159Z",
     "iopub.status.idle": "2024-09-20T11:57:58.530290Z",
     "shell.execute_reply": "2024-09-20T11:57:58.529144Z",
     "shell.execute_reply.started": "2024-09-20T11:57:57.530543Z"
    },
    "papermill": {
     "duration": 0.123155,
     "end_time": "2024-10-05T07:02:31.230693",
     "exception": false,
     "start_time": "2024-10-05T07:02:31.107538",
     "status": "completed"
    },
    "tags": []
   },
   "source": [
    "%ls"
   ]
  },
  {
   "cell_type": "markdown",
   "id": "94710448",
   "metadata": {
    "execution": {
     "iopub.execute_input": "2024-09-20T11:58:19.057594Z",
     "iopub.status.busy": "2024-09-20T11:58:19.057229Z",
     "iopub.status.idle": "2024-09-20T11:58:19.064204Z",
     "shell.execute_reply": "2024-09-20T11:58:19.063249Z",
     "shell.execute_reply.started": "2024-09-20T11:58:19.057560Z"
    },
    "papermill": {
     "duration": 0.108574,
     "end_time": "2024-10-05T07:02:31.448310",
     "exception": false,
     "start_time": "2024-10-05T07:02:31.339736",
     "status": "completed"
    },
    "tags": []
   },
   "source": [
    "%cd .."
   ]
  },
  {
   "cell_type": "markdown",
   "id": "f5c54090",
   "metadata": {
    "execution": {
     "iopub.execute_input": "2024-09-20T11:58:44.581976Z",
     "iopub.status.busy": "2024-09-20T11:58:44.581109Z",
     "iopub.status.idle": "2024-09-20T11:58:45.610641Z",
     "shell.execute_reply": "2024-09-20T11:58:45.609397Z",
     "shell.execute_reply.started": "2024-09-20T11:58:44.581939Z"
    },
    "papermill": {
     "duration": 0.115829,
     "end_time": "2024-10-05T07:02:31.671820",
     "exception": false,
     "start_time": "2024-10-05T07:02:31.555991",
     "status": "completed"
    },
    "tags": []
   },
   "source": [
    "!rm ComfyUI-Manager -r"
   ]
  },
  {
   "cell_type": "markdown",
   "id": "8f8fd4dc",
   "metadata": {
    "execution": {
     "iopub.execute_input": "2024-09-20T11:59:01.669359Z",
     "iopub.status.busy": "2024-09-20T11:59:01.668636Z",
     "iopub.status.idle": "2024-09-20T11:59:01.676822Z",
     "shell.execute_reply": "2024-09-20T11:59:01.675782Z",
     "shell.execute_reply.started": "2024-09-20T11:59:01.669315Z"
    },
    "papermill": {
     "duration": 0.113565,
     "end_time": "2024-10-05T07:02:31.892787",
     "exception": false,
     "start_time": "2024-10-05T07:02:31.779222",
     "status": "completed"
    },
    "tags": []
   },
   "source": [
    "%pwd"
   ]
  },
  {
   "cell_type": "markdown",
   "id": "1f43ed83",
   "metadata": {
    "execution": {
     "iopub.execute_input": "2024-09-20T11:59:42.273528Z",
     "iopub.status.busy": "2024-09-20T11:59:42.273102Z",
     "iopub.status.idle": "2024-09-20T12:00:02.061805Z",
     "shell.execute_reply": "2024-09-20T12:00:02.060311Z",
     "shell.execute_reply.started": "2024-09-20T11:59:42.273488Z"
    },
    "jupyter": {
     "outputs_hidden": true
    },
    "papermill": {
     "duration": 0.085785,
     "end_time": "2024-10-05T07:02:32.088140",
     "exception": false,
     "start_time": "2024-10-05T07:02:32.002355",
     "status": "completed"
    },
    "tags": []
   },
   "source": [
    "install_this(\"https://github.com/ltdrdata/ComfyUI-Manager\")"
   ]
  },
  {
   "cell_type": "markdown",
   "id": "79c2f2b4",
   "metadata": {
    "execution": {
     "iopub.execute_input": "2024-09-20T12:00:56.083265Z",
     "iopub.status.busy": "2024-09-20T12:00:56.082041Z",
     "iopub.status.idle": "2024-09-20T12:00:56.092710Z",
     "shell.execute_reply": "2024-09-20T12:00:56.091752Z",
     "shell.execute_reply.started": "2024-09-20T12:00:56.083214Z"
    },
    "papermill": {
     "duration": 0.085766,
     "end_time": "2024-10-05T07:02:32.259625",
     "exception": false,
     "start_time": "2024-10-05T07:02:32.173859",
     "status": "completed"
    },
    "tags": []
   },
   "source": [
    "from IPython.display import HTML, Javascript, display\n",
    "\n",
    "def restart_kernel_and_run_all_cells():\n",
    "    display(Javascript('IPython.notebook.kernel.restart()'))\n",
    "    display(Javascript('IPython.notebook.execute_all_cells()'))\n",
    "\n",
    "restart_kernel_and_run_all_cells()"
   ]
  },
  {
   "cell_type": "markdown",
   "id": "973c3dfd",
   "metadata": {
    "papermill": {
     "duration": 0.087068,
     "end_time": "2024-10-05T07:02:32.435601",
     "exception": false,
     "start_time": "2024-10-05T07:02:32.348533",
     "status": "completed"
    },
    "tags": []
   },
   "source": [
    "!git pull --all"
   ]
  },
  {
   "cell_type": "markdown",
   "id": "01f8ffce",
   "metadata": {
    "papermill": {
     "duration": 0.122618,
     "end_time": "2024-10-05T07:02:32.670114",
     "exception": false,
     "start_time": "2024-10-05T07:02:32.547496",
     "status": "completed"
    },
    "tags": []
   },
   "source": [
    "%pip install pip -U"
   ]
  },
  {
   "cell_type": "markdown",
   "id": "b98dc5ab",
   "metadata": {
    "execution": {
     "iopub.execute_input": "2024-09-20T13:13:25.613380Z",
     "iopub.status.busy": "2024-09-20T13:13:25.612875Z",
     "iopub.status.idle": "2024-09-20T13:13:30.156789Z",
     "shell.execute_reply": "2024-09-20T13:13:30.155567Z",
     "shell.execute_reply.started": "2024-09-20T13:13:25.613317Z"
    },
    "papermill": {
     "duration": 0.083274,
     "end_time": "2024-10-05T07:02:32.843350",
     "exception": false,
     "start_time": "2024-10-05T07:02:32.760076",
     "status": "completed"
    },
    "tags": []
   },
   "source": [
    "%pip install  cudf==0.6.1.post1 --only-binary=:all --no-build-isolation"
   ]
  },
  {
   "cell_type": "markdown",
   "id": "d8d6cfe8",
   "metadata": {
    "papermill": {
     "duration": 0.081346,
     "end_time": "2024-10-05T07:02:33.009952",
     "exception": false,
     "start_time": "2024-10-05T07:02:32.928606",
     "status": "completed"
    },
    "tags": []
   },
   "source": [
    "%pip install  -r requirements.txt --no-build-isolation"
   ]
  },
  {
   "cell_type": "markdown",
   "id": "29f9e71e",
   "metadata": {
    "papermill": {
     "duration": 0.081489,
     "end_time": "2024-10-05T07:02:33.172486",
     "exception": false,
     "start_time": "2024-10-05T07:02:33.090997",
     "status": "completed"
    },
    "tags": []
   },
   "source": [
    "%pip install -U albumentations surrealist bitsandbytes piexif ultralytics insightface -q"
   ]
  },
  {
   "cell_type": "markdown",
   "id": "cfb250cb",
   "metadata": {
    "papermill": {
     "duration": 0.087523,
     "end_time": "2024-10-05T07:02:33.346614",
     "exception": false,
     "start_time": "2024-10-05T07:02:33.259091",
     "status": "completed"
    },
    "tags": []
   },
   "source": [
    "%cd /kaggle/working/ComfyUI/custom_nodes/\n"
   ]
  },
  {
   "cell_type": "markdown",
   "id": "d8854bbb",
   "metadata": {
    "execution": {
     "iopub.execute_input": "2024-09-20T13:13:30.158724Z",
     "iopub.status.busy": "2024-09-20T13:13:30.158346Z",
     "iopub.status.idle": "2024-09-20T13:13:31.642584Z",
     "shell.execute_reply": "2024-09-20T13:13:31.641415Z",
     "shell.execute_reply.started": "2024-09-20T13:13:30.158687Z"
    },
    "papermill": {
     "duration": 0.099711,
     "end_time": "2024-10-05T07:02:33.547945",
     "exception": false,
     "start_time": "2024-10-05T07:02:33.448234",
     "status": "completed"
    },
    "tags": []
   },
   "source": [
    "!git clone https://github.com/un-seen/comfyui-tensorops"
   ]
  },
  {
   "cell_type": "markdown",
   "id": "3ce9e8a9",
   "metadata": {
    "execution": {
     "iopub.execute_input": "2024-09-20T13:13:31.645926Z",
     "iopub.status.busy": "2024-09-20T13:13:31.645516Z",
     "iopub.status.idle": "2024-09-20T13:13:32.930382Z",
     "shell.execute_reply": "2024-09-20T13:13:32.929390Z",
     "shell.execute_reply.started": "2024-09-20T13:13:31.645882Z"
    },
    "papermill": {
     "duration": 0.205057,
     "end_time": "2024-10-05T07:02:33.871472",
     "exception": false,
     "start_time": "2024-10-05T07:02:33.666415",
     "status": "completed"
    },
    "tags": []
   },
   "source": [
    "%cd comfyui-tensorops/\n",
    "!git pull --all"
   ]
  },
  {
   "cell_type": "markdown",
   "id": "d82c7a5f",
   "metadata": {
    "papermill": {
     "duration": 0.088508,
     "end_time": "2024-10-05T07:02:34.049943",
     "exception": false,
     "start_time": "2024-10-05T07:02:33.961435",
     "status": "completed"
    },
    "tags": []
   },
   "source": [
    "%pip install  -r requirements.txt --no-build-isolation"
   ]
  },
  {
   "cell_type": "markdown",
   "id": "923c9782",
   "metadata": {
    "papermill": {
     "duration": 0.085563,
     "end_time": "2024-10-05T07:02:34.220756",
     "exception": false,
     "start_time": "2024-10-05T07:02:34.135193",
     "status": "completed"
    },
    "tags": []
   },
   "source": []
  }
 ],
 "metadata": {
  "kaggle": {
   "accelerator": "nvidiaTeslaT4",
   "dataSources": [
    {
     "isSourceIdPinned": true,
     "modelId": 972,
     "modelInstanceId": 3321,
     "sourceId": 4529,
     "sourceType": "modelInstanceVersion"
    },
    {
     "isSourceIdPinned": true,
     "modelId": 44170,
     "modelInstanceId": 34642,
     "sourceId": 41165,
     "sourceType": "modelInstanceVersion"
    },
    {
     "isSourceIdPinned": true,
     "modelId": 54047,
     "modelInstanceId": 38547,
     "sourceId": 45980,
     "sourceType": "modelInstanceVersion"
    },
    {
     "modelId": 107178,
     "modelInstanceId": 82919,
     "sourceId": 98826,
     "sourceType": "modelInstanceVersion"
    },
    {
     "modelId": 108406,
     "modelInstanceId": 84156,
     "sourceId": 100324,
     "sourceType": "modelInstanceVersion"
    },
    {
     "modelId": 115146,
     "modelInstanceId": 90914,
     "sourceId": 108546,
     "sourceType": "modelInstanceVersion"
    },
    {
     "modelId": 115152,
     "modelInstanceId": 91748,
     "sourceId": 109552,
     "sourceType": "modelInstanceVersion"
    },
    {
     "modelId": 115152,
     "modelInstanceId": 91750,
     "sourceId": 109554,
     "sourceType": "modelInstanceVersion"
    },
    {
     "modelId": 116511,
     "modelInstanceId": 92312,
     "sourceId": 110195,
     "sourceType": "modelInstanceVersion"
    },
    {
     "isSourceIdPinned": true,
     "modelId": 122985,
     "modelInstanceId": 98812,
     "sourceId": 117514,
     "sourceType": "modelInstanceVersion"
    },
    {
     "isSourceIdPinned": true,
     "modelId": 123097,
     "modelInstanceId": 98930,
     "sourceId": 117667,
     "sourceType": "modelInstanceVersion"
    },
    {
     "isSourceIdPinned": true,
     "modelId": 123105,
     "modelInstanceId": 98936,
     "sourceId": 117674,
     "sourceType": "modelInstanceVersion"
    }
   ],
   "isGpuEnabled": true,
   "isInternetEnabled": true,
   "language": "python",
   "sourceType": "notebook"
  },
  "kernelspec": {
   "display_name": "Python 3",
   "language": "python",
   "name": "python3"
  },
  "language_info": {
   "codemirror_mode": {
    "name": "ipython",
    "version": 3
   },
   "file_extension": ".py",
   "mimetype": "text/x-python",
   "name": "python",
   "nbconvert_exporter": "python",
   "pygments_lexer": "ipython3",
   "version": "3.10.14"
  },
  "papermill": {
   "default_parameters": {},
   "duration": 506.075407,
   "end_time": "2024-10-05T07:02:36.932162",
   "environment_variables": {},
   "exception": null,
   "input_path": "__notebook__.ipynb",
   "output_path": "__notebook__.ipynb",
   "parameters": {},
   "start_time": "2024-10-05T06:54:10.856755",
   "version": "2.6.0"
  }
 },
 "nbformat": 4,
 "nbformat_minor": 5
}
