{
 "cells": [
  {
   "cell_type": "code",
   "execution_count": 1,
   "id": "87f2ef80",
   "metadata": {
    "_cell_guid": "b1076dfc-b9ad-4769-8c92-a6c4dae69d19",
    "_uuid": "8f2839f25d086af736a60e9eeb907d3b93b6e0e5",
    "execution": {
     "iopub.execute_input": "2024-10-23T08:11:04.413839Z",
     "iopub.status.busy": "2024-10-23T08:11:04.413514Z",
     "iopub.status.idle": "2024-10-23T08:11:04.431296Z",
     "shell.execute_reply": "2024-10-23T08:11:04.430630Z"
    },
    "papermill": {
     "duration": 0.025061,
     "end_time": "2024-10-23T08:11:04.433251",
     "exception": false,
     "start_time": "2024-10-23T08:11:04.408190",
     "status": "completed"
    },
    "tags": []
   },
   "outputs": [],
   "source": [
    "def install_this(xthe_url):\n",
    "    import os\n",
    "    print(\"install \",xthe_url)\n",
    "    if not os.path.exists(\"/kaggle/working/ComfyUI/custom_nodes/\"):\n",
    "        os.makedirs(\"/kaggle/working/ComfyUI/custom_nodes/\")\n",
    "    \n",
    "    %cd /kaggle/working/ComfyUI/custom_nodes\n",
    "    xfolder =  xthe_url.split('/')[-1].replace('.git','')\n",
    "    if not os.path.exists(\"/kaggle/working/ComfyUI/custom_nodes/\" + xfolder):\n",
    "        get_ipython().system(f'git clone {xthe_url}')\n",
    "    \n",
    "    print(f\"{xfolder=}\")\n",
    "    %cd /kaggle/working/ComfyUI/custom_nodes/$xfolder\n",
    "    get_ipython().system('git pull --all')\n",
    "    if os.path.exists(\"requirements.txt\"):\n",
    "        %pip install -r requirements.txt --quiet  #-U --upgrade-strategy only-if-needed\n",
    "#     else :\n",
    "#         %pip install --quiet\n",
    "    print(\"DONE install \",xthe_url)"
   ]
  },
  {
   "cell_type": "code",
   "execution_count": 2,
   "id": "dbbe951f",
   "metadata": {
    "execution": {
     "iopub.execute_input": "2024-10-23T08:11:04.441667Z",
     "iopub.status.busy": "2024-10-23T08:11:04.441362Z",
     "iopub.status.idle": "2024-10-23T08:11:23.158713Z",
     "shell.execute_reply": "2024-10-23T08:11:23.157465Z"
    },
    "papermill": {
     "duration": 18.72415,
     "end_time": "2024-10-23T08:11:23.161239",
     "exception": false,
     "start_time": "2024-10-23T08:11:04.437089",
     "status": "completed"
    },
    "tags": []
   },
   "outputs": [
    {
     "name": "stdout",
     "output_type": "stream",
     "text": [
      "/kaggle/working\n",
      "Cloning into 'ComfyUI'...\r\n",
      "remote: Enumerating objects: 14570, done.\u001b[K\r\n",
      "remote: Counting objects: 100% (106/106), done.\u001b[K\r\n",
      "remote: Compressing objects: 100% (75/75), done.\u001b[K\r\n",
      "remote: Total 14570 (delta 51), reused 63 (delta 31), pack-reused 14464 (from 1)\u001b[K\r\n",
      "Receiving objects: 100% (14570/14570), 26.64 MiB | 17.34 MiB/s, done.\r\n",
      "Resolving deltas: 100% (9697/9697), done.\r\n",
      "/kaggle/working/ComfyUI\n",
      "Fetching origin\r\n",
      "Already up to date.\r\n"
     ]
    }
   ],
   "source": [
    "update = True\n",
    "\n",
    "from os import path\n",
    "import os\n",
    "# if not path.exists(\"/kaggle/working/ComfyUI/\"):\n",
    "%cd /kaggle/working\n",
    "if not path.exists(\"/kaggle/working/ComfyUI/\"):\n",
    "    get_ipython().system(f'git clone https://github.com/comfyanonymous/ComfyUI.git')\n",
    "%cd ComfyUI\n",
    "if update:\n",
    "    get_ipython().system('git pull --all')\n",
    "!pip install -r requirements.txt --quiet"
   ]
  },
  {
   "cell_type": "code",
   "execution_count": 3,
   "id": "11d9415f",
   "metadata": {
    "execution": {
     "iopub.execute_input": "2024-10-23T08:11:23.175699Z",
     "iopub.status.busy": "2024-10-23T08:11:23.174910Z",
     "iopub.status.idle": "2024-10-23T08:11:23.180808Z",
     "shell.execute_reply": "2024-10-23T08:11:23.179889Z"
    },
    "papermill": {
     "duration": 0.015308,
     "end_time": "2024-10-23T08:11:23.182861",
     "exception": false,
     "start_time": "2024-10-23T08:11:23.167553",
     "status": "completed"
    },
    "tags": []
   },
   "outputs": [],
   "source": [
    "import os\n",
    "if not os.path.exists(\"/kaggle/working/ComfyUI/models/LLM\"):\n",
    "    os.makedirs(\"/kaggle/working/ComfyUI/models/LLM\")\n",
    "if not os.path.exists(\"/kaggle/working/ComfyUI/models/xlabs/contronets\"):\n",
    "    os.makedirs(\"/kaggle/working/ComfyUI/models/xlabs/contronets/\")"
   ]
  },
  {
   "cell_type": "code",
   "execution_count": 4,
   "id": "7568ca78",
   "metadata": {
    "execution": {
     "iopub.execute_input": "2024-10-23T08:11:23.195983Z",
     "iopub.status.busy": "2024-10-23T08:11:23.195699Z",
     "iopub.status.idle": "2024-10-23T08:16:07.492061Z",
     "shell.execute_reply": "2024-10-23T08:16:07.490678Z"
    },
    "papermill": {
     "duration": 284.305483,
     "end_time": "2024-10-23T08:16:07.494303",
     "exception": false,
     "start_time": "2024-10-23T08:11:23.188820",
     "status": "completed"
    },
    "tags": []
   },
   "outputs": [
    {
     "name": "stdout",
     "output_type": "stream",
     "text": [
      "install  https://github.com/comfyanonymous/ComfyUI_bitsandbytes_NF4\n",
      "/kaggle/working/ComfyUI/custom_nodes\n",
      "Cloning into 'ComfyUI_bitsandbytes_NF4'...\r\n",
      "remote: Enumerating objects: 33, done.\u001b[K\r\n",
      "remote: Counting objects: 100% (33/33), done.\u001b[K\r\n",
      "remote: Compressing objects: 100% (28/28), done.\u001b[K\r\n",
      "remote: Total 33 (delta 17), reused 13 (delta 3), pack-reused 0 (from 0)\u001b[K\r\n",
      "Receiving objects: 100% (33/33), 20.25 KiB | 3.38 MiB/s, done.\r\n",
      "Resolving deltas: 100% (17/17), done.\r\n",
      "xfolder='ComfyUI_bitsandbytes_NF4'\n",
      "/kaggle/working/ComfyUI/custom_nodes/ComfyUI_bitsandbytes_NF4\n",
      "Fetching origin\r\n",
      "Already up to date.\r\n",
      "Note: you may need to restart the kernel to use updated packages.\n",
      "DONE install  https://github.com/comfyanonymous/ComfyUI_bitsandbytes_NF4\n",
      "install  https://github.com/WASasquatch/was-node-suite-comfyui\n",
      "/kaggle/working/ComfyUI/custom_nodes\n",
      "Cloning into 'was-node-suite-comfyui'...\r\n",
      "remote: Enumerating objects: 2289, done.\u001b[K\r\n",
      "remote: Counting objects: 100% (865/865), done.\u001b[K\r\n",
      "remote: Compressing objects: 100% (338/338), done.\u001b[K\r\n",
      "remote: Total 2289 (delta 619), reused 710 (delta 519), pack-reused 1424 (from 1)\u001b[K\r\n",
      "Receiving objects: 100% (2289/2289), 39.58 MiB | 30.50 MiB/s, done.\r\n",
      "Resolving deltas: 100% (1394/1394), done.\r\n",
      "xfolder='was-node-suite-comfyui'\n",
      "/kaggle/working/ComfyUI/custom_nodes/was-node-suite-comfyui\n",
      "Fetching origin\r\n",
      "Already up to date.\r\n",
      "\u001b[33mWARNING: opencv-python-headless 4.7.0.72 does not provide the extra 'ffmpeg'\u001b[0m\u001b[33m\r\n",
      "\u001b[0m\u001b[31mERROR: pip's dependency resolver does not currently take into account all the packages that are installed. This behaviour is the source of the following dependency conflicts.\r\n",
      "albucore 0.0.17 requires opencv-python-headless>=4.9.0.80, but you have opencv-python-headless 4.7.0.72 which is incompatible.\r\n",
      "albumentations 1.4.17 requires opencv-python-headless>=4.9.0.80, but you have opencv-python-headless 4.7.0.72 which is incompatible.\u001b[0m\u001b[31m\r\n",
      "\u001b[0mNote: you may need to restart the kernel to use updated packages.\n",
      "DONE install  https://github.com/WASasquatch/was-node-suite-comfyui\n",
      "install  https://github.com/rgthree/rgthree-comfy\n",
      "/kaggle/working/ComfyUI/custom_nodes\n",
      "Cloning into 'rgthree-comfy'...\r\n",
      "remote: Enumerating objects: 3384, done.\u001b[K\r\n",
      "remote: Counting objects: 100% (684/684), done.\u001b[K\r\n",
      "remote: Compressing objects: 100% (199/199), done.\u001b[K\r\n",
      "remote: Total 3384 (delta 538), reused 528 (delta 485), pack-reused 2700 (from 1)\u001b[K\r\n",
      "Receiving objects: 100% (3384/3384), 4.23 MiB | 26.90 MiB/s, done.\r\n",
      "Resolving deltas: 100% (2473/2473), done.\r\n",
      "xfolder='rgthree-comfy'\n",
      "/kaggle/working/ComfyUI/custom_nodes/rgthree-comfy\n",
      "Fetching origin\r\n",
      "Already up to date.\r\n",
      "Note: you may need to restart the kernel to use updated packages.\n",
      "DONE install  https://github.com/rgthree/rgthree-comfy\n",
      "install  https://github.com/Gourieff/comfyui-reactor-node\n",
      "/kaggle/working/ComfyUI/custom_nodes\n",
      "Cloning into 'comfyui-reactor-node'...\r\n",
      "remote: Enumerating objects: 1217, done.\u001b[K\r\n",
      "remote: Counting objects: 100% (361/361), done.\u001b[K\r\n",
      "remote: Compressing objects: 100% (78/78), done.\u001b[K\r\n",
      "remote: Total 1217 (delta 332), reused 283 (delta 283), pack-reused 856 (from 1)\u001b[K\r\n",
      "Receiving objects: 100% (1217/1217), 22.73 MiB | 23.82 MiB/s, done.\r\n",
      "Resolving deltas: 100% (765/765), done.\r\n",
      "xfolder='comfyui-reactor-node'\n",
      "/kaggle/working/ComfyUI/custom_nodes/comfyui-reactor-node\n",
      "Fetching origin\r\n",
      "Already up to date.\r\n",
      "Note: you may need to restart the kernel to use updated packages.\n",
      "DONE install  https://github.com/Gourieff/comfyui-reactor-node\n",
      "install  https://github.com/BlenderNeko/ComfyUI_Noise\n",
      "/kaggle/working/ComfyUI/custom_nodes\n",
      "Cloning into 'ComfyUI_Noise'...\r\n",
      "remote: Enumerating objects: 95, done.\u001b[K\r\n",
      "remote: Counting objects: 100% (30/30), done.\u001b[K\r\n",
      "remote: Compressing objects: 100% (5/5), done.\u001b[K\r\n",
      "remote: Total 95 (delta 25), reused 25 (delta 25), pack-reused 65 (from 1)\u001b[K\r\n",
      "Receiving objects: 100% (95/95), 1.15 MiB | 23.64 MiB/s, done.\r\n",
      "Resolving deltas: 100% (54/54), done.\r\n",
      "xfolder='ComfyUI_Noise'\n",
      "/kaggle/working/ComfyUI/custom_nodes/ComfyUI_Noise\n",
      "Fetching origin\r\n",
      "Already up to date.\r\n",
      "DONE install  https://github.com/BlenderNeko/ComfyUI_Noise\n",
      "install  https://github.com/ltdrdata/ComfyUI-Impact-Pack\n",
      "/kaggle/working/ComfyUI/custom_nodes\n",
      "Cloning into 'ComfyUI-Impact-Pack'...\r\n",
      "remote: Enumerating objects: 4959, done.\u001b[K\r\n",
      "remote: Counting objects: 100% (102/102), done.\u001b[K\r\n",
      "remote: Compressing objects: 100% (53/53), done.\u001b[K\r\n",
      "remote: Total 4959 (delta 50), reused 96 (delta 49), pack-reused 4857 (from 1)\u001b[K\r\n",
      "Receiving objects: 100% (4959/4959), 31.91 MiB | 24.47 MiB/s, done.\r\n",
      "Resolving deltas: 100% (3311/3311), done.\r\n",
      "xfolder='ComfyUI-Impact-Pack'\n",
      "/kaggle/working/ComfyUI/custom_nodes/ComfyUI-Impact-Pack\n",
      "Fetching origin\r\n",
      "Already up to date.\r\n",
      "Note: you may need to restart the kernel to use updated packages.\n",
      "DONE install  https://github.com/ltdrdata/ComfyUI-Impact-Pack\n",
      "install  https://github.com/pythongosssss/ComfyUI-Custom-Scripts\n",
      "/kaggle/working/ComfyUI/custom_nodes\n",
      "Cloning into 'ComfyUI-Custom-Scripts'...\r\n",
      "remote: Enumerating objects: 2023, done.\u001b[K\r\n",
      "remote: Counting objects: 100% (718/718), done.\u001b[K\r\n",
      "remote: Compressing objects: 100% (180/180), done.\u001b[K\r\n",
      "remote: Total 2023 (delta 532), reused 627 (delta 493), pack-reused 1305 (from 1)\u001b[K\r\n",
      "Receiving objects: 100% (2023/2023), 506.94 KiB | 10.79 MiB/s, done.\r\n",
      "Resolving deltas: 100% (1185/1185), done.\r\n",
      "xfolder='ComfyUI-Custom-Scripts'\n",
      "/kaggle/working/ComfyUI/custom_nodes/ComfyUI-Custom-Scripts\n",
      "Fetching origin\r\n",
      "Already up to date.\r\n",
      "DONE install  https://github.com/pythongosssss/ComfyUI-Custom-Scripts\n",
      "install  https://github.com/yolain/ComfyUI-Easy-Use\n",
      "/kaggle/working/ComfyUI/custom_nodes\n",
      "Cloning into 'ComfyUI-Easy-Use'...\r\n",
      "remote: Enumerating objects: 3433, done.\u001b[K\r\n",
      "remote: Counting objects: 100% (1274/1274), done.\u001b[K\r\n",
      "remote: Compressing objects: 100% (440/440), done.\u001b[K\r\n",
      "remote: Total 3433 (delta 892), reused 1140 (delta 823), pack-reused 2159 (from 1)\u001b[K\r\n",
      "Receiving objects: 100% (3433/3433), 12.76 MiB | 15.41 MiB/s, done.\r\n",
      "Resolving deltas: 100% (2384/2384), done.\r\n",
      "xfolder='ComfyUI-Easy-Use'\n",
      "/kaggle/working/ComfyUI/custom_nodes/ComfyUI-Easy-Use\n",
      "Fetching origin\r\n",
      "Already up to date.\r\n",
      "Note: you may need to restart the kernel to use updated packages.\n",
      "DONE install  https://github.com/yolain/ComfyUI-Easy-Use\n",
      "install  https://github.com/kijai/ComfyUI-KJNodes\n",
      "/kaggle/working/ComfyUI/custom_nodes\n",
      "Cloning into 'ComfyUI-KJNodes'...\r\n",
      "remote: Enumerating objects: 2205, done.\u001b[K\r\n",
      "remote: Counting objects: 100% (728/728), done.\u001b[K\r\n",
      "remote: Compressing objects: 100% (209/209), done.\u001b[K\r\n",
      "remote: Total 2205 (delta 601), reused 616 (delta 519), pack-reused 1477 (from 1)\u001b[K\r\n",
      "Receiving objects: 100% (2205/2205), 24.67 MiB | 23.48 MiB/s, done.\r\n",
      "Resolving deltas: 100% (1453/1453), done.\r\n",
      "xfolder='ComfyUI-KJNodes'\n",
      "/kaggle/working/ComfyUI/custom_nodes/ComfyUI-KJNodes\n",
      "Fetching origin\r\n",
      "Already up to date.\r\n",
      "Note: you may need to restart the kernel to use updated packages.\n",
      "DONE install  https://github.com/kijai/ComfyUI-KJNodes\n",
      "install  https://github.com/kijai/ComfyUI-Florence2\n",
      "/kaggle/working/ComfyUI/custom_nodes\n",
      "Cloning into 'ComfyUI-Florence2'...\r\n",
      "remote: Enumerating objects: 201, done.\u001b[K\r\n",
      "remote: Counting objects: 100% (111/111), done.\u001b[K\r\n",
      "remote: Compressing objects: 100% (10/10), done.\u001b[K\r\n",
      "remote: Total 201 (delta 101), reused 101 (delta 101), pack-reused 90 (from 1)\u001b[K\r\n",
      "Receiving objects: 100% (201/201), 47.03 KiB | 5.88 MiB/s, done.\r\n",
      "Resolving deltas: 100% (114/114), done.\r\n",
      "xfolder='ComfyUI-Florence2'\n",
      "/kaggle/working/ComfyUI/custom_nodes/ComfyUI-Florence2\n",
      "Fetching origin\r\n",
      "Already up to date.\r\n",
      "Note: you may need to restart the kernel to use updated packages.\n",
      "DONE install  https://github.com/kijai/ComfyUI-Florence2\n",
      "install  https://github.com/XLabs-AI/x-flux-comfyui\n",
      "/kaggle/working/ComfyUI/custom_nodes\n",
      "Cloning into 'x-flux-comfyui'...\r\n",
      "remote: Enumerating objects: 639, done.\u001b[K\r\n",
      "remote: Counting objects: 100% (246/246), done.\u001b[K\r\n",
      "remote: Compressing objects: 100% (99/99), done.\u001b[K\r\n",
      "remote: Total 639 (delta 200), reused 169 (delta 147), pack-reused 393 (from 1)\u001b[K\r\n",
      "Receiving objects: 100% (639/639), 1.76 MiB | 10.10 MiB/s, done.\r\n",
      "Resolving deltas: 100% (384/384), done.\r\n",
      "xfolder='x-flux-comfyui'\n",
      "/kaggle/working/ComfyUI/custom_nodes/x-flux-comfyui\n",
      "Fetching origin\r\n",
      "Already up to date.\r\n",
      "Note: you may need to restart the kernel to use updated packages.\n",
      "DONE install  https://github.com/XLabs-AI/x-flux-comfyui\n",
      "install  https://github.com/crystian/ComfyUI-Crystools\n",
      "/kaggle/working/ComfyUI/custom_nodes\n",
      "Cloning into 'ComfyUI-Crystools'...\r\n",
      "remote: Enumerating objects: 1697, done.\u001b[K\r\n",
      "remote: Counting objects: 100% (599/599), done.\u001b[K\r\n",
      "remote: Compressing objects: 100% (310/310), done.\u001b[K\r\n",
      "remote: Total 1697 (delta 402), reused 381 (delta 265), pack-reused 1098 (from 1)\u001b[K\r\n",
      "Receiving objects: 100% (1697/1697), 15.47 MiB | 22.95 MiB/s, done.\r\n",
      "Resolving deltas: 100% (1076/1076), done.\r\n",
      "xfolder='ComfyUI-Crystools'\n",
      "/kaggle/working/ComfyUI/custom_nodes/ComfyUI-Crystools\n",
      "Fetching origin\r\n",
      "Already up to date.\r\n",
      "Note: you may need to restart the kernel to use updated packages.\n",
      "DONE install  https://github.com/crystian/ComfyUI-Crystools\n",
      "install  https://github.com/city96/ComfyUI-GGUF\n",
      "/kaggle/working/ComfyUI/custom_nodes\n",
      "Cloning into 'ComfyUI-GGUF'...\r\n",
      "remote: Enumerating objects: 342, done.\u001b[K\r\n",
      "remote: Counting objects: 100% (187/187), done.\u001b[K\r\n",
      "remote: Compressing objects: 100% (100/100), done.\u001b[K\r\n",
      "remote: Total 342 (delta 138), reused 124 (delta 87), pack-reused 155 (from 1)\u001b[K\r\n",
      "Receiving objects: 100% (342/342), 105.59 KiB | 6.60 MiB/s, done.\r\n",
      "Resolving deltas: 100% (211/211), done.\r\n",
      "xfolder='ComfyUI-GGUF'\n",
      "/kaggle/working/ComfyUI/custom_nodes/ComfyUI-GGUF\n",
      "Fetching origin\r\n",
      "Already up to date.\r\n",
      "Note: you may need to restart the kernel to use updated packages.\n",
      "DONE install  https://github.com/city96/ComfyUI-GGUF\n",
      "install  https://github.com/revirevy/Comfyui_saveimage_imgbb\n",
      "/kaggle/working/ComfyUI/custom_nodes\n",
      "Cloning into 'Comfyui_saveimage_imgbb'...\r\n",
      "remote: Enumerating objects: 314, done.\u001b[K\r\n",
      "remote: Counting objects: 100% (159/159), done.\u001b[K\r\n",
      "remote: Compressing objects: 100% (62/62), done.\u001b[K\r\n",
      "remote: Total 314 (delta 92), reused 153 (delta 89), pack-reused 155 (from 1)\u001b[K\r\n",
      "Receiving objects: 100% (314/314), 110.31 KiB | 6.13 MiB/s, done.\r\n",
      "Resolving deltas: 100% (180/180), done.\r\n",
      "xfolder='Comfyui_saveimage_imgbb'\n",
      "/kaggle/working/ComfyUI/custom_nodes/Comfyui_saveimage_imgbb\n",
      "Fetching origin\r\n",
      "Already up to date.\r\n",
      "\u001b[31mERROR: pip's dependency resolver does not currently take into account all the packages that are installed. This behaviour is the source of the following dependency conflicts.\r\n",
      "apache-beam 2.46.0 requires cloudpickle~=2.2.1, but you have cloudpickle 3.0.0 which is incompatible.\r\n",
      "apache-beam 2.46.0 requires dill<0.3.2,>=0.3.1.1, but you have dill 0.3.8 which is incompatible.\r\n",
      "apache-beam 2.46.0 requires numpy<1.25.0,>=1.14.3, but you have numpy 1.26.4 which is incompatible.\r\n",
      "apache-beam 2.46.0 requires pyarrow<10.0.0,>=3.0.0, but you have pyarrow 16.1.0 which is incompatible.\r\n",
      "ibis-framework 7.1.0 requires pyarrow<15,>=2, but you have pyarrow 16.1.0 which is incompatible.\r\n",
      "jupyterlab 4.2.5 requires jupyter-lsp>=2.0.0, but you have jupyter-lsp 1.5.1 which is incompatible.\r\n",
      "jupyterlab-lsp 5.1.0 requires jupyter-lsp>=2.0.0, but you have jupyter-lsp 1.5.1 which is incompatible.\r\n",
      "xarray 2024.9.0 requires packaging>=23.1, but you have packaging 21.3 which is incompatible.\r\n",
      "ydata-profiling 4.10.0 requires scipy<1.14,>=1.4.1, but you have scipy 1.14.1 which is incompatible.\u001b[0m\u001b[31m\r\n",
      "\u001b[0mNote: you may need to restart the kernel to use updated packages.\n",
      "DONE install  https://github.com/revirevy/Comfyui_saveimage_imgbb\n",
      "install  https://github.com/ltdrdata/ComfyUI-Manager\n",
      "/kaggle/working/ComfyUI/custom_nodes\n",
      "Cloning into 'ComfyUI-Manager'...\r\n",
      "remote: Enumerating objects: 14330, done.\u001b[K\r\n",
      "remote: Counting objects: 100% (365/365), done.\u001b[K\r\n",
      "remote: Compressing objects: 100% (156/156), done.\u001b[K\r\n",
      "remote: Total 14330 (delta 247), reused 294 (delta 208), pack-reused 13965 (from 1)\u001b[K\r\n",
      "Receiving objects: 100% (14330/14330), 14.62 MiB | 24.15 MiB/s, done.\r\n",
      "Resolving deltas: 100% (10531/10531), done.\r\n",
      "xfolder='ComfyUI-Manager'\n",
      "/kaggle/working/ComfyUI/custom_nodes/ComfyUI-Manager\n",
      "Fetching origin\r\n",
      "Already up to date.\r\n",
      "Note: you may need to restart the kernel to use updated packages.\n",
      "DONE install  https://github.com/ltdrdata/ComfyUI-Manager\n"
     ]
    }
   ],
   "source": [
    "install_this(\"https://github.com/comfyanonymous/ComfyUI_bitsandbytes_NF4\")\n",
    "# Was node\n",
    "install_this('https://github.com/WASasquatch/was-node-suite-comfyui')\n",
    "# Rgthree\n",
    "install_this(\"https://github.com/rgthree/rgthree-comfy\")\n",
    "# REactor\n",
    "install_this(\"https://github.com/Gourieff/comfyui-reactor-node\")\n",
    "# Comfyui noise\n",
    "install_this(\"https://github.com/BlenderNeko/ComfyUI_Noise\")\n",
    "# Comfyui impact\n",
    "install_this(\"https://github.com/ltdrdata/ComfyUI-Impact-Pack\")\n",
    "# pythongossss\n",
    "install_this(\"https://github.com/pythongosssss/ComfyUI-Custom-Scripts\")\n",
    "# Comfyui easy use\n",
    "install_this(\"https://github.com/yolain/ComfyUI-Easy-Use\")\n",
    "# KJNODES\n",
    "install_this(\"https://github.com/kijai/ComfyUI-KJNodes\") \n",
    "# Flux comfyui\n",
    "install_this(\"https://github.com/kijai/ComfyUI-Florence2\") \n",
    "install_this(\"https://github.com/XLabs-AI/x-flux-comfyui\") \n",
    "install_this(\"https://github.com/crystian/ComfyUI-Crystools\") \n",
    "install_this(\"https://github.com/city96/ComfyUI-GGUF\")\n",
    "install_this(\"https://github.com/revirevy/Comfyui_saveimage_imgbb\")\n",
    "install_this(\"https://github.com/ltdrdata/ComfyUI-Manager\")"
   ]
  },
  {
   "cell_type": "code",
   "execution_count": 5,
   "id": "f9aece76",
   "metadata": {
    "execution": {
     "iopub.execute_input": "2024-10-23T08:16:07.550386Z",
     "iopub.status.busy": "2024-10-23T08:16:07.550042Z",
     "iopub.status.idle": "2024-10-23T08:16:17.331672Z",
     "shell.execute_reply": "2024-10-23T08:16:17.330570Z"
    },
    "papermill": {
     "duration": 9.81254,
     "end_time": "2024-10-23T08:16:17.334157",
     "exception": false,
     "start_time": "2024-10-23T08:16:07.521617",
     "status": "completed"
    },
    "tags": []
   },
   "outputs": [],
   "source": [
    "# !aria2c --console-log-level=error -c -x 16 -s 16 -k 1M https://huggingface.co/camenduru/FLUX.1-dev/resolve/main/flux1-dev-fp8.safetensors -d /kaggle/working/ComfyUI/models/unet -o flux1-dev-fp8.safetensors\n",
    "# !ln -s /kaggle/input/flux/pytorch/flux.1-dev/1/flux1-dev.safetensors /kaggle/working/ComfyUI/models/unet/flux1-dev.safetensors\n",
    "# !aria2c --console-log-level=error -c -x 16 -s 16 -k 1M https://huggingface.co/camenduru/FLUX.1-dev/resolve/main/ae.sft -d /kaggle/working/ComfyUI/models/vae -o ae.sft\n",
    "# !aria2c --console-log-level=error -c -x 16 -s 16 -k 1M https://huggingface.co/camenduru/FLUX.1-dev/resolve/main/clip_l.safetensors -d /kaggle/working/ComfyUI/models/clip -o clip_l.safetensors\n",
    "# !aria2c --console-log-level=error -c -x 16 -s 16 -k 1M https://huggingface.co/camenduru/FLUX.1-dev/resolve/main/t5xxl_fp8_e4m3fn.safetensors -d /kaggle/working/ComfyUI/models/clip -o t5xxl_fp8_e4m3fn.safetensors\n",
    "!ln -s /kaggle/input/clip/pytorch/t5xxl_fp8_e4m3fn/1/t5xxl_fp8_e4m3fn.safetensors /kaggle/working/ComfyUI/models/clip/t5xxl_fp8_e4m3fn.safetensors\n",
    "# !ln -s  /kaggle/input/t5-fine-tuned/transformers/t5-2/1/model.safetensors    /kaggle/working/ComfyUI/models/clip/t5-2-model.safetensors\n",
    "!ln -s /kaggle/input/t5xxl_fp16/tensorflow2/default/1/t5xxl_fp16.safetensors   /kaggle/working/ComfyUI/models/clip/t5xxl_fp16.safetensors\n",
    "# !ln -s  /kaggle/input/flan-t5/pytorch/large/3/model.safetensors             /kaggle/working/ComfyUI/models/clip/flan-t5-large-model.safetensors\n",
    "# !ln -s  /kaggle/input/clip-gpt2_t5/pytorch/1/1/net-cross-description.pt    /kaggle/working/ComfyUI/models/clip/net-cross-description.pt\n",
    "\n",
    "!ln -s /kaggle/input/florence2/transformers/default/1/Florence2_model_3/model.safetensors /kaggle/working/ComfyUI/models/LLM/Florence_model_3.safetensors\n",
    "!ln -s /kaggle/input/florence2/transformers/default/1/Florence2_model_2/model.safetensors /kaggle/working/ComfyUI/models/LLM/Florence_model_2.safetensors\n",
    "!ln -s /kaggle/input/controlnet/pytorch/flux-canny-controlnet/1/flux-canny-controlnet-v3.safetensors  /kaggle/working/ComfyUI/models/xlabs/contronets/flux-canny-controlnet-v3.safetensors\n",
    "!ln -s /kaggle/input/controlnet/pytorch/flux-depth-controlnet/1/flux-depth-controlnet-v3.safetensors  /kaggle/working/ComfyUI/models/xlabs/contronets/flux-depth-controlnet-v3.safetensors\n",
    "# !ln -s /kaggle/input/stable-diffusion-xl/pytorch/base-1-0/1/sd_xl_base_1.0_0.9vae.safetensors /kaggle/working/ComfyUI/models/checkpoints/sd_xl_base_1.0_0.9vae.safetensors\n",
    "# !ln -s /kaggle/input/stable-diffusion-xl/pytorch/base-1-0/1/sd_xl_base_1.0.safetensors /kaggle/working/ComfyUI/models/checkpoints/sd_xl_base_1.0.safetensors\n",
    "# !ln -s /kaggle/input/stoiqo-new-reality-flux-sd_f1d-pre-alpha/transformers/default/1/STOIQONewrealityFLUXSD_F1DPreAlpha.safetensors /kaggle/working/ComfyUI/models/checkpoints/STOIQONewrealityFLUXSD_F1DPreAlpha.safetensors\n",
    "!ln -s /kaggle/input/flux1devnf46stepsnsfw/pytorch/default/1/flux1DevNF46StepsNSFW_fluxdevFP86Steps.safetensors /kaggle/working/ComfyUI/models/checkpoints/flux1DevNF46StepsNSFW_fluxdevFP86Steps.safetensors\n",
    "!ln -s /kaggle/input/8stepscrearthyperfluxdevbnb_v24hyperdevfp8unet_/pytorch/default/1/8StepsCreartHyperFluxDevBnb_v24HyperDevFp8Unet.safetensors  /kaggle/working/ComfyUI/models/unet/8StepsCreartHyperFluxDevBnb_v24HyperDevFp8Unet.safetensors\n",
    "!ln -s /kaggle/input/creart-hyper-flux-dev-gguf-q4_0/gguf/default/1/CreArt-Hyper-Flux-Dev-gguf-q4_0.gguf /kaggle/working/ComfyUI/models/unet/CreArt-Hyper-Flux-Dev-gguf-q4_0.gguf\n",
    "\n",
    "!ln -s /kaggle/input/aldebodobasexl_v3mini/tensorflow2/default/1/albedobaseXL_v3Mini.safetensors /kaggle/working/ComfyUI/models/checkpoints/albedobaseXL_v3Mini.safetensors\n",
    "# /kaggle/input/aldebodobasexl_v3mini/tensorflow2/default/1/albedobaseXL_v3Mini.safetensors"
   ]
  },
  {
   "cell_type": "code",
   "execution_count": 6,
   "id": "81cc3615",
   "metadata": {
    "execution": {
     "iopub.execute_input": "2024-10-23T08:16:17.389924Z",
     "iopub.status.busy": "2024-10-23T08:16:17.389565Z",
     "iopub.status.idle": "2024-10-23T08:18:05.490058Z",
     "shell.execute_reply": "2024-10-23T08:18:05.488841Z"
    },
    "papermill": {
     "duration": 108.130938,
     "end_time": "2024-10-23T08:18:05.492461",
     "exception": false,
     "start_time": "2024-10-23T08:16:17.361523",
     "status": "completed"
    },
    "tags": []
   },
   "outputs": [
    {
     "name": "stdout",
     "output_type": "stream",
     "text": [
      "\u001b[K\u001b[?25h\r\n",
      "removed 25 packages, and changed 97 packages in 13s\r\n",
      "\r\n",
      "25 packages are looking for funding\r\n",
      "  run `npm fund` for details\r\n",
      "\u001b[1G\u001b[0K\\\u001b[1G\u001b[0K|\u001b[1G\u001b[0K/\u001b[1G\u001b[0K-\u001b[1G\u001b[0K\\\u001b[1G\u001b[0K|\u001b[1G\u001b[0K/\u001b[1G\u001b[0K-\u001b[1G\u001b[0K\\\u001b[1G\u001b[0K|\u001b[1G\u001b[0K\r\n",
      "added 22 packages in 2s\r\n",
      "\u001b[1G\u001b[0K|\u001b[1G\u001b[0K\r\n",
      "\u001b[1G\u001b[0K|\u001b[1G\u001b[0K3 packages are looking for funding\r\n",
      "\u001b[1G\u001b[0K|\u001b[1G\u001b[0K  run `npm fund` for details\r\n",
      "\u001b[1G\u001b[0K|\u001b[1G\u001b[0K[START] Security scan\n",
      "[DONE] Security scan\n",
      "## ComfyUI-Manager: installing dependencies done.\n",
      "** ComfyUI startup time: 2024-10-23 08:16:37.793120\n",
      "** Platform: Linux\n",
      "** Python version: 3.10.14 | packaged by conda-forge | (main, Mar 20 2024, 12:45:18) [GCC 12.3.0]\n",
      "** Python executable: /opt/conda/bin/python\n",
      "** ComfyUI Path: /kaggle/working/ComfyUI\n",
      "** Log path: /kaggle/working/ComfyUI/comfyui.log\n",
      "\n",
      "Prestartup times for custom nodes:\n",
      "   0.0 seconds: /kaggle/working/ComfyUI/custom_nodes/rgthree-comfy\n",
      "   0.0 seconds: /kaggle/working/ComfyUI/custom_nodes/ComfyUI-Easy-Use\n",
      "   2.3 seconds: /kaggle/working/ComfyUI/custom_nodes/ComfyUI-Manager\n",
      "\n"
     ]
    },
    {
     "name": "stderr",
     "output_type": "stream",
     "text": [
      "Set cuda device to: 0\n",
      "Total VRAM 15095 MB, total RAM 32110 MB\n",
      "pytorch version: 2.4.0\n",
      "Set vram state to: NORMAL_VRAM\n",
      "Device: cuda:0 Tesla T4 : cudaMallocAsync\n",
      "Using pytorch cross attention\n"
     ]
    },
    {
     "name": "stdout",
     "output_type": "stream",
     "text": [
      "****** User settings have been changed to be stored on the server instead of browser storage. ******\n",
      "****** For multi-user setups add the --multi-user CLI argument to enable multiple user profiles. ******\n"
     ]
    },
    {
     "name": "stderr",
     "output_type": "stream",
     "text": [
      "[Prompt Server] web root: /kaggle/working/ComfyUI/web\n",
      "/opt/conda/lib/python3.10/site-packages/kornia/feature/lightglue.py:44: FutureWarning: `torch.cuda.amp.custom_fwd(args...)` is deprecated. Please use `torch.amp.custom_fwd(args..., device_type='cuda')` instead.\n",
      "  @torch.cuda.amp.custom_fwd(cast_inputs=torch.float32)\n",
      "NumExpr defaulting to 4 threads.\n"
     ]
    },
    {
     "name": "stdout",
     "output_type": "stream",
     "text": [
      "\u001b[34mWAS Node Suite: \u001b[0mCreated default conf file at `/kaggle/working/ComfyUI/custom_nodes/was-node-suite-comfyui/was_suite_config.json`.\u001b[0m\n",
      "\u001b[34mWAS Node Suite: \u001b[0mOpenCV Python FFMPEG support is enabled\u001b[0m\n",
      "\u001b[34mWAS Node Suite \u001b[93mWarning: \u001b[0m`ffmpeg_bin_path` is not set in `/kaggle/working/ComfyUI/custom_nodes/was-node-suite-comfyui/was_suite_config.json` config file. Will attempt to use system ffmpeg binaries if available.\u001b[0m\n",
      "\u001b[34mWAS Node Suite: \u001b[0mFinished.\u001b[0m \u001b[32mLoaded\u001b[0m \u001b[0m218\u001b[0m \u001b[32mnodes successfully.\u001b[0m\n",
      "\n",
      "\t\u001b[3m\u001b[93m\"Art is not about making something perfect, it's about making something meaningful.\"\u001b[0m\u001b[3m - Unknown\u001b[0m\n",
      "\n"
     ]
    },
    {
     "name": "stderr",
     "output_type": "stream",
     "text": [
      "/opt/conda/lib/python3.10/site-packages/albumentations/__init__.py:13: UserWarning: A new version of Albumentations is available: 1.4.18 (you have 1.4.17). Upgrade using: pip install -U albumentations. To disable automatic update checks, set the environment variable NO_ALBUMENTATIONS_UPDATE to 1.\n",
      "  check_for_updates()\n"
     ]
    },
    {
     "name": "stdout",
     "output_type": "stream",
     "text": [
      "\u001b[0;33m[ReActor]\u001b[0m - \u001b[38;5;173mSTATUS\u001b[0m - \u001b[0;32mRunning v0.5.1-b2 in ComfyUI\u001b[0m\n",
      "Torch version: 2.4.0\n",
      "Creating new Ultralytics Settings v0.0.6 file ✅ \n",
      "View Ultralytics Settings with 'yolo settings' or at '/root/.config/Ultralytics/settings.json'\n",
      "Update Settings with 'yolo settings key=value', i.e. 'yolo settings runs_dir=path/to/dir'. For help see https://docs.ultralytics.com/quickstart/#ultralytics-settings.\n"
     ]
    },
    {
     "name": "stderr",
     "output_type": "stream",
     "text": [
      "Total VRAM 15095 MB, total RAM 32110 MB\n",
      "pytorch version: 2.4.0\n",
      "Set vram state to: NORMAL_VRAM\n",
      "Device: cuda:0 Tesla T4 : cudaMallocAsync\n",
      "[Impact Pack] Failed to import due to several dependencies are missing!!!!\n",
      "Traceback (most recent call last):\n",
      "  File \"/kaggle/working/ComfyUI/nodes.py\", line 2001, in load_custom_node\n",
      "    module_spec.loader.exec_module(module)\n",
      "  File \"<frozen importlib._bootstrap_external>\", line 883, in exec_module\n",
      "  File \"<frozen importlib._bootstrap>\", line 241, in _call_with_frames_removed\n",
      "  File \"/kaggle/working/ComfyUI/custom_nodes/ComfyUI-Impact-Pack/__init__.py\", line 53, in <module>\n",
      "    raise e\n",
      "  File \"/kaggle/working/ComfyUI/custom_nodes/ComfyUI-Impact-Pack/__init__.py\", line 31, in <module>\n",
      "    import impact.subpack_nodes  # This import must be done before cv2.\n",
      "ModuleNotFoundError: No module named 'impact.subpack_nodes'\n",
      "\n",
      "Cannot import /kaggle/working/ComfyUI/custom_nodes/ComfyUI-Impact-Pack module for custom nodes: No module named 'impact.subpack_nodes'\n"
     ]
    },
    {
     "name": "stdout",
     "output_type": "stream",
     "text": [
      "### Loading: ComfyUI-Impact-Pack (V7.10.5)\n",
      "\n",
      "\u001b[92m[rgthree-comfy] Loaded 42 exciting nodes. 🎉\u001b[00m\n",
      "\n",
      "\u001b[34m[ComfyUI-Easy-Use] server: \u001b[0mv1.2.4 \u001b[92mLoaded\u001b[0m\n",
      "\u001b[34m[ComfyUI-Easy-Use] web root: \u001b[0m/kaggle/working/ComfyUI/custom_nodes/ComfyUI-Easy-Use/web_version/v2 \u001b[92mLoaded\u001b[0m\n",
      "[Crystools \u001b[0;32mINFO\u001b[0m] Crystools version: 1.20.0\n",
      "[Crystools \u001b[0;32mINFO\u001b[0m] CPU: Intel(R) Xeon(R) CPU @ 2.00GHz - Arch: x86_64 - OS: Linux 5.15.154+\n",
      "[Crystools \u001b[0;32mINFO\u001b[0m] Pynvml (Nvidia) initialized.\n",
      "[Crystools \u001b[0;32mINFO\u001b[0m] GPU/s:\n",
      "[Crystools \u001b[0;32mINFO\u001b[0m] 0) Tesla T4\n",
      "[Crystools \u001b[0;32mINFO\u001b[0m] 1) Tesla T4\n",
      "[Crystools \u001b[0;32mINFO\u001b[0m] NVIDIA Driver: b'550.90.07'\n",
      "### Loading: ComfyUI-Manager (V2.51.8)\n",
      "### ComfyUI Revision: 2781 [915fdb57] | Released on '2024-10-22'\n",
      "[ComfyUI-Manager] default cache updated: https://raw.githubusercontent.com/ltdrdata/ComfyUI-Manager/main/alter-list.json\n",
      "[ComfyUI-Manager] default cache updated: https://raw.githubusercontent.com/ltdrdata/ComfyUI-Manager/main/model-list.json\n"
     ]
    },
    {
     "name": "stderr",
     "output_type": "stream",
     "text": [
      "\n",
      "Import times for custom nodes:\n",
      "   0.0 seconds: /kaggle/working/ComfyUI/custom_nodes/websocket_image_save.py\n",
      "   0.0 seconds: /kaggle/working/ComfyUI/custom_nodes/ComfyUI_bitsandbytes_NF4\n",
      "   0.0 seconds: /kaggle/working/ComfyUI/custom_nodes/ComfyUI_Noise\n",
      "   0.0 seconds (IMPORT FAILED): /kaggle/working/ComfyUI/custom_nodes/ComfyUI-Impact-Pack\n",
      "   0.0 seconds: /kaggle/working/ComfyUI/custom_nodes/ComfyUI-Custom-Scripts\n",
      "   0.0 seconds: /kaggle/working/ComfyUI/custom_nodes/ComfyUI-GGUF\n",
      "   0.0 seconds: /kaggle/working/ComfyUI/custom_nodes/rgthree-comfy\n",
      "   0.1 seconds: /kaggle/working/ComfyUI/custom_nodes/x-flux-comfyui\n",
      "   0.1 seconds: /kaggle/working/ComfyUI/custom_nodes/ComfyUI-Manager\n",
      "   0.1 seconds: /kaggle/working/ComfyUI/custom_nodes/ComfyUI-KJNodes\n",
      "   0.3 seconds: /kaggle/working/ComfyUI/custom_nodes/ComfyUI-Crystools\n",
      "   0.5 seconds: /kaggle/working/ComfyUI/custom_nodes/Comfyui_saveimage_imgbb\n",
      "   0.7 seconds: /kaggle/working/ComfyUI/custom_nodes/ComfyUI-Easy-Use\n",
      "   1.5 seconds: /kaggle/working/ComfyUI/custom_nodes/comfyui-reactor-node\n",
      "   3.5 seconds: /kaggle/working/ComfyUI/custom_nodes/was-node-suite-comfyui\n",
      "  12.0 seconds: /kaggle/working/ComfyUI/custom_nodes/ComfyUI-Florence2\n",
      "\n",
      "Starting server\n",
      "\n",
      "To see the GUI go to: http://127.0.0.1:8188\n"
     ]
    },
    {
     "name": "stdout",
     "output_type": "stream",
     "text": [
      "[ComfyUI-Manager] default cache updated: https://raw.githubusercontent.com/ltdrdata/ComfyUI-Manager/main/github-stats.json\n",
      "[ComfyUI-Manager] default cache updated: https://raw.githubusercontent.com/ltdrdata/ComfyUI-Manager/main/custom-node-list.json\n",
      "[ComfyUI-Manager] default cache updated: https://raw.githubusercontent.com/ltdrdata/ComfyUI-Manager/main/extension-node-map.json\n",
      "[START] Security scan\n",
      "[DONE] Security scan\n",
      "## ComfyUI-Manager: installing dependencies done.\n",
      "** ComfyUI startup time: 2024-10-23 08:17:07.537702\n",
      "** Platform: Linux\n",
      "** Python version: 3.10.14 | packaged by conda-forge | (main, Mar 20 2024, 12:45:18) [GCC 12.3.0]\n",
      "** Python executable: /opt/conda/bin/python\n",
      "** ComfyUI Path: /kaggle/working/ComfyUI\n",
      "** Log path: /kaggle/working/ComfyUI/comfyui.log\n",
      "\n",
      "Prestartup times for custom nodes:\n",
      "   0.0 seconds: /kaggle/working/ComfyUI/custom_nodes/rgthree-comfy\n",
      "   0.0 seconds: /kaggle/working/ComfyUI/custom_nodes/ComfyUI-Easy-Use\n",
      "   2.0 seconds: /kaggle/working/ComfyUI/custom_nodes/ComfyUI-Manager\n",
      "\n"
     ]
    },
    {
     "name": "stderr",
     "output_type": "stream",
     "text": [
      "Set cuda device to: 1\n",
      "Total VRAM 15095 MB, total RAM 32110 MB\n",
      "pytorch version: 2.4.0\n",
      "Set vram state to: NORMAL_VRAM\n",
      "Device: cuda:0 Tesla T4 : cudaMallocAsync\n",
      "Using pytorch cross attention\n",
      "[Prompt Server] web root: /kaggle/working/ComfyUI/web\n",
      "/opt/conda/lib/python3.10/site-packages/kornia/feature/lightglue.py:44: FutureWarning: `torch.cuda.amp.custom_fwd(args...)` is deprecated. Please use `torch.amp.custom_fwd(args..., device_type='cuda')` instead.\n",
      "  @torch.cuda.amp.custom_fwd(cast_inputs=torch.float32)\n",
      "NumExpr defaulting to 4 threads.\n"
     ]
    },
    {
     "name": "stdout",
     "output_type": "stream",
     "text": [
      "\u001b[34mWAS Node Suite: \u001b[0mOpenCV Python FFMPEG support is enabled\u001b[0m\n",
      "\u001b[34mWAS Node Suite \u001b[93mWarning: \u001b[0m`ffmpeg_bin_path` is not set in `/kaggle/working/ComfyUI/custom_nodes/was-node-suite-comfyui/was_suite_config.json` config file. Will attempt to use system ffmpeg binaries if available.\u001b[0m\n",
      "\u001b[34mWAS Node Suite: \u001b[0mFinished.\u001b[0m \u001b[32mLoaded\u001b[0m \u001b[0m218\u001b[0m \u001b[32mnodes successfully.\u001b[0m\n",
      "\n",
      "\t\u001b[3m\u001b[93m\"Don't watch the clock; do what it does. Keep going.\"\u001b[0m\u001b[3m - Sam Levenson\u001b[0m\n",
      "\n"
     ]
    },
    {
     "name": "stderr",
     "output_type": "stream",
     "text": [
      "/opt/conda/lib/python3.10/site-packages/albumentations/__init__.py:13: UserWarning: A new version of Albumentations is available: 1.4.18 (you have 1.4.17). Upgrade using: pip install -U albumentations. To disable automatic update checks, set the environment variable NO_ALBUMENTATIONS_UPDATE to 1.\n",
      "  check_for_updates()\n"
     ]
    },
    {
     "name": "stdout",
     "output_type": "stream",
     "text": [
      "\u001b[0;33m[ReActor]\u001b[0m - \u001b[38;5;173mSTATUS\u001b[0m - \u001b[0;32mRunning v0.5.1-b2 in ComfyUI\u001b[0m\n",
      "Torch version: 2.4.0\n"
     ]
    },
    {
     "name": "stderr",
     "output_type": "stream",
     "text": [
      "Total VRAM 15095 MB, total RAM 32110 MB\n",
      "pytorch version: 2.4.0\n",
      "Set vram state to: NORMAL_VRAM\n",
      "Device: cuda:0 Tesla T4 : cudaMallocAsync\n",
      "[Impact Pack] Failed to import due to several dependencies are missing!!!!\n",
      "Traceback (most recent call last):\n",
      "  File \"/kaggle/working/ComfyUI/nodes.py\", line 2001, in load_custom_node\n",
      "    module_spec.loader.exec_module(module)\n",
      "  File \"<frozen importlib._bootstrap_external>\", line 883, in exec_module\n",
      "  File \"<frozen importlib._bootstrap>\", line 241, in _call_with_frames_removed\n",
      "  File \"/kaggle/working/ComfyUI/custom_nodes/ComfyUI-Impact-Pack/__init__.py\", line 53, in <module>\n",
      "    raise e\n",
      "  File \"/kaggle/working/ComfyUI/custom_nodes/ComfyUI-Impact-Pack/__init__.py\", line 31, in <module>\n",
      "    import impact.subpack_nodes  # This import must be done before cv2.\n",
      "ModuleNotFoundError: No module named 'impact.subpack_nodes'\n",
      "\n",
      "Cannot import /kaggle/working/ComfyUI/custom_nodes/ComfyUI-Impact-Pack module for custom nodes: No module named 'impact.subpack_nodes'\n"
     ]
    },
    {
     "name": "stdout",
     "output_type": "stream",
     "text": [
      "### Loading: ComfyUI-Impact-Pack (V7.10.5)\n",
      "\n",
      "\u001b[92m[rgthree-comfy] Loaded 42 epic nodes. 🎉\u001b[00m\n",
      "\n",
      "\u001b[34m[ComfyUI-Easy-Use] server: \u001b[0mv1.2.4 \u001b[92mLoaded\u001b[0m\n",
      "\u001b[34m[ComfyUI-Easy-Use] web root: \u001b[0m/kaggle/working/ComfyUI/custom_nodes/ComfyUI-Easy-Use/web_version/v2 \u001b[92mLoaded\u001b[0m\n",
      "[Crystools \u001b[0;32mINFO\u001b[0m] Crystools version: 1.20.0\n",
      "[Crystools \u001b[0;32mINFO\u001b[0m] CPU: Intel(R) Xeon(R) CPU @ 2.00GHz - Arch: x86_64 - OS: Linux 5.15.154+\n",
      "[Crystools \u001b[0;32mINFO\u001b[0m] Pynvml (Nvidia) initialized.\n",
      "[Crystools \u001b[0;32mINFO\u001b[0m] GPU/s:\n",
      "[Crystools \u001b[0;32mINFO\u001b[0m] 0) Tesla T4\n",
      "[Crystools \u001b[0;32mINFO\u001b[0m] 1) Tesla T4\n",
      "[Crystools \u001b[0;32mINFO\u001b[0m] NVIDIA Driver: b'550.90.07'\n",
      "### Loading: ComfyUI-Manager (V2.51.8)\n",
      "### ComfyUI Revision: 2781 [915fdb57] | Released on '2024-10-22'\n"
     ]
    },
    {
     "name": "stderr",
     "output_type": "stream",
     "text": [
      "\n",
      "Import times for custom nodes:\n",
      "   0.0 seconds: /kaggle/working/ComfyUI/custom_nodes/websocket_image_save.py\n",
      "   0.0 seconds: /kaggle/working/ComfyUI/custom_nodes/ComfyUI_bitsandbytes_NF4\n",
      "   0.0 seconds: /kaggle/working/ComfyUI/custom_nodes/ComfyUI_Noise\n",
      "   0.0 seconds (IMPORT FAILED): /kaggle/working/ComfyUI/custom_nodes/ComfyUI-Impact-Pack\n",
      "   0.0 seconds: /kaggle/working/ComfyUI/custom_nodes/ComfyUI-Custom-Scripts\n",
      "   0.0 seconds: /kaggle/working/ComfyUI/custom_nodes/rgthree-comfy\n",
      "   0.0 seconds: /kaggle/working/ComfyUI/custom_nodes/ComfyUI-GGUF\n",
      "   0.0 seconds: /kaggle/working/ComfyUI/custom_nodes/ComfyUI-KJNodes\n",
      "   0.0 seconds: /kaggle/working/ComfyUI/custom_nodes/x-flux-comfyui\n",
      "   0.0 seconds: /kaggle/working/ComfyUI/custom_nodes/ComfyUI-Manager\n",
      "   0.1 seconds: /kaggle/working/ComfyUI/custom_nodes/ComfyUI-Crystools\n",
      "   0.4 seconds: /kaggle/working/ComfyUI/custom_nodes/ComfyUI-Easy-Use\n",
      "   0.6 seconds: /kaggle/working/ComfyUI/custom_nodes/Comfyui_saveimage_imgbb\n",
      "   0.7 seconds: /kaggle/working/ComfyUI/custom_nodes/comfyui-reactor-node\n",
      "   2.9 seconds: /kaggle/working/ComfyUI/custom_nodes/was-node-suite-comfyui\n",
      "   3.6 seconds: /kaggle/working/ComfyUI/custom_nodes/ComfyUI-Florence2\n",
      "\n",
      "Starting server\n",
      "\n",
      "To see the GUI go to: http://127.0.0.1:8189\n"
     ]
    },
    {
     "name": "stdout",
     "output_type": "stream",
     "text": [
      "[ComfyUI-Manager] default cache updated: https://raw.githubusercontent.com/ltdrdata/ComfyUI-Manager/main/alter-list.json\n",
      "[ComfyUI-Manager] default cache updated: https://raw.githubusercontent.com/ltdrdata/ComfyUI-Manager/main/model-list.json\n",
      "[ComfyUI-Manager] default cache updated: https://raw.githubusercontent.com/ltdrdata/ComfyUI-Manager/main/github-stats.json\n",
      "[ComfyUI-Manager] default cache updated: https://raw.githubusercontent.com/ltdrdata/ComfyUI-Manager/main/extension-node-map.json\n",
      "[ComfyUI-Manager] default cache updated: https://raw.githubusercontent.com/ltdrdata/ComfyUI-Manager/main/custom-node-list.json\n"
     ]
    }
   ],
   "source": [
    "import subprocess,os\n",
    "import threading\n",
    "import time\n",
    "import socket\n",
    "import urllib.request\n",
    "\n",
    "get_ipython().system(\"npm install -g npm\")\n",
    "get_ipython().system(\"npm install -g localtunnel\")\n",
    "\n",
    "def iframe_thread(port):\n",
    "  while True:\n",
    "      time.sleep(0.5)\n",
    "      sock = socket.socket(socket.AF_INET, socket.SOCK_STREAM)\n",
    "      result = sock.connect_ex(('127.0.0.1', port))\n",
    "      if result == 0:\n",
    "        break\n",
    "      sock.close()\n",
    "  print(\"\\nComfyUI finished loading, trying to launch localtunnel (if it gets stuck here localtunnel is having issues)\\n\")\n",
    "\n",
    "  print(\"The password/enpoint ip for localtunnel is:\", urllib.request.urlopen('https://ipv4.icanhazip.com').read().decode('utf8').strip(\"\\n\"))\n",
    "  p = subprocess.Popen([\"lt\", \"--port\", \"{}\".format(port)], stdout=subprocess.PIPE)\n",
    "  for line in p.stdout:\n",
    "    print(line.decode(), end='')\n",
    "\n",
    "\n",
    "# threading.Thread(target=iframe_thread, daemon=True, args=(8188,8189,)).start()\n",
    "# %cd /kaggle/working/ComfyUI/\n",
    "# # threading.Thread(target=iframe_thread, daemon=True, args=(8189,)).start()\n",
    "# !python main.py  --cuda-device 0 --port 8188; python main.py --cuda-device 1 --port 8189\n",
    "# # --dont-print-server\n",
    "\n",
    "# Change directory to ComfyUI\n",
    "os.chdir(\"/kaggle/working/ComfyUI/\")\n",
    "\n",
    "\n",
    "\n",
    "# Launch ComfyUI instances\n",
    "subprocess.Popen([\"python\", \"main.py\", \"--cuda-device\", \"0\", \"--port\", \"8188\"])\n",
    "time.sleep(30)\n",
    "subprocess.Popen([\"python\", \"main.py\", \"--cuda-device\", \"1\", \"--port\", \"8189\"])\n",
    "time.sleep(30)\n",
    "# subprocess.Popen([\"./limit_ram.sh\",\"python\", \"main.py\", \"--cuda-device\", \"0\", \"--port\", \"8188\"])\n",
    "# subprocess.Popen([\"./limit_ram.sh\",\"python\", \"main.py\", \"--cuda-device\", \"1\", \"--port\", \"8189\"])\n",
    "\n",
    "time.sleep(30)"
   ]
  },
  {
   "cell_type": "code",
   "execution_count": 7,
   "id": "8882a7df",
   "metadata": {
    "execution": {
     "iopub.execute_input": "2024-10-23T08:18:05.596126Z",
     "iopub.status.busy": "2024-10-23T08:18:05.595732Z",
     "iopub.status.idle": "2024-10-23T08:18:05.601750Z",
     "shell.execute_reply": "2024-10-23T08:18:05.601011Z"
    },
    "papermill": {
     "duration": 0.058947,
     "end_time": "2024-10-23T08:18:05.603667",
     "exception": false,
     "start_time": "2024-10-23T08:18:05.544720",
     "status": "completed"
    },
    "tags": []
   },
   "outputs": [],
   "source": [
    "# Start threads for both ports\n",
    "threading.Thread(target=iframe_thread, daemon=True, args=(8188,)).start()\n",
    "threading.Thread(target=iframe_thread, daemon=True, args=(8189,)).start()"
   ]
  },
  {
   "cell_type": "code",
   "execution_count": 8,
   "id": "90631419",
   "metadata": {
    "execution": {
     "iopub.execute_input": "2024-10-23T08:18:05.704943Z",
     "iopub.status.busy": "2024-10-23T08:18:05.704437Z",
     "iopub.status.idle": "2024-10-23T08:18:06.748577Z",
     "shell.execute_reply": "2024-10-23T08:18:06.747471Z"
    },
    "papermill": {
     "duration": 1.096956,
     "end_time": "2024-10-23T08:18:06.750678",
     "exception": false,
     "start_time": "2024-10-23T08:18:05.653722",
     "status": "completed"
    },
    "tags": []
   },
   "outputs": [
    {
     "name": "stdout",
     "output_type": "stream",
     "text": [
      "    PID TTY      STAT   TIME COMMAND\r\n",
      "     10 ?        Ss     0:00 /opt/bin/nvidia-smi -l 1 --query-gpu=index,utilizat\r\n",
      "      1 ?        Ss     0:00 /bin/bash -c EXECUTE_EXIT_CODE=0; CONVERT_EXIT_CODE\r\n",
      "      9 ?        Sl     0:03 python -c import sys;import papermill as pm;pm.exec\r\n",
      "     24 ?        Ssl    0:06  \\_ /opt/conda/bin/python -m ipykernel_launcher -f \r\n",
      "    604 ?        SLl    0:17      \\_ python main.py --cuda-device 0 --port 8188\r\n",
      "    658 ?        SLl    0:11      \\_ python main.py --cuda-device 1 --port 8189\r\n",
      "    714 pts/0    Rs+    0:00      \\_ ps fax\r\n",
      "    715 ?        Sl     0:00      \\_ node /opt/conda/bin/lt --port 8188\r\n",
      "    716 ?        Sl     0:00      \\_ node /opt/conda/bin/lt --port 8189\r\n"
     ]
    }
   ],
   "source": [
    "!ps fax"
   ]
  },
  {
   "cell_type": "code",
   "execution_count": null,
   "id": "ccc0ce39",
   "metadata": {
    "papermill": {
     "duration": 0.050343,
     "end_time": "2024-10-23T08:18:06.853513",
     "exception": false,
     "start_time": "2024-10-23T08:18:06.803170",
     "status": "completed"
    },
    "tags": []
   },
   "outputs": [],
   "source": []
  }
 ],
 "metadata": {
  "kaggle": {
   "accelerator": "nvidiaTeslaT4",
   "dataSources": [
    {
     "isSourceIdPinned": true,
     "modelId": 122985,
     "modelInstanceId": 98812,
     "sourceId": 117514,
     "sourceType": "modelInstanceVersion"
    },
    {
     "isSourceIdPinned": true,
     "modelId": 123097,
     "modelInstanceId": 98930,
     "sourceId": 117667,
     "sourceType": "modelInstanceVersion"
    },
    {
     "isSourceIdPinned": true,
     "modelId": 123105,
     "modelInstanceId": 98936,
     "sourceId": 117674,
     "sourceType": "modelInstanceVersion"
    },
    {
     "isSourceIdPinned": true,
     "modelId": 142429,
     "modelInstanceId": 119179,
     "sourceId": 140714,
     "sourceType": "modelInstanceVersion"
    },
    {
     "isSourceIdPinned": true,
     "modelId": 142437,
     "modelInstanceId": 119187,
     "sourceId": 140722,
     "sourceType": "modelInstanceVersion"
    },
    {
     "isSourceIdPinned": true,
     "modelId": 142979,
     "modelInstanceId": 119741,
     "sourceId": 141354,
     "sourceType": "modelInstanceVersion"
    },
    {
     "isSourceIdPinned": true,
     "modelId": 144580,
     "modelInstanceId": 121435,
     "sourceId": 143326,
     "sourceType": "modelInstanceVersion"
    },
    {
     "isSourceIdPinned": true,
     "modelId": 98414,
     "modelInstanceId": 73571,
     "sourceId": 87608,
     "sourceType": "modelInstanceVersion"
    },
    {
     "isSourceIdPinned": true,
     "modelId": 116511,
     "modelInstanceId": 92312,
     "sourceId": 110195,
     "sourceType": "modelInstanceVersion"
    }
   ],
   "dockerImageVersionId": 30787,
   "isGpuEnabled": true,
   "isInternetEnabled": true,
   "language": "python",
   "sourceType": "notebook"
  },
  "kernelspec": {
   "display_name": "Python 3",
   "language": "python",
   "name": "python3"
  },
  "language_info": {
   "codemirror_mode": {
    "name": "ipython",
    "version": 3
   },
   "file_extension": ".py",
   "mimetype": "text/x-python",
   "name": "python",
   "nbconvert_exporter": "python",
   "pygments_lexer": "ipython3",
   "version": "3.10.14"
  },
  "papermill": {
   "default_parameters": {},
   "duration": 427.707689,
   "end_time": "2024-10-23T08:18:09.528993",
   "environment_variables": {},
   "exception": null,
   "input_path": "__notebook__.ipynb",
   "output_path": "__notebook__.ipynb",
   "parameters": {},
   "start_time": "2024-10-23T08:11:01.821304",
   "version": "2.6.0"
  }
 },
 "nbformat": 4,
 "nbformat_minor": 5
}
